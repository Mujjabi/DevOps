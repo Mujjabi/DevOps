{
 "cells": [
  {
   "cell_type": "markdown",
   "id": "22b24f03-23eb-450a-8d28-40e7fb719785",
   "metadata": {
    "tags": []
   },
   "source": [
    "IS 445 - ACG/ACU: Data Visualization - Fall 2023\n",
    "===============================================\n",
    "Assignment 2\n",
    "-----------------------\n",
    "Student: Christopher Mujjabi\n",
    "\n",
    "### Instructions\n",
    "#### Using one of the tools that we have discussed, construct a visualization of the Illinois Building Inventory that communicates the following information:\n",
    "\n",
    "- Relationship between the year acquired and the year constructed\n",
    "- Total square footage as a function of congressional district\n",
    "- Average square footage per floor as a function of congressional district\n",
    "- Square footage for the five most common departments as a function of year\n",
    "\n",
    "Each component will be worth 5 points and must be a completely communicative visualization -- including labels and a one paragraph writeup of successes and shortcomings in your approach. Submit a notebook or a set of JSON gists to Moodle. All source code must be in these files.\n",
    "\n"
   ]
  },
  {
   "cell_type": "code",
   "execution_count": 5,
   "id": "bcc7702e-06e1-4843-807c-80710e646356",
   "metadata": {
    "tags": []
   },
   "outputs": [],
   "source": [
    "import matplotlib.pyplot as plt\n",
    "import numpy as np\n",
    "import pandas as pd"
   ]
  },
  {
   "cell_type": "markdown",
   "id": "27359bc6-c2c4-4d51-8469-5cc6723d0f77",
   "metadata": {},
   "source": [
    "#### Importing the dataset and reassigning missing values"
   ]
  },
  {
   "cell_type": "code",
   "execution_count": 3,
   "id": "5e39e793-dafd-44cc-b4d0-baf37bba588d",
   "metadata": {
    "tags": []
   },
   "outputs": [],
   "source": [
    "Data = pd.read_csv(\"building_inventory.csv\",\n",
    "                 na_values = {'Year Acquired' : 0,\n",
    "                              'Year Constructed' : 0,\n",
    "                              'Square Footage' : 0}\n",
    "                )"
   ]
  },
  {
   "cell_type": "code",
   "execution_count": 4,
   "id": "c781ece5-d7d5-4053-95ce-da67b27269d4",
   "metadata": {
    "tags": []
   },
   "outputs": [
    {
     "data": {
      "text/html": [
       "<div>\n",
       "<style scoped>\n",
       "    .dataframe tbody tr th:only-of-type {\n",
       "        vertical-align: middle;\n",
       "    }\n",
       "\n",
       "    .dataframe tbody tr th {\n",
       "        vertical-align: top;\n",
       "    }\n",
       "\n",
       "    .dataframe thead th {\n",
       "        text-align: right;\n",
       "    }\n",
       "</style>\n",
       "<table border=\"1\" class=\"dataframe\">\n",
       "  <thead>\n",
       "    <tr style=\"text-align: right;\">\n",
       "      <th></th>\n",
       "      <th>Zip code</th>\n",
       "      <th>Congress Dist</th>\n",
       "      <th>Rep Dist</th>\n",
       "      <th>Senate Dist</th>\n",
       "      <th>Year Acquired</th>\n",
       "      <th>Year Constructed</th>\n",
       "      <th>Square Footage</th>\n",
       "      <th>Total Floors</th>\n",
       "      <th>Floors Above Grade</th>\n",
       "      <th>Floors Below Grade</th>\n",
       "    </tr>\n",
       "  </thead>\n",
       "  <tbody>\n",
       "    <tr>\n",
       "      <th>count</th>\n",
       "      <td>8862.000000</td>\n",
       "      <td>8862.000000</td>\n",
       "      <td>8862.000000</td>\n",
       "      <td>8862.000000</td>\n",
       "      <td>8597.000000</td>\n",
       "      <td>8573.000000</td>\n",
       "      <td>8.805000e+03</td>\n",
       "      <td>8862.000000</td>\n",
       "      <td>8862.000000</td>\n",
       "      <td>8862.000000</td>\n",
       "    </tr>\n",
       "    <tr>\n",
       "      <th>mean</th>\n",
       "      <td>61821.076845</td>\n",
       "      <td>13.404085</td>\n",
       "      <td>92.303318</td>\n",
       "      <td>46.408599</td>\n",
       "      <td>1972.243573</td>\n",
       "      <td>1970.391928</td>\n",
       "      <td>1.155032e+04</td>\n",
       "      <td>1.636087</td>\n",
       "      <td>1.449334</td>\n",
       "      <td>0.161589</td>\n",
       "    </tr>\n",
       "    <tr>\n",
       "      <th>std</th>\n",
       "      <td>1095.203357</td>\n",
       "      <td>4.037936</td>\n",
       "      <td>23.568457</td>\n",
       "      <td>11.781038</td>\n",
       "      <td>27.549380</td>\n",
       "      <td>29.326256</td>\n",
       "      <td>3.828480e+04</td>\n",
       "      <td>1.537603</td>\n",
       "      <td>1.286898</td>\n",
       "      <td>0.392717</td>\n",
       "    </tr>\n",
       "    <tr>\n",
       "      <th>min</th>\n",
       "      <td>1235.000000</td>\n",
       "      <td>0.000000</td>\n",
       "      <td>0.000000</td>\n",
       "      <td>0.000000</td>\n",
       "      <td>1753.000000</td>\n",
       "      <td>1753.000000</td>\n",
       "      <td>9.000000e+00</td>\n",
       "      <td>0.000000</td>\n",
       "      <td>0.000000</td>\n",
       "      <td>0.000000</td>\n",
       "    </tr>\n",
       "    <tr>\n",
       "      <th>25%</th>\n",
       "      <td>61105.000000</td>\n",
       "      <td>12.000000</td>\n",
       "      <td>79.000000</td>\n",
       "      <td>40.000000</td>\n",
       "      <td>1959.000000</td>\n",
       "      <td>1957.000000</td>\n",
       "      <td>2.400000e+02</td>\n",
       "      <td>1.000000</td>\n",
       "      <td>1.000000</td>\n",
       "      <td>0.000000</td>\n",
       "    </tr>\n",
       "    <tr>\n",
       "      <th>50%</th>\n",
       "      <td>62023.000000</td>\n",
       "      <td>14.000000</td>\n",
       "      <td>97.000000</td>\n",
       "      <td>49.000000</td>\n",
       "      <td>1976.000000</td>\n",
       "      <td>1975.000000</td>\n",
       "      <td>1.664000e+03</td>\n",
       "      <td>1.000000</td>\n",
       "      <td>1.000000</td>\n",
       "      <td>0.000000</td>\n",
       "    </tr>\n",
       "    <tr>\n",
       "      <th>75%</th>\n",
       "      <td>62650.000000</td>\n",
       "      <td>16.000000</td>\n",
       "      <td>110.000000</td>\n",
       "      <td>55.000000</td>\n",
       "      <td>1993.000000</td>\n",
       "      <td>1991.000000</td>\n",
       "      <td>6.528000e+03</td>\n",
       "      <td>2.000000</td>\n",
       "      <td>1.000000</td>\n",
       "      <td>0.000000</td>\n",
       "    </tr>\n",
       "    <tr>\n",
       "      <th>max</th>\n",
       "      <td>68297.000000</td>\n",
       "      <td>18.000000</td>\n",
       "      <td>119.000000</td>\n",
       "      <td>60.000000</td>\n",
       "      <td>2019.000000</td>\n",
       "      <td>2019.000000</td>\n",
       "      <td>1.200000e+06</td>\n",
       "      <td>31.000000</td>\n",
       "      <td>30.000000</td>\n",
       "      <td>4.000000</td>\n",
       "    </tr>\n",
       "  </tbody>\n",
       "</table>\n",
       "</div>"
      ],
      "text/plain": [
       "           Zip code  Congress Dist     Rep Dist  Senate Dist  Year Acquired  \\\n",
       "count   8862.000000    8862.000000  8862.000000  8862.000000    8597.000000   \n",
       "mean   61821.076845      13.404085    92.303318    46.408599    1972.243573   \n",
       "std     1095.203357       4.037936    23.568457    11.781038      27.549380   \n",
       "min     1235.000000       0.000000     0.000000     0.000000    1753.000000   \n",
       "25%    61105.000000      12.000000    79.000000    40.000000    1959.000000   \n",
       "50%    62023.000000      14.000000    97.000000    49.000000    1976.000000   \n",
       "75%    62650.000000      16.000000   110.000000    55.000000    1993.000000   \n",
       "max    68297.000000      18.000000   119.000000    60.000000    2019.000000   \n",
       "\n",
       "       Year Constructed  Square Footage  Total Floors  Floors Above Grade  \\\n",
       "count       8573.000000    8.805000e+03   8862.000000         8862.000000   \n",
       "mean        1970.391928    1.155032e+04      1.636087            1.449334   \n",
       "std           29.326256    3.828480e+04      1.537603            1.286898   \n",
       "min         1753.000000    9.000000e+00      0.000000            0.000000   \n",
       "25%         1957.000000    2.400000e+02      1.000000            1.000000   \n",
       "50%         1975.000000    1.664000e+03      1.000000            1.000000   \n",
       "75%         1991.000000    6.528000e+03      2.000000            1.000000   \n",
       "max         2019.000000    1.200000e+06     31.000000           30.000000   \n",
       "\n",
       "       Floors Below Grade  \n",
       "count         8862.000000  \n",
       "mean             0.161589  \n",
       "std              0.392717  \n",
       "min              0.000000  \n",
       "25%              0.000000  \n",
       "50%              0.000000  \n",
       "75%              0.000000  \n",
       "max              4.000000  "
      ]
     },
     "execution_count": 4,
     "metadata": {},
     "output_type": "execute_result"
    }
   ],
   "source": [
    "Data.describe()"
   ]
  },
  {
   "cell_type": "markdown",
   "id": "c33d30d6-8554-437d-8cd5-767b709a5298",
   "metadata": {},
   "source": [
    "#### 1. Relationship between the year acquired and the year constructed"
   ]
  },
  {
   "cell_type": "code",
   "execution_count": null,
   "id": "e7431d0b-9329-4fbf-8ff0-289cda40cfd7",
   "metadata": {},
   "outputs": [],
   "source": []
  },
  {
   "cell_type": "code",
   "execution_count": null,
   "id": "aa901fa4-02d0-47c8-a502-46f00341cc0d",
   "metadata": {},
   "outputs": [],
   "source": [
    "import matplotlib.patches as patches\n",
    "import matplotlib.transforms as transforms"
   ]
  },
  {
   "cell_type": "code",
   "execution_count": null,
   "id": "652f355f-3926-42ec-a028-afa558808d6e",
   "metadata": {},
   "outputs": [],
   "source": [
    "fig, ax = plt.subplots()\n",
    "ax.plot(total_sq_acquired)\n",
    "ax.set_yscale(\"log\")\n",
    "ax.set_ylabel(\"Square Footage Acquired (Cumulative)\")\n",
    "ax.set_xlabel(\"Year (acquired\")\n",
    "              \n",
    "uiuc_annotationa1 = patches.Rectangle(1867, 1e3), 4, 1e8,\n",
    "              transform = ax.transData)\n",
    "\n",
    "my_transform = tranforms.blended_transform_factory (\n",
    "    ax.transData, ax.transAxes)\n",
    "\n",
    "uiuc_annotation = patches.Rectangle(\n",
    "    (1867, 0.0), 4, 1.0, transform = my_transform, facecolor = \"red\", alpha = 0.3\n",
    ")\n",
    "\n",
    "ax.add_patch(uiuc_annotation)"
   ]
  },
  {
   "cell_type": "code",
   "execution_count": 7,
   "id": "bcbb2c14-cda9-40db-b79a-b4fe5fd0488d",
   "metadata": {
    "tags": []
   },
   "outputs": [
    {
     "data": {
      "image/png": "[encoded data removed]",
      "text/plain": [
       "<Figure size 1400x500 with 1 Axes>"
      ]
     },
     "metadata": {},
     "output_type": "display_data"
    }
   ],
   "source": [
    "fig, ax = plt.subplots(figsize=(14,5))  # Create a figure containing a single axes.\n",
    "ax.plot([1, 2, 3, 4], [1, 4, 2, 3], color='pink', marker='+', linestyle='dashed', markersize=12, linewidth=3);  # Plot some data on the axes.\n",
    "ax.set_xlabel('Year Acquired'); # Add an x-label to the axes.\n",
    "ax.set_ylabel('Year Constructed'); # Add a y-label to the axes.\n",
    "ax.set_title('Simple Plot'); # Add a title to the axes."
   ]
  },
  {
   "cell_type": "code",
   "execution_count": null,
   "id": "9fb33eb3-cd03-4d5f-b416-88949cffa730",
   "metadata": {},
   "outputs": [],
   "source": []
  },
  {
   "cell_type": "code",
   "execution_count": null,
   "id": "702a9b55-ad46-4415-aa02-b5a7e9eb558e",
   "metadata": {},
   "outputs": [],
   "source": []
  },
  {
   "cell_type": "markdown",
   "id": "a27a3c70-5393-415b-bdcf-1c11723d962b",
   "metadata": {},
   "source": [
    "#### 2. Total square footage as a function of congressional district"
   ]
  },
  {
   "cell_type": "code",
   "execution_count": null,
   "id": "b85b7231-6717-4248-bcde-cd6c7a6e8c88",
   "metadata": {},
   "outputs": [],
   "source": []
  },
  {
   "cell_type": "code",
   "execution_count": null,
   "id": "396c5e0c-6000-4913-a60a-b8528c1a5525",
   "metadata": {},
   "outputs": [],
   "source": []
  },
  {
   "cell_type": "code",
   "execution_count": null,
   "id": "5d98a96d-265d-47c3-8285-2476c5393dd4",
   "metadata": {},
   "outputs": [],
   "source": []
  },
  {
   "cell_type": "code",
   "execution_count": null,
   "id": "ad1d57a5-0844-4acf-9c81-cee3b3a2fe01",
   "metadata": {},
   "outputs": [],
   "source": []
  },
  {
   "cell_type": "markdown",
   "id": "e7dc3dd8-04f9-4d25-b1be-d258eecfadf8",
   "metadata": {},
   "source": [
    "#### 3. Average square footage per floor as a function of congressional district"
   ]
  },
  {
   "cell_type": "code",
   "execution_count": null,
   "id": "4ba20a21-c140-4c78-81f0-6303084a661a",
   "metadata": {},
   "outputs": [],
   "source": []
  },
  {
   "cell_type": "code",
   "execution_count": null,
   "id": "1a11f6e6-6885-4bea-b692-ab8a3494ac86",
   "metadata": {},
   "outputs": [],
   "source": []
  },
  {
   "cell_type": "code",
   "execution_count": null,
   "id": "f7d115fb-807b-4ba9-8dac-39e0f7e66f99",
   "metadata": {},
   "outputs": [],
   "source": []
  },
  {
   "cell_type": "code",
   "execution_count": null,
   "id": "cf6b43e9-0933-452f-b879-fff1f1bf9f83",
   "metadata": {},
   "outputs": [],
   "source": []
  },
  {
   "cell_type": "code",
   "execution_count": null,
   "id": "d140b41c-5676-4c54-9305-473d0f417e1d",
   "metadata": {},
   "outputs": [],
   "source": []
  },
  {
   "cell_type": "markdown",
   "id": "fe02846c-e468-4586-ade0-dada31635ecc",
   "metadata": {},
   "source": [
    "#### 4. Square footage for the five most common departments as a function of year"
   ]
  },
  {
   "cell_type": "code",
   "execution_count": null,
   "id": "693b1b9a-5980-4e93-9484-3181d6485206",
   "metadata": {},
   "outputs": [],
   "source": []
  },
  {
   "cell_type": "code",
   "execution_count": null,
   "id": "44f72adf-eb24-41a8-8889-da6ff93f2b28",
   "metadata": {},
   "outputs": [],
   "source": []
  },
  {
   "cell_type": "code",
   "execution_count": null,
   "id": "03ad4a91-7105-4c72-bd0f-4f1ba5b0040c",
   "metadata": {},
   "outputs": [],
   "source": []
  },
  {
   "cell_type": "code",
   "execution_count": null,
   "id": "620a163a-4589-4e40-87e2-3184aa85eb85",
   "metadata": {},
   "outputs": [],
   "source": []
  },
  {
   "cell_type": "code",
   "execution_count": null,
   "id": "91e3e4e7-4714-41da-af1f-27fd49a51051",
   "metadata": {},
   "outputs": [],
   "source": []
  }
 ],
 "metadata": {
  "kernelspec": {
   "display_name": "Python 3 (ipykernel)",
   "language": "python",
   "name": "python3"
  },
  "language_info": {
   "codemirror_mode": {
    "name": "ipython",
    "version": 3
   },
   "file_extension": ".py",
   "mimetype": "text/x-python",
   "name": "python",
   "nbconvert_exporter": "python",
   "pygments_lexer": "ipython3",
   "version": "3.11.4"
  }
 },
 "nbformat": 4,
 "nbformat_minor": 5
}
