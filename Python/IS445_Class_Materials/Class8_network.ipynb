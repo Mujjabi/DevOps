{
 "cells": [
  {
   "cell_type": "code",
   "execution_count": 5,
   "metadata": {},
   "outputs": [],
   "source": [
    "#!pip install igraph\n",
    "#!pip install cairocffi"
   ]
  },
  {
   "cell_type": "code",
   "execution_count": 4,
   "metadata": {
    "vscode": {
     "languageId": "javascript"
    }
   },
   "outputs": [],
   "source": [
    "#!pip install --upgrade pip\n"
   ]
  },
  {
   "cell_type": "code",
   "execution_count": 6,
   "metadata": {},
   "outputs": [],
   "source": [
    "# Packages for the lab\n",
    "\n",
    "import igraph\n",
    "import bqplot\n",
    "import pandas as pd\n",
    "import numpy as np\n",
    "import matplotlib.pyplot as plt\n",
    "# for colormaps, get-cmap is the function\n",
    "from matplotlib.cm import ScalarMappable, get_cmap"
   ]
  },
  {
   "cell_type": "code",
   "execution_count": 9,
   "metadata": {},
   "outputs": [],
   "source": [
    "# Node data for bqplot\n",
    "\n",
    "node_data = [\n",
    "    {'label': 'Batman', 'shape': 'rect', 'is_villain': False},\n",
    "    {'label': 'Superman', 'shape': 'rect', 'is_villain': False},\n",
    "    {'label': 'Aquaman', 'shape': 'rect', 'is_villain': False},\n",
    "    {'label': 'Joker', 'shape': 'circle', 'is_villain': True},\n",
    "    {'label': 'Riddler', 'shape': 'circle', 'is_villain': True},\n",
    "    {'label': 'Ivy', 'shape': 'circle', 'is_villain': True},\n",
    "\n",
    "]"
   ]
  },
  {
   "cell_type": "code",
   "execution_count": 11,
   "metadata": {},
   "outputs": [],
   "source": [
    "# network\n",
    "dc_net = bqplot.Graph(node_data=node_data)"
   ]
  },
  {
   "cell_type": "code",
   "execution_count": 15,
   "metadata": {},
   "outputs": [
    {
     "data": {
      "application/vnd.jupyter.widget-view+json": {
       "model_id": "5b8e4eaa1eae4118b2a18c55ce8e3509",
       "version_major": 2,
       "version_minor": 0
      },
      "text/plain": [
       "Figure(fig_margin={'top': 60, 'bottom': 60, 'left': 60, 'right': 60}, marks=[Graph(colors=['#1f77b4', '#ff7f0e…"
      ]
     },
     "execution_count": 15,
     "metadata": {},
     "output_type": "execute_result"
    }
   ],
   "source": [
    "# fig\n",
    "fig = bqplot.Figure(marks=[dc_net])\n",
    "fig"
   ]
  },
  {
   "cell_type": "code",
   "execution_count": 16,
   "metadata": {},
   "outputs": [
    {
     "data": {
      "text/plain": [
       "[]"
      ]
     },
     "execution_count": 16,
     "metadata": {},
     "output_type": "execute_result"
    }
   ],
   "source": [
    "edge_data = [\n",
    "{'source': 0 , 'target': 1},\n",
    "{'source': 1 , 'target': 2},\n",
    "{'source': 2 , 'target': 0}\n"
   ]
  },
  {
   "cell_type": "code",
   "execution_count": null,
   "metadata": {},
   "outputs": [],
   "source": []
  },
  {
   "cell_type": "code",
   "execution_count": null,
   "metadata": {},
   "outputs": [],
   "source": [
    "# make graph as undirected\n",
    "dc_net.directed"
   ]
  },
  {
   "cell_type": "code",
   "execution_count": 17,
   "metadata": {},
   "outputs": [
    {
     "data": {
      "application/vnd.jupyter.widget-view+json": {
       "model_id": "5b8e4eaa1eae4118b2a18c55ce8e3509",
       "version_major": 2,
       "version_minor": 0
      },
      "text/plain": [
       "Figure(fig_margin={'top': 60, 'bottom': 60, 'left': 60, 'right': 60}, marks=[Graph(colors=['#1f77b4', '#ff7f0e…"
      ]
     },
     "execution_count": 17,
     "metadata": {},
     "output_type": "execute_result"
    }
   ],
   "source": [
    "dc_net.tooltip = bqplot.Tooltip(fields=['is_villain'])\n",
    "fig"
   ]
  },
  {
   "cell_type": "code",
   "execution_count": 23,
   "metadata": {},
   "outputs": [],
   "source": [
    "# putting things together\n",
    "# nodes and edges\n",
    "\n",
    "node_data = [\n",
    "    {'label': 'Batman', 'shape': 'rect', 'is_villain': False},\n",
    "    {'label': 'Superman', 'shape': 'rect', 'is_villain': False},\n",
    "    {'label': 'Aquaman', 'shape': 'rect', 'is_villain': False},\n",
    "    {'label': 'Joker', 'shape': 'circle', 'is_villain': True},\n",
    "    {'label': 'Riddler', 'shape': 'circle', 'is_villain': True},\n",
    "    {'label': 'Ivy', 'shape': 'circle', 'is_villain': True},\n",
    "\n",
    "]\n",
    "\n",
    "edge_data = [\n",
    "    {'source': 0, 'target': 1},\n",
    "    {'source': 1, 'target': 2},\n",
    "    {'source': 2, 'target': 0}]\n",
    "\n",
    "# Network\n",
    "\n",
    "dc_net = bqplot.Graph(node_data=node_data,\n",
    "                      link_data=edge_data,\n",
    "                      link_type='line',\n",
    "                      directed=False,\n",
    "                      tooltip=bqplot.Tooltip(fields=['is_villain']))"
   ]
  },
  {
   "cell_type": "code",
   "execution_count": 24,
   "metadata": {},
   "outputs": [
    {
     "data": {
      "application/vnd.jupyter.widget-view+json": {
       "model_id": "f0d0aed787c443dd996a6c5e06329d09",
       "version_major": 2,
       "version_minor": 0
      },
      "text/plain": [
       "Figure(fig_margin={'top': 60, 'bottom': 60, 'left': 60, 'right': 60}, marks=[Graph(colors=['#1f77b4', '#ff7f0e…"
      ]
     },
     "execution_count": 24,
     "metadata": {},
     "output_type": "execute_result"
    }
   ],
   "source": [
    "\n",
    "# figure\n",
    "\n",
    "fig = bqplot.Figure(marks=[dc_net])\n",
    "fig"
   ]
  },
  {
   "cell_type": "code",
   "execution_count": null,
   "metadata": {},
   "outputs": [],
   "source": []
  },
  {
   "cell_type": "markdown",
   "metadata": {},
   "source": [
    "# iGraph and Pandas"
   ]
  },
  {
   "cell_type": "code",
   "execution_count": 25,
   "metadata": {},
   "outputs": [
    {
     "data": {
      "text/html": [
       "<div>\n",
       "<style scoped>\n",
       "    .dataframe tbody tr th:only-of-type {\n",
       "        vertical-align: middle;\n",
       "    }\n",
       "\n",
       "    .dataframe tbody tr th {\n",
       "        vertical-align: top;\n",
       "    }\n",
       "\n",
       "    .dataframe thead th {\n",
       "        text-align: right;\n",
       "    }\n",
       "</style>\n",
       "<table border=\"1\" class=\"dataframe\">\n",
       "  <thead>\n",
       "    <tr style=\"text-align: right;\">\n",
       "      <th></th>\n",
       "      <th>author_1</th>\n",
       "      <th>author_2</th>\n",
       "      <th>#collaborations</th>\n",
       "    </tr>\n",
       "  </thead>\n",
       "  <tbody>\n",
       "    <tr>\n",
       "      <th>0</th>\n",
       "      <td>0</td>\n",
       "      <td>1</td>\n",
       "      <td>1</td>\n",
       "    </tr>\n",
       "    <tr>\n",
       "      <th>1</th>\n",
       "      <td>0</td>\n",
       "      <td>3</td>\n",
       "      <td>1</td>\n",
       "    </tr>\n",
       "    <tr>\n",
       "      <th>2</th>\n",
       "      <td>0</td>\n",
       "      <td>9</td>\n",
       "      <td>1</td>\n",
       "    </tr>\n",
       "    <tr>\n",
       "      <th>3</th>\n",
       "      <td>0</td>\n",
       "      <td>12</td>\n",
       "      <td>1</td>\n",
       "    </tr>\n",
       "    <tr>\n",
       "      <th>4</th>\n",
       "      <td>0</td>\n",
       "      <td>16</td>\n",
       "      <td>1</td>\n",
       "    </tr>\n",
       "    <tr>\n",
       "      <th>...</th>\n",
       "      <td>...</td>\n",
       "      <td>...</td>\n",
       "      <td>...</td>\n",
       "    </tr>\n",
       "    <tr>\n",
       "      <th>655</th>\n",
       "      <td>99</td>\n",
       "      <td>104</td>\n",
       "      <td>1</td>\n",
       "    </tr>\n",
       "    <tr>\n",
       "      <th>656</th>\n",
       "      <td>99</td>\n",
       "      <td>105</td>\n",
       "      <td>1</td>\n",
       "    </tr>\n",
       "    <tr>\n",
       "      <th>657</th>\n",
       "      <td>99</td>\n",
       "      <td>106</td>\n",
       "      <td>1</td>\n",
       "    </tr>\n",
       "    <tr>\n",
       "      <th>658</th>\n",
       "      <td>99</td>\n",
       "      <td>107</td>\n",
       "      <td>4</td>\n",
       "    </tr>\n",
       "    <tr>\n",
       "      <th>659</th>\n",
       "      <td>104</td>\n",
       "      <td>106</td>\n",
       "      <td>1</td>\n",
       "    </tr>\n",
       "  </tbody>\n",
       "</table>\n",
       "<p>660 rows × 3 columns</p>\n",
       "</div>"
      ],
      "text/plain": [
       "     author_1  author_2  #collaborations\n",
       "0           0         1                1\n",
       "1           0         3                1\n",
       "2           0         9                1\n",
       "3           0        12                1\n",
       "4           0        16                1\n",
       "..        ...       ...              ...\n",
       "655        99       104                1\n",
       "656        99       105                1\n",
       "657        99       106                1\n",
       "658        99       107                4\n",
       "659       104       106                1\n",
       "\n",
       "[660 rows x 3 columns]"
      ]
     },
     "execution_count": 25,
     "metadata": {},
     "output_type": "execute_result"
    }
   ],
   "source": [
    "f = 'https://media.githubusercontent.com/media/TK-Hsiao/TK-Hsiao.github.io/master/data/coauthors.csv'\n",
    "edge_list = pd.read_csv(f)\n",
    "edge_list"
   ]
  },
  {
   "cell_type": "code",
   "execution_count": 27,
   "metadata": {},
   "outputs": [],
   "source": [
    "n_nodes = len(set(edge_list['author_1'].tolist() +\n",
    "              edge_list['author_2'].tolist()))\n",
    "edges = edge_list[['author_1', 'author_2']].values.tolist()"
   ]
  },
  {
   "cell_type": "code",
   "execution_count": 28,
   "metadata": {},
   "outputs": [
    {
     "data": {
      "text/plain": [
       "<igraph.Graph at 0x1e199bd5640>"
      ]
     },
     "execution_count": 28,
     "metadata": {},
     "output_type": "execute_result"
    }
   ],
   "source": [
    "coauthor_net = igraph.Graph(n=n_nodes, edges=edges, directed=False)\n",
    "coauthor_net"
   ]
  },
  {
   "cell_type": "code",
   "execution_count": null,
   "metadata": {},
   "outputs": [],
   "source": [
    "fig, ax = plt.subplots"
   ]
  },
  {
   "cell_type": "code",
   "execution_count": 30,
   "metadata": {},
   "outputs": [],
   "source": [
    "# calculate degree and betweenness centrality\n",
    "coauthor_net.vs['degree'] = coauthor_net.degree(mode='all')\n",
    "coauthor_net.vs['betweenness'] = coauthor_net.betweenness(directed=False)"
   ]
  },
  {
   "cell_type": "code",
   "execution_count": 31,
   "metadata": {},
   "outputs": [
    {
     "name": "stdout",
     "output_type": "stream",
     "text": [
      "degree centrality:\n",
      "[26, 26, 2, 26, 13, 3, 13, 2, 1, 36, 4, 2, 26, 3, 13, 9, 26, 26, 1, 7, 29, 3, 5, 4, 4, 26, 1, 13, 13, 3, 1, 8, 8, 5, 5, 2, 26, 8, 13, 4, 2, 26, 3, 3, 4, 4, 4, 9, 6, 30, 26, 2, 26, 26, 26, 26, 5, 15, 3, 2, 6, 10, 2, 26, 13, 4, 4, 13, 31, 26, 3, 1, 8, 1, 26, 13, 2, 26, 2, 3, 2, 30, 26, 8, 9, 8, 13, 2, 5, 4, 26, 2, 40, 38, 12, 8, 3, 13, 9, 107, 13, 1, 4, 12, 3, 2, 3, 3]\n",
      "Betweenness centrality\n",
      "[0.0, 0.0, 0.0, 0.0, 0.0, 0.0, 0.0, 0.0, 0.0, 98.09285714285716, 0.0, 0.0, 0.0, 0.0, 0.0, 0.0, 0.0, 0.0, 0.0, 1.7000000000000002, 16.826190476190476, 0.0, 0.0, 0.0, 0.0, 0.0, 0.0, 0.0, 0.0, 0.0, 0.0, 0.0, 0.0, 0.0, 0.0, 0.0, 0.0, 0.0, 0.0, 0.0, 0.0, 0.0, 0.0, 0.0, 0.0, 0.0, 0.0, 0.0, 0.0, 23.776190476190475, 0.0, 0.0, 0.0, 0.0, 0.0, 0.0, 0.0, 12.0, 0.0, 0.0, 0.0, 2.333333333333333, 0.0, 0.0, 0.0, 0.0, 0.0, 0.0, 60.33333333333333, 0.0, 0.0, 0.0, 0.0, 0.0, 0.0, 0.0, 0.0, 0.0, 0.0, 0.0, 0.0, 23.776190476190475, 0.0, 0.0, 0.0, 5.5, 0.0, 0.0, 0.0, 0.0, 0.0, 0.0, 307.73333333333335, 134.15952380952385, 9.666666666666668, 0.0, 0.0, 0.0, 0.0, 4412.292857142859, 0.0, 0.0, 0.0, 9.80952380952381, 0.0, 0.0, 0.0, 0.0]\n"
     ]
    }
   ],
   "source": [
    "print('degree centrality:')\n",
    "print(coauthor_net.vs['degree'])\n",
    "print(\"Betweenness centrality\")\n",
    "print(coauthor_net.vs['betweenness'])"
   ]
  }
 ],
 "metadata": {
  "kernelspec": {
   "display_name": "Python 3",
   "language": "python",
   "name": "python3"
  },
  "language_info": {
   "codemirror_mode": {
    "name": "ipython",
    "version": 3
   },
   "file_extension": ".py",
   "mimetype": "text/x-python",
   "name": "python",
   "nbconvert_exporter": "python",
   "pygments_lexer": "ipython3",
   "version": "3.10.4"
  }
 },
 "nbformat": 4,
 "nbformat_minor": 2
}
