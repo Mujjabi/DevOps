{
 "cells": [
  {
   "cell_type": "code",
   "execution_count": 1,
   "metadata": {},
   "outputs": [
    {
     "name": "stdout",
     "output_type": "stream",
     "text": [
      "Defaulting to user installation because normal site-packages is not writeable\n",
      "Collecting igraph\n",
      "  Downloading igraph-0.11.2-cp39-abi3-win_amd64.whl (2.9 MB)\n",
      "     ---------------------------------------- 2.9/2.9 MB 23.1 MB/s eta 0:00:00\n",
      "Collecting texttable>=1.6.2\n",
      "  Downloading texttable-1.7.0-py2.py3-none-any.whl (10 kB)\n",
      "Installing collected packages: texttable, igraph\n",
      "Successfully installed igraph-0.11.2 texttable-1.7.0\n"
     ]
    },
    {
     "name": "stderr",
     "output_type": "stream",
     "text": [
      "WARNING: You are using pip version 22.0.4; however, version 23.3 is available.\n",
      "You should consider upgrading via the 'C:\\Program Files\\Python310\\python.exe -m pip install --upgrade pip' command.\n"
     ]
    },
    {
     "name": "stdout",
     "output_type": "stream",
     "text": [
      "Defaulting to user installation because normal site-packages is not writeable\n",
      "Collecting cairocffi\n",
      "  Downloading cairocffi-1.6.1-py3-none-any.whl (75 kB)\n",
      "     ---------------------------------------- 75.1/75.1 KB 4.3 MB/s eta 0:00:00\n",
      "Requirement already satisfied: cffi>=1.1.0 in c:\\users\\mujjabi2\\appdata\\roaming\\python\\python310\\site-packages (from cairocffi) (1.15.1)\n",
      "Requirement already satisfied: pycparser in c:\\users\\mujjabi2\\appdata\\roaming\\python\\python310\\site-packages (from cffi>=1.1.0->cairocffi) (2.21)\n",
      "Installing collected packages: cairocffi\n",
      "Successfully installed cairocffi-1.6.1\n"
     ]
    },
    {
     "name": "stderr",
     "output_type": "stream",
     "text": [
      "WARNING: You are using pip version 22.0.4; however, version 23.3 is available.\n",
      "You should consider upgrading via the 'C:\\Program Files\\Python310\\python.exe -m pip install --upgrade pip' command.\n"
     ]
    }
   ],
   "source": [
    "!pip install igraph\n",
    "!pip install cairocffi"
   ]
  },
  {
   "cell_type": "code",
   "execution_count": null,
   "metadata": {},
   "outputs": [],
   "source": []
  }
 ],
 "metadata": {
  "kernelspec": {
   "display_name": "Python 3",
   "language": "python",
   "name": "python3"
  },
  "language_info": {
   "codemirror_mode": {
    "name": "ipython",
    "version": 3
   },
   "file_extension": ".py",
   "mimetype": "text/x-python",
   "name": "python",
   "nbconvert_exporter": "python",
   "pygments_lexer": "ipython3",
   "version": "3.10.4"
  }
 },
 "nbformat": 4,
 "nbformat_minor": 2
}
