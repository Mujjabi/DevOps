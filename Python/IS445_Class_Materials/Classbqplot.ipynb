{
 "cells": [
  {
   "cell_type": "code",
   "execution_count": 1,
   "metadata": {},
   "outputs": [],
   "source": [
    "import bqplot"
   ]
  },
  {
   "cell_type": "code",
   "execution_count": 3,
   "metadata": {},
   "outputs": [],
   "source": [
    "fig = bqplot.Figure()"
   ]
  },
  {
   "cell_type": "code",
   "execution_count": 4,
   "metadata": {},
   "outputs": [
    {
     "data": {
      "application/vnd.jupyter.widget-view+json": {
       "model_id": "8652d7c4438a49c6bc9925b791f6d7bb",
       "version_major": 2,
       "version_minor": 0
      },
      "text/plain": [
       "Figure(fig_margin={'top': 60, 'bottom': 60, 'left': 60, 'right': 60}, scale_x=LinearScale(allow_padding=False,…"
      ]
     },
     "execution_count": 4,
     "metadata": {},
     "output_type": "execute_result"
    }
   ],
   "source": [
    "fig"
   ]
  },
  {
   "cell_type": "code",
   "execution_count": 6,
   "metadata": {},
   "outputs": [
    {
     "data": {
      "text/plain": [
       "{'_dom_classes': <ipywidgets.widgets.trait_types.TypedTuple at 0x224842ccf10>,\n",
       " '_model_module': <traitlets.traitlets.Unicode at 0x2248c733760>,\n",
       " '_model_module_version': <traitlets.traitlets.Unicode at 0x2248c7337c0>,\n",
       " '_model_name': <traitlets.traitlets.Unicode at 0x2248c733700>,\n",
       " '_msg_callbacks': <traitlets.traitlets.Instance at 0x224842eaaa0>,\n",
       " '_property_lock': <traitlets.traitlets.Dict at 0x224842eaa40>,\n",
       " '_states_to_send': <traitlets.traitlets.Set at 0x224842eaa70>,\n",
       " '_view_count': <traitlets.traitlets.Int at 0x224842ea950>,\n",
       " '_view_module': <traitlets.traitlets.Unicode at 0x2248c733730>,\n",
       " '_view_module_version': <traitlets.traitlets.Unicode at 0x2248c733790>,\n",
       " '_view_name': <traitlets.traitlets.Unicode at 0x2248c7336d0>,\n",
       " 'animation_duration': <traitlets.traitlets.Int at 0x2248c733580>,\n",
       " 'axes': <traitlets.traitlets.List at 0x2248c732b30>,\n",
       " 'background_style': <traitlets.traitlets.Dict at 0x2248c733370>,\n",
       " 'comm': <traitlets.traitlets.Any at 0x224842ea980>,\n",
       " 'fig_margin': <traitlets.traitlets.Dict at 0x2248c7334c0>,\n",
       " 'interaction': <traitlets.traitlets.Instance at 0x2248c733280>,\n",
       " 'keys': <traitlets.traitlets.List at 0x224842ea9b0>,\n",
       " 'layout': <ipywidgets.widgets.trait_types.InstanceDict at 0x224842cdc00>,\n",
       " 'legend_location': <traitlets.traitlets.Enum at 0x2248c733550>,\n",
       " 'legend_style': <traitlets.traitlets.Dict at 0x2248c7333a0>,\n",
       " 'legend_text': <traitlets.traitlets.Dict at 0x2248c7333d0>,\n",
       " 'log': <traitlets.traitlets.Instance at 0x224842e92d0>,\n",
       " 'marks': <traitlets.traitlets.List at 0x2248c733250>,\n",
       " 'max_aspect_ratio': <traitlets.traitlets.Float at 0x2248c733460>,\n",
       " 'min_aspect_ratio': <traitlets.traitlets.Float at 0x2248c733430>,\n",
       " 'padding_x': <traitlets.traitlets.Float at 0x2248c7334f0>,\n",
       " 'padding_y': <traitlets.traitlets.Float at 0x2248c733520>,\n",
       " 'pixel_ratio': <traitlets.traitlets.Float at 0x2248c733490>,\n",
       " 'scale_x': <traitlets.traitlets.Instance at 0x2248c7332b0>,\n",
       " 'scale_y': <traitlets.traitlets.Instance at 0x2248c7332e0>,\n",
       " 'tabbable': <traitlets.traitlets.Bool at 0x224842ce0e0>,\n",
       " 'theme': <traitlets.traitlets.Enum at 0x2248c733400>,\n",
       " 'title': <traitlets.traitlets.Unicode at 0x22484439cf0>,\n",
       " 'title_style': <traitlets.traitlets.Dict at 0x2248c733340>,\n",
       " 'tooltip': <traitlets.traitlets.Unicode at 0x224842ce950>}"
      ]
     },
     "execution_count": 6,
     "metadata": {},
     "output_type": "execute_result"
    }
   ],
   "source": [
    "fig.traits()"
   ]
  },
  {
   "cell_type": "code",
   "execution_count": 7,
   "metadata": {},
   "outputs": [
    {
     "data": {
      "application/vnd.jupyter.widget-view+json": {
       "model_id": "8652d7c4438a49c6bc9925b791f6d7bb",
       "version_major": 2,
       "version_minor": 0
      },
      "text/plain": [
       "Figure(fig_margin={'top': 60, 'bottom': 60, 'left': 60, 'right': 60}, scale_x=LinearScale(allow_padding=False,…"
      ]
     },
     "execution_count": 7,
     "metadata": {},
     "output_type": "execute_result"
    }
   ],
   "source": [
    "fig"
   ]
  },
  {
   "cell_type": "code",
   "execution_count": 9,
   "metadata": {},
   "outputs": [],
   "source": [
    "fig.title = \"My First Figure\""
   ]
  },
  {
   "cell_type": "code",
   "execution_count": 10,
   "metadata": {},
   "outputs": [],
   "source": [
    "import numpy as np"
   ]
  },
  {
   "cell_type": "code",
   "execution_count": 12,
   "metadata": {},
   "outputs": [],
   "source": [
    "x = np.mgrid[0.0:12.0:1024j]\n",
    "y = np.sin(x)"
   ]
  },
  {
   "cell_type": "code",
   "execution_count": 46,
   "metadata": {},
   "outputs": [],
   "source": [
    "x_sc = bqplot.LinearScale\n",
    "y_sc = bqplot.LinearScale"
   ]
  },
  {
   "cell_type": "code",
   "execution_count": 14,
   "metadata": {},
   "outputs": [],
   "source": [
    "line = bqplot.Lines"
   ]
  },
  {
   "cell_type": "code",
   "execution_count": 16,
   "metadata": {},
   "outputs": [
    {
     "data": {
      "text/plain": [
       "<function traitlets.traitlets.HasTraits.traits(self, **metadata)>"
      ]
     },
     "execution_count": 16,
     "metadata": {},
     "output_type": "execute_result"
    }
   ],
   "source": [
    "line.traits"
   ]
  },
  {
   "cell_type": "code",
   "execution_count": 18,
   "metadata": {},
   "outputs": [
    {
     "ename": "TraitError",
     "evalue": "Values of the 'scales' trait of a Lines instance must be a Scale, but a value of <class 'bqplot.scales.LinearScale'> <class 'traitlets.traitlets.MetaHasTraits'> was specified.",
     "output_type": "error",
     "traceback": [
      "\u001b[1;31m---------------------------------------------------------------------------\u001b[0m",
      "\u001b[1;31mTraitError\u001b[0m                                Traceback (most recent call last)",
      "File \u001b[1;32m~\\AppData\\Roaming\\Python\\Python310\\site-packages\\traitlets\\traitlets.py:3385\u001b[0m, in \u001b[0;36mDict.validate_elements\u001b[1;34m(self, obj, value)\u001b[0m\n\u001b[0;32m   3384\u001b[0m \u001b[39mtry\u001b[39;00m:\n\u001b[1;32m-> 3385\u001b[0m     v \u001b[39m=\u001b[39m active_value_trait\u001b[39m.\u001b[39;49m_validate(obj, v)\n\u001b[0;32m   3386\u001b[0m \u001b[39mexcept\u001b[39;00m TraitError:\n",
      "File \u001b[1;32m~\\AppData\\Roaming\\Python\\Python310\\site-packages\\traitlets\\traitlets.py:738\u001b[0m, in \u001b[0;36mTraitType._validate\u001b[1;34m(self, obj, value)\u001b[0m\n\u001b[0;32m    737\u001b[0m \u001b[39mif\u001b[39;00m \u001b[39mhasattr\u001b[39m(\u001b[39mself\u001b[39m, \u001b[39m\"\u001b[39m\u001b[39mvalidate\u001b[39m\u001b[39m\"\u001b[39m):\n\u001b[1;32m--> 738\u001b[0m     value \u001b[39m=\u001b[39m \u001b[39mself\u001b[39;49m\u001b[39m.\u001b[39;49mvalidate(obj, value)\n\u001b[0;32m    739\u001b[0m \u001b[39mif\u001b[39;00m obj\u001b[39m.\u001b[39m_cross_validation_lock \u001b[39mis\u001b[39;00m \u001b[39mFalse\u001b[39;00m:\n",
      "File \u001b[1;32m~\\AppData\\Roaming\\Python\\Python310\\site-packages\\traitlets\\traitlets.py:2151\u001b[0m, in \u001b[0;36mInstance.validate\u001b[1;34m(self, obj, value)\u001b[0m\n\u001b[0;32m   2150\u001b[0m \u001b[39melse\u001b[39;00m:\n\u001b[1;32m-> 2151\u001b[0m     \u001b[39mself\u001b[39;49m\u001b[39m.\u001b[39;49merror(obj, value)\n",
      "File \u001b[1;32m~\\AppData\\Roaming\\Python\\Python310\\site-packages\\traitlets\\traitlets.py:828\u001b[0m, in \u001b[0;36mTraitType.error\u001b[1;34m(self, obj, value, error, info)\u001b[0m\n\u001b[0;32m    826\u001b[0m \u001b[39mif\u001b[39;00m \u001b[39mself\u001b[39m\u001b[39m.\u001b[39mname \u001b[39mis\u001b[39;00m \u001b[39mNone\u001b[39;00m:\n\u001b[0;32m    827\u001b[0m     \u001b[39m# this is not the root trait\u001b[39;00m\n\u001b[1;32m--> 828\u001b[0m     \u001b[39mraise\u001b[39;00m TraitError(value, info \u001b[39mor\u001b[39;00m \u001b[39mself\u001b[39m\u001b[39m.\u001b[39minfo(), \u001b[39mself\u001b[39m)\n\u001b[0;32m    829\u001b[0m \u001b[39melse\u001b[39;00m:\n\u001b[0;32m    830\u001b[0m     \u001b[39m# this is the root trait\u001b[39;00m\n",
      "\u001b[1;31mTraitError\u001b[0m: (<class 'bqplot.scales.LinearScale'>, 'a Scale', <traitlets.traitlets.Instance object at 0x000002248C6E4BE0>)",
      "\nDuring handling of the above exception, another exception occurred:\n",
      "\u001b[1;31mTraitError\u001b[0m                                Traceback (most recent call last)",
      "\u001b[1;32mc:\\Users\\mujjabi2\\OneDrive - University of Illinois - Urbana\\DevOps Course\\Remote_Repositories\\AWS_Server_Repo\\DevOps\\Python\\IS445_Class_Materials\\Classbqplot.ipynb Cell 12\u001b[0m line \u001b[0;36m1\n\u001b[1;32m----> <a href='vscode-notebook-cell:/c%3A/Users/mujjabi2/OneDrive%20-%20University%20of%20Illinois%20-%20Urbana/DevOps%20Course/Remote_Repositories/AWS_Server_Repo/DevOps/Python/IS445_Class_Materials/Classbqplot.ipynb#X16sZmlsZQ%3D%3D?line=0'>1</a>\u001b[0m line \u001b[39m=\u001b[39m bqplot\u001b[39m.\u001b[39;49mLines(x \u001b[39m=\u001b[39;49m x , y \u001b[39m=\u001b[39;49m y, scales \u001b[39m=\u001b[39;49m {\u001b[39m'\u001b[39;49m\u001b[39mx\u001b[39;49m\u001b[39m'\u001b[39;49m:x_sc, \u001b[39m'\u001b[39;49m\u001b[39my\u001b[39;49m\u001b[39m'\u001b[39;49m:y_sc})\n",
      "File \u001b[1;32m~\\AppData\\Roaming\\Python\\Python310\\site-packages\\bqplot\\marks.py:242\u001b[0m, in \u001b[0;36mMark.__init__\u001b[1;34m(self, **kwargs)\u001b[0m\n\u001b[0;32m    241\u001b[0m \u001b[39mdef\u001b[39;00m \u001b[39m__init__\u001b[39m(\u001b[39mself\u001b[39m, \u001b[39m*\u001b[39m\u001b[39m*\u001b[39mkwargs):\n\u001b[1;32m--> 242\u001b[0m     \u001b[39msuper\u001b[39m(Mark, \u001b[39mself\u001b[39m)\u001b[39m.\u001b[39m\u001b[39m__init__\u001b[39m(\u001b[39m*\u001b[39m\u001b[39m*\u001b[39mkwargs)\n\u001b[0;32m    243\u001b[0m     \u001b[39mself\u001b[39m\u001b[39m.\u001b[39m_hover_handlers \u001b[39m=\u001b[39m CallbackDispatcher()\n\u001b[0;32m    244\u001b[0m     \u001b[39mself\u001b[39m\u001b[39m.\u001b[39m_click_handlers \u001b[39m=\u001b[39m CallbackDispatcher()\n",
      "File \u001b[1;32m~\\AppData\\Roaming\\Python\\Python310\\site-packages\\ipywidgets\\widgets\\widget.py:503\u001b[0m, in \u001b[0;36mWidget.__init__\u001b[1;34m(self, **kwargs)\u001b[0m\n\u001b[0;32m    501\u001b[0m \u001b[39m\u001b[39m\u001b[39m\"\"\"Public constructor\"\"\"\u001b[39;00m\n\u001b[0;32m    502\u001b[0m \u001b[39mself\u001b[39m\u001b[39m.\u001b[39m_model_id \u001b[39m=\u001b[39m kwargs\u001b[39m.\u001b[39mpop(\u001b[39m'\u001b[39m\u001b[39mmodel_id\u001b[39m\u001b[39m'\u001b[39m, \u001b[39mNone\u001b[39;00m)\n\u001b[1;32m--> 503\u001b[0m \u001b[39msuper\u001b[39m()\u001b[39m.\u001b[39m\u001b[39m__init__\u001b[39m(\u001b[39m*\u001b[39m\u001b[39m*\u001b[39mkwargs)\n\u001b[0;32m    505\u001b[0m Widget\u001b[39m.\u001b[39m_call_widget_constructed(\u001b[39mself\u001b[39m)\n\u001b[0;32m    506\u001b[0m \u001b[39mself\u001b[39m\u001b[39m.\u001b[39mopen()\n",
      "File \u001b[1;32m~\\AppData\\Roaming\\Python\\Python310\\site-packages\\traitlets\\traitlets.py:1347\u001b[0m, in \u001b[0;36mHasTraits.__init__\u001b[1;34m(self, *args, **kwargs)\u001b[0m\n\u001b[0;32m   1345\u001b[0m \u001b[39mfor\u001b[39;00m key, value \u001b[39min\u001b[39;00m kwargs\u001b[39m.\u001b[39mitems():\n\u001b[0;32m   1346\u001b[0m     \u001b[39mif\u001b[39;00m \u001b[39mself\u001b[39m\u001b[39m.\u001b[39mhas_trait(key):\n\u001b[1;32m-> 1347\u001b[0m         \u001b[39msetattr\u001b[39;49m(\u001b[39mself\u001b[39;49m, key, value)\n\u001b[0;32m   1348\u001b[0m         changes[key] \u001b[39m=\u001b[39m Bunch(\n\u001b[0;32m   1349\u001b[0m             name\u001b[39m=\u001b[39mkey,\n\u001b[0;32m   1350\u001b[0m             old\u001b[39m=\u001b[39m\u001b[39mNone\u001b[39;00m,\n\u001b[1;32m   (...)\u001b[0m\n\u001b[0;32m   1353\u001b[0m             \u001b[39mtype\u001b[39m\u001b[39m=\u001b[39m\u001b[39m\"\u001b[39m\u001b[39mchange\u001b[39m\u001b[39m\"\u001b[39m,\n\u001b[0;32m   1354\u001b[0m         )\n\u001b[0;32m   1355\u001b[0m     \u001b[39melse\u001b[39;00m:\n\u001b[0;32m   1356\u001b[0m         \u001b[39m# passthrough args that don't set traits to super\u001b[39;00m\n",
      "File \u001b[1;32m~\\AppData\\Roaming\\Python\\Python310\\site-packages\\traitlets\\traitlets.py:732\u001b[0m, in \u001b[0;36mTraitType.__set__\u001b[1;34m(self, obj, value)\u001b[0m\n\u001b[0;32m    730\u001b[0m     \u001b[39mraise\u001b[39;00m TraitError(\u001b[39m'\u001b[39m\u001b[39mThe \u001b[39m\u001b[39m\"\u001b[39m\u001b[39m%s\u001b[39;00m\u001b[39m\"\u001b[39m\u001b[39m trait is read-only.\u001b[39m\u001b[39m'\u001b[39m \u001b[39m%\u001b[39m \u001b[39mself\u001b[39m\u001b[39m.\u001b[39mname)\n\u001b[0;32m    731\u001b[0m \u001b[39melse\u001b[39;00m:\n\u001b[1;32m--> 732\u001b[0m     \u001b[39mself\u001b[39;49m\u001b[39m.\u001b[39;49mset(obj, value)\n",
      "File \u001b[1;32m~\\AppData\\Roaming\\Python\\Python310\\site-packages\\traitlets\\traitlets.py:706\u001b[0m, in \u001b[0;36mTraitType.set\u001b[1;34m(self, obj, value)\u001b[0m\n\u001b[0;32m    705\u001b[0m \u001b[39mdef\u001b[39;00m \u001b[39mset\u001b[39m(\u001b[39mself\u001b[39m, obj, value):\n\u001b[1;32m--> 706\u001b[0m     new_value \u001b[39m=\u001b[39m \u001b[39mself\u001b[39;49m\u001b[39m.\u001b[39;49m_validate(obj, value)\n\u001b[0;32m    707\u001b[0m     \u001b[39mtry\u001b[39;00m:\n\u001b[0;32m    708\u001b[0m         old_value \u001b[39m=\u001b[39m obj\u001b[39m.\u001b[39m_trait_values[\u001b[39mself\u001b[39m\u001b[39m.\u001b[39mname]\n",
      "File \u001b[1;32m~\\AppData\\Roaming\\Python\\Python310\\site-packages\\traitlets\\traitlets.py:738\u001b[0m, in \u001b[0;36mTraitType._validate\u001b[1;34m(self, obj, value)\u001b[0m\n\u001b[0;32m    736\u001b[0m     \u001b[39mreturn\u001b[39;00m value\n\u001b[0;32m    737\u001b[0m \u001b[39mif\u001b[39;00m \u001b[39mhasattr\u001b[39m(\u001b[39mself\u001b[39m, \u001b[39m\"\u001b[39m\u001b[39mvalidate\u001b[39m\u001b[39m\"\u001b[39m):\n\u001b[1;32m--> 738\u001b[0m     value \u001b[39m=\u001b[39m \u001b[39mself\u001b[39;49m\u001b[39m.\u001b[39;49mvalidate(obj, value)\n\u001b[0;32m    739\u001b[0m \u001b[39mif\u001b[39;00m obj\u001b[39m.\u001b[39m_cross_validation_lock \u001b[39mis\u001b[39;00m \u001b[39mFalse\u001b[39;00m:\n\u001b[0;32m    740\u001b[0m     value \u001b[39m=\u001b[39m \u001b[39mself\u001b[39m\u001b[39m.\u001b[39m_cross_validate(obj, value)\n",
      "File \u001b[1;32m~\\AppData\\Roaming\\Python\\Python310\\site-packages\\traitlets\\traitlets.py:3364\u001b[0m, in \u001b[0;36mDict.validate\u001b[1;34m(self, obj, value)\u001b[0m\n\u001b[0;32m   3362\u001b[0m \u001b[39mif\u001b[39;00m value \u001b[39mis\u001b[39;00m \u001b[39mNone\u001b[39;00m:\n\u001b[0;32m   3363\u001b[0m     \u001b[39mreturn\u001b[39;00m value\n\u001b[1;32m-> 3364\u001b[0m value \u001b[39m=\u001b[39m \u001b[39mself\u001b[39;49m\u001b[39m.\u001b[39;49mvalidate_elements(obj, value)\n\u001b[0;32m   3365\u001b[0m \u001b[39mreturn\u001b[39;00m value\n",
      "File \u001b[1;32m~\\AppData\\Roaming\\Python\\Python310\\site-packages\\traitlets\\traitlets.py:3387\u001b[0m, in \u001b[0;36mDict.validate_elements\u001b[1;34m(self, obj, value)\u001b[0m\n\u001b[0;32m   3385\u001b[0m             v \u001b[39m=\u001b[39m active_value_trait\u001b[39m.\u001b[39m_validate(obj, v)\n\u001b[0;32m   3386\u001b[0m         \u001b[39mexcept\u001b[39;00m TraitError:\n\u001b[1;32m-> 3387\u001b[0m             \u001b[39mself\u001b[39;49m\u001b[39m.\u001b[39;49melement_error(obj, v, active_value_trait, \u001b[39m\"\u001b[39;49m\u001b[39mValues\u001b[39;49m\u001b[39m\"\u001b[39;49m)\n\u001b[0;32m   3388\u001b[0m     validated[key] \u001b[39m=\u001b[39m v\n\u001b[0;32m   3390\u001b[0m \u001b[39mreturn\u001b[39;00m \u001b[39mself\u001b[39m\u001b[39m.\u001b[39mklass(validated)\n",
      "File \u001b[1;32m~\\AppData\\Roaming\\Python\\Python310\\site-packages\\traitlets\\traitlets.py:3358\u001b[0m, in \u001b[0;36mDict.element_error\u001b[1;34m(self, obj, element, validator, side)\u001b[0m\n\u001b[0;32m   3352\u001b[0m \u001b[39mdef\u001b[39;00m \u001b[39melement_error\u001b[39m(\u001b[39mself\u001b[39m, obj, element, validator, side\u001b[39m=\u001b[39m\u001b[39m\"\u001b[39m\u001b[39mValues\u001b[39m\u001b[39m\"\u001b[39m):\n\u001b[0;32m   3353\u001b[0m     e \u001b[39m=\u001b[39m (\n\u001b[0;32m   3354\u001b[0m         side\n\u001b[0;32m   3355\u001b[0m         \u001b[39m+\u001b[39m \u001b[39m\"\u001b[39m\u001b[39m of the \u001b[39m\u001b[39m'\u001b[39m\u001b[39m%s\u001b[39;00m\u001b[39m'\u001b[39m\u001b[39m trait of \u001b[39m\u001b[39m%s\u001b[39;00m\u001b[39m instance must be \u001b[39m\u001b[39m%s\u001b[39;00m\u001b[39m, but a value of \u001b[39m\u001b[39m%s\u001b[39;00m\u001b[39m was specified.\u001b[39m\u001b[39m\"\u001b[39m\n\u001b[0;32m   3356\u001b[0m         \u001b[39m%\u001b[39m (\u001b[39mself\u001b[39m\u001b[39m.\u001b[39mname, class_of(obj), validator\u001b[39m.\u001b[39minfo(), repr_type(element))\n\u001b[0;32m   3357\u001b[0m     )\n\u001b[1;32m-> 3358\u001b[0m     \u001b[39mraise\u001b[39;00m TraitError(e)\n",
      "\u001b[1;31mTraitError\u001b[0m: Values of the 'scales' trait of a Lines instance must be a Scale, but a value of <class 'bqplot.scales.LinearScale'> <class 'traitlets.traitlets.MetaHasTraits'> was specified."
     ]
    }
   ],
   "source": [
    "line = bqplot.Lines(x=x, y=y, scales={'x': x_sc, 'y': y_sc})"
   ]
  },
  {
   "cell_type": "code",
   "execution_count": 38,
   "metadata": {},
   "outputs": [],
   "source": [
    "line = bqplot.Lines(x=x, y=[np.sin(x), np.cos(x)],\n",
    "                    Scales={'x': x_sc, 'y': y_sc})"
   ]
  },
  {
   "cell_type": "code",
   "execution_count": 47,
   "metadata": {},
   "outputs": [
    {
     "ename": "NameError",
     "evalue": "name 'ax_x' is not defined",
     "output_type": "error",
     "traceback": [
      "\u001b[1;31m---------------------------------------------------------------------------\u001b[0m",
      "\u001b[1;31mNameError\u001b[0m                                 Traceback (most recent call last)",
      "\u001b[1;32mc:\\Users\\mujjabi2\\OneDrive - University of Illinois - Urbana\\DevOps Course\\Remote_Repositories\\AWS_Server_Repo\\DevOps\\Python\\IS445_Class_Materials\\Classbqplot.ipynb Cell 14\u001b[0m line \u001b[0;36m1\n\u001b[1;32m----> <a href='vscode-notebook-cell:/c%3A/Users/mujjabi2/OneDrive%20-%20University%20of%20Illinois%20-%20Urbana/DevOps%20Course/Remote_Repositories/AWS_Server_Repo/DevOps/Python/IS445_Class_Materials/Classbqplot.ipynb#X21sZmlsZQ%3D%3D?line=0'>1</a>\u001b[0m bqplot\u001b[39m.\u001b[39mFigure(marks\u001b[39m=\u001b[39m[line], axes \u001b[39m=\u001b[39m [ax_x, ax_y])\n",
      "\u001b[1;31mNameError\u001b[0m: name 'ax_x' is not defined"
     ]
    }
   ],
   "source": [
    "bqplot.Figure(marks=[line], axes=[ax_x, ax_y])"
   ]
  },
  {
   "cell_type": "code",
   "execution_count": 28,
   "metadata": {},
   "outputs": [],
   "source": [
    "x_sc.min = 3"
   ]
  },
  {
   "cell_type": "code",
   "execution_count": 29,
   "metadata": {},
   "outputs": [],
   "source": [
    "import ipywidgets"
   ]
  },
  {
   "cell_type": "code",
   "execution_count": 30,
   "metadata": {},
   "outputs": [],
   "source": [
    "x_range = ipywidgets.FloatRangeSlider(min=0.0, max=12.0, step=0.01)"
   ]
  },
  {
   "cell_type": "code",
   "execution_count": 31,
   "metadata": {},
   "outputs": [
    {
     "data": {
      "application/vnd.jupyter.widget-view+json": {
       "model_id": "0a022e0aba334215b551287ff1b2efc8",
       "version_major": 2,
       "version_minor": 0
      },
      "text/plain": [
       "FloatRangeSlider(value=(3.0, 9.0), max=12.0, step=0.01)"
      ]
     },
     "execution_count": 31,
     "metadata": {},
     "output_type": "execute_result"
    }
   ],
   "source": [
    "x_range"
   ]
  },
  {
   "cell_type": "code",
   "execution_count": 33,
   "metadata": {},
   "outputs": [
    {
     "ename": "TypeError",
     "evalue": "Each object must be HasTraits, not <class 'traitlets.traitlets.MetaHasTraits'>",
     "output_type": "error",
     "traceback": [
      "\u001b[1;31m---------------------------------------------------------------------------\u001b[0m",
      "\u001b[1;31mTypeError\u001b[0m                                 Traceback (most recent call last)",
      "\u001b[1;32mc:\\Users\\mujjabi2\\OneDrive - University of Illinois - Urbana\\DevOps Course\\Remote_Repositories\\AWS_Server_Repo\\DevOps\\Python\\IS445_Class_Materials\\Classbqplot.ipynb Cell 19\u001b[0m line \u001b[0;36m6\n\u001b[0;32m      <a href='vscode-notebook-cell:/c%3A/Users/mujjabi2/OneDrive%20-%20University%20of%20Illinois%20-%20Urbana/DevOps%20Course/Remote_Repositories/AWS_Server_Repo/DevOps/Python/IS445_Class_Materials/Classbqplot.ipynb#X26sZmlsZQ%3D%3D?line=2'>3</a>\u001b[0m \u001b[39mdef\u001b[39;00m \u001b[39mmax_val\u001b[39m ():\n\u001b[0;32m      <a href='vscode-notebook-cell:/c%3A/Users/mujjabi2/OneDrive%20-%20University%20of%20Illinois%20-%20Urbana/DevOps%20Course/Remote_Repositories/AWS_Server_Repo/DevOps/Python/IS445_Class_Materials/Classbqplot.ipynb#X26sZmlsZQ%3D%3D?line=3'>4</a>\u001b[0m     \u001b[39mreturn\u001b[39;00m val [\u001b[39m1\u001b[39m]\n\u001b[1;32m----> <a href='vscode-notebook-cell:/c%3A/Users/mujjabi2/OneDrive%20-%20University%20of%20Illinois%20-%20Urbana/DevOps%20Course/Remote_Repositories/AWS_Server_Repo/DevOps/Python/IS445_Class_Materials/Classbqplot.ipynb#X26sZmlsZQ%3D%3D?line=5'>6</a>\u001b[0m ipywidgets\u001b[39m.\u001b[39;49mdlink(\n\u001b[0;32m      <a href='vscode-notebook-cell:/c%3A/Users/mujjabi2/OneDrive%20-%20University%20of%20Illinois%20-%20Urbana/DevOps%20Course/Remote_Repositories/AWS_Server_Repo/DevOps/Python/IS445_Class_Materials/Classbqplot.ipynb#X26sZmlsZQ%3D%3D?line=6'>7</a>\u001b[0m     (x_range, \u001b[39m\"\u001b[39;49m\u001b[39mmin\u001b[39;49m\u001b[39m\"\u001b[39;49m),\n\u001b[0;32m      <a href='vscode-notebook-cell:/c%3A/Users/mujjabi2/OneDrive%20-%20University%20of%20Illinois%20-%20Urbana/DevOps%20Course/Remote_Repositories/AWS_Server_Repo/DevOps/Python/IS445_Class_Materials/Classbqplot.ipynb#X26sZmlsZQ%3D%3D?line=7'>8</a>\u001b[0m     (x_sc, \u001b[39m\"\u001b[39;49m\u001b[39mmax\u001b[39;49m\u001b[39m\"\u001b[39;49m)\n\u001b[0;32m      <a href='vscode-notebook-cell:/c%3A/Users/mujjabi2/OneDrive%20-%20University%20of%20Illinois%20-%20Urbana/DevOps%20Course/Remote_Repositories/AWS_Server_Repo/DevOps/Python/IS445_Class_Materials/Classbqplot.ipynb#X26sZmlsZQ%3D%3D?line=8'>9</a>\u001b[0m )\n\u001b[0;32m     <a href='vscode-notebook-cell:/c%3A/Users/mujjabi2/OneDrive%20-%20University%20of%20Illinois%20-%20Urbana/DevOps%20Course/Remote_Repositories/AWS_Server_Repo/DevOps/Python/IS445_Class_Materials/Classbqplot.ipynb#X26sZmlsZQ%3D%3D?line=10'>11</a>\u001b[0m ipywidgets\u001b[39m.\u001b[39mdlink(\n\u001b[0;32m     <a href='vscode-notebook-cell:/c%3A/Users/mujjabi2/OneDrive%20-%20University%20of%20Illinois%20-%20Urbana/DevOps%20Course/Remote_Repositories/AWS_Server_Repo/DevOps/Python/IS445_Class_Materials/Classbqplot.ipynb#X26sZmlsZQ%3D%3D?line=11'>12</a>\u001b[0m     (x_range, \u001b[39m\"\u001b[39m\u001b[39mmin\u001b[39m\u001b[39m\"\u001b[39m),\n\u001b[0;32m     <a href='vscode-notebook-cell:/c%3A/Users/mujjabi2/OneDrive%20-%20University%20of%20Illinois%20-%20Urbana/DevOps%20Course/Remote_Repositories/AWS_Server_Repo/DevOps/Python/IS445_Class_Materials/Classbqplot.ipynb#X26sZmlsZQ%3D%3D?line=12'>13</a>\u001b[0m     (x_sc, \u001b[39m\"\u001b[39m\u001b[39mmax\u001b[39m\u001b[39m\"\u001b[39m)\n\u001b[0;32m     <a href='vscode-notebook-cell:/c%3A/Users/mujjabi2/OneDrive%20-%20University%20of%20Illinois%20-%20Urbana/DevOps%20Course/Remote_Repositories/AWS_Server_Repo/DevOps/Python/IS445_Class_Materials/Classbqplot.ipynb#X26sZmlsZQ%3D%3D?line=13'>14</a>\u001b[0m )\n",
      "File \u001b[1;32m~\\AppData\\Roaming\\Python\\Python310\\site-packages\\traitlets\\traitlets.py:426\u001b[0m, in \u001b[0;36mdirectional_link.__init__\u001b[1;34m(self, source, target, transform)\u001b[0m\n\u001b[0;32m    424\u001b[0m \u001b[39mdef\u001b[39;00m \u001b[39m__init__\u001b[39m(\u001b[39mself\u001b[39m, source, target, transform\u001b[39m=\u001b[39m\u001b[39mNone\u001b[39;00m):\n\u001b[0;32m    425\u001b[0m     \u001b[39mself\u001b[39m\u001b[39m.\u001b[39m_transform \u001b[39m=\u001b[39m transform \u001b[39mif\u001b[39;00m transform \u001b[39melse\u001b[39;00m \u001b[39mlambda\u001b[39;00m x: x\n\u001b[1;32m--> 426\u001b[0m     _validate_link(source, target)\n\u001b[0;32m    427\u001b[0m     \u001b[39mself\u001b[39m\u001b[39m.\u001b[39msource, \u001b[39mself\u001b[39m\u001b[39m.\u001b[39mtarget \u001b[39m=\u001b[39m source, target\n\u001b[0;32m    428\u001b[0m     \u001b[39mself\u001b[39m\u001b[39m.\u001b[39mlink()\n",
      "File \u001b[1;32m~\\AppData\\Roaming\\Python\\Python310\\site-packages\\traitlets\\traitlets.py:305\u001b[0m, in \u001b[0;36m_validate_link\u001b[1;34m(*tuples)\u001b[0m\n\u001b[0;32m    303\u001b[0m obj, trait_name \u001b[39m=\u001b[39m tup\n\u001b[0;32m    304\u001b[0m \u001b[39mif\u001b[39;00m \u001b[39mnot\u001b[39;00m \u001b[39misinstance\u001b[39m(obj, HasTraits):\n\u001b[1;32m--> 305\u001b[0m     \u001b[39mraise\u001b[39;00m \u001b[39mTypeError\u001b[39;00m(\u001b[39m\"\u001b[39m\u001b[39mEach object must be HasTraits, not \u001b[39m\u001b[39m%r\u001b[39;00m\u001b[39m\"\u001b[39m \u001b[39m%\u001b[39m \u001b[39mtype\u001b[39m(obj))\n\u001b[0;32m    306\u001b[0m \u001b[39mif\u001b[39;00m trait_name \u001b[39mnot\u001b[39;00m \u001b[39min\u001b[39;00m obj\u001b[39m.\u001b[39mtraits():\n\u001b[0;32m    307\u001b[0m     \u001b[39mraise\u001b[39;00m \u001b[39mTypeError\u001b[39;00m(\u001b[39mf\u001b[39m\u001b[39m\"\u001b[39m\u001b[39m{\u001b[39;00mobj\u001b[39m!r}\u001b[39;00m\u001b[39m has no trait \u001b[39m\u001b[39m{\u001b[39;00mtrait_name\u001b[39m!r}\u001b[39;00m\u001b[39m\"\u001b[39m)\n",
      "\u001b[1;31mTypeError\u001b[0m: Each object must be HasTraits, not <class 'traitlets.traitlets.MetaHasTraits'>"
     ]
    }
   ],
   "source": [
    "def min_val():\n",
    "    return val[0]\n",
    "\n",
    "\n",
    "def max_val():\n",
    "    return val[1]\n",
    "\n",
    "\n",
    "ipywidgets.dlink(\n",
    "    (x_range, \"min\"),\n",
    "    (x_sc, \"max\")\n",
    ")\n",
    "\n",
    "ipywidgets.dlink(\n",
    "    (x_range, \"min\"),\n",
    "    (x_sc, \"max\")\n",
    ")"
   ]
  },
  {
   "cell_type": "code",
   "execution_count": 34,
   "metadata": {},
   "outputs": [
    {
     "data": {
      "text/plain": [
       "(2.66, 8.659999999999998)"
      ]
     },
     "execution_count": 34,
     "metadata": {},
     "output_type": "execute_result"
    }
   ],
   "source": [
    "x_range.value"
   ]
  },
  {
   "cell_type": "code",
   "execution_count": 37,
   "metadata": {},
   "outputs": [
    {
     "data": {
      "application/vnd.jupyter.widget-view+json": {
       "model_id": "0211d0e7d4e944a28e48e89137a53b7b",
       "version_major": 2,
       "version_minor": 0
      },
      "text/plain": [
       "VBox(children=(Figure(fig_margin={'top': 60, 'bottom': 60, 'left': 60, 'right': 60}, scale_x=LinearScale(allow…"
      ]
     },
     "execution_count": 37,
     "metadata": {},
     "output_type": "execute_result"
    }
   ],
   "source": [
    "ipywidgets.VBox([\n",
    "    fig,\n",
    "    x_range\n",
    "\n",
    "])"
   ]
  },
  {
   "cell_type": "code",
   "execution_count": 42,
   "metadata": {},
   "outputs": [
    {
     "ename": "ModuleNotFoundError",
     "evalue": "No module named 'gyts'",
     "output_type": "error",
     "traceback": [
      "\u001b[1;31m---------------------------------------------------------------------------\u001b[0m",
      "\u001b[1;31mModuleNotFoundError\u001b[0m                       Traceback (most recent call last)",
      "\u001b[1;32mc:\\Users\\mujjabi2\\OneDrive - University of Illinois - Urbana\\DevOps Course\\Remote_Repositories\\AWS_Server_Repo\\DevOps\\Python\\IS445_Class_Materials\\Classbqplot.ipynb Cell 22\u001b[0m line \u001b[0;36m1\n\u001b[1;32m----> <a href='vscode-notebook-cell:/c%3A/Users/mujjabi2/OneDrive%20-%20University%20of%20Illinois%20-%20Urbana/DevOps%20Course/Remote_Repositories/AWS_Server_Repo/DevOps/Python/IS445_Class_Materials/Classbqplot.ipynb#X34sZmlsZQ%3D%3D?line=0'>1</a>\u001b[0m \u001b[39mimport\u001b[39;00m \u001b[39mgyts\u001b[39;00m\n",
      "\u001b[1;31mModuleNotFoundError\u001b[0m: No module named 'gyts'"
     ]
    }
   ],
   "source": [
    "import gyts"
   ]
  },
  {
   "cell_type": "code",
   "execution_count": 41,
   "metadata": {},
   "outputs": [
    {
     "ename": "ModuleNotFoundError",
     "evalue": "No module named 'widgyts'",
     "output_type": "error",
     "traceback": [
      "\u001b[1;31m---------------------------------------------------------------------------\u001b[0m",
      "\u001b[1;31mModuleNotFoundError\u001b[0m                       Traceback (most recent call last)",
      "\u001b[1;32mc:\\Users\\mujjabi2\\OneDrive - University of Illinois - Urbana\\DevOps Course\\Remote_Repositories\\AWS_Server_Repo\\DevOps\\Python\\IS445_Class_Materials\\Classbqplot.ipynb Cell 22\u001b[0m line \u001b[0;36m1\n\u001b[1;32m----> <a href='vscode-notebook-cell:/c%3A/Users/mujjabi2/OneDrive%20-%20University%20of%20Illinois%20-%20Urbana/DevOps%20Course/Remote_Repositories/AWS_Server_Repo/DevOps/Python/IS445_Class_Materials/Classbqplot.ipynb#X32sZmlsZQ%3D%3D?line=0'>1</a>\u001b[0m \u001b[39mimport\u001b[39;00m \u001b[39mwidgyts\u001b[39;00m\n",
      "\u001b[1;31mModuleNotFoundError\u001b[0m: No module named 'widgyts'"
     ]
    }
   ],
   "source": [
    "import widgyts"
   ]
  },
  {
   "cell_type": "code",
   "execution_count": 44,
   "metadata": {},
   "outputs": [
    {
     "ename": "AttributeError",
     "evalue": "'int' object has no attribute 'metadata'",
     "output_type": "error",
     "traceback": [
      "\u001b[1;31m---------------------------------------------------------------------------\u001b[0m",
      "\u001b[1;31mAttributeError\u001b[0m                            Traceback (most recent call last)",
      "\u001b[1;32mc:\\Users\\mujjabi2\\OneDrive - University of Illinois - Urbana\\DevOps Course\\Remote_Repositories\\AWS_Server_Repo\\DevOps\\Python\\IS445_Class_Materials\\Classbqplot.ipynb Cell 24\u001b[0m line \u001b[0;36m3\n\u001b[0;32m      <a href='vscode-notebook-cell:/c%3A/Users/mujjabi2/OneDrive%20-%20University%20of%20Illinois%20-%20Urbana/DevOps%20Course/Remote_Repositories/AWS_Server_Repo/DevOps/Python/IS445_Class_Materials/Classbqplot.ipynb#X35sZmlsZQ%3D%3D?line=0'>1</a>\u001b[0m x \u001b[39m=\u001b[39m np\u001b[39m.\u001b[39marange(\u001b[39m100\u001b[39m)\n\u001b[0;32m      <a href='vscode-notebook-cell:/c%3A/Users/mujjabi2/OneDrive%20-%20University%20of%20Illinois%20-%20Urbana/DevOps%20Course/Remote_Repositories/AWS_Server_Repo/DevOps/Python/IS445_Class_Materials/Classbqplot.ipynb#X35sZmlsZQ%3D%3D?line=1'>2</a>\u001b[0m y \u001b[39m=\u001b[39m np\u001b[39m.\u001b[39mrandom\u001b[39m.\u001b[39mrandom(\u001b[39m100\u001b[39m) \u001b[39m+\u001b[39m \u001b[39m5\u001b[39m\n\u001b[1;32m----> <a href='vscode-notebook-cell:/c%3A/Users/mujjabi2/OneDrive%20-%20University%20of%20Illinois%20-%20Urbana/DevOps%20Course/Remote_Repositories/AWS_Server_Repo/DevOps/Python/IS445_Class_Materials/Classbqplot.ipynb#X35sZmlsZQ%3D%3D?line=2'>3</a>\u001b[0m x_sc \u001b[39m=\u001b[39m bqplot\u001b[39m.\u001b[39;49mLinearScale()\n\u001b[0;32m      <a href='vscode-notebook-cell:/c%3A/Users/mujjabi2/OneDrive%20-%20University%20of%20Illinois%20-%20Urbana/DevOps%20Course/Remote_Repositories/AWS_Server_Repo/DevOps/Python/IS445_Class_Materials/Classbqplot.ipynb#X35sZmlsZQ%3D%3D?line=3'>4</a>\u001b[0m y_sc \u001b[39m=\u001b[39m bqplot\u001b[39m.\u001b[39mLinearScale()\n\u001b[0;32m      <a href='vscode-notebook-cell:/c%3A/Users/mujjabi2/OneDrive%20-%20University%20of%20Illinois%20-%20Urbana/DevOps%20Course/Remote_Repositories/AWS_Server_Repo/DevOps/Python/IS445_Class_Materials/Classbqplot.ipynb#X35sZmlsZQ%3D%3D?line=4'>5</a>\u001b[0m lines \u001b[39m=\u001b[39m bqplot\u001b[39m.\u001b[39mLines(x \u001b[39m=\u001b[39m x, y \u001b[39m=\u001b[39m y, scales \u001b[39m=\u001b[39m {\u001b[39m'\u001b[39m\u001b[39mx\u001b[39m\u001b[39m'\u001b[39m: x_sc, \u001b[39m'\u001b[39m\u001b[39my\u001b[39m\u001b[39m'\u001b[39m: y_sc})\n",
      "File \u001b[1;32m~\\AppData\\Roaming\\Python\\Python310\\site-packages\\ipywidgets\\widgets\\widget.py:506\u001b[0m, in \u001b[0;36mWidget.__init__\u001b[1;34m(self, **kwargs)\u001b[0m\n\u001b[0;32m    503\u001b[0m \u001b[39msuper\u001b[39m()\u001b[39m.\u001b[39m\u001b[39m__init__\u001b[39m(\u001b[39m*\u001b[39m\u001b[39m*\u001b[39mkwargs)\n\u001b[0;32m    505\u001b[0m Widget\u001b[39m.\u001b[39m_call_widget_constructed(\u001b[39mself\u001b[39m)\n\u001b[1;32m--> 506\u001b[0m \u001b[39mself\u001b[39;49m\u001b[39m.\u001b[39;49mopen()\n",
      "File \u001b[1;32m~\\AppData\\Roaming\\Python\\Python310\\site-packages\\ipywidgets\\widgets\\widget.py:525\u001b[0m, in \u001b[0;36mWidget.open\u001b[1;34m(self)\u001b[0m\n\u001b[0;32m    523\u001b[0m \u001b[39m\u001b[39m\u001b[39m\"\"\"Open a comm to the frontend if one isn't already open.\"\"\"\u001b[39;00m\n\u001b[0;32m    524\u001b[0m \u001b[39mif\u001b[39;00m \u001b[39mself\u001b[39m\u001b[39m.\u001b[39mcomm \u001b[39mis\u001b[39;00m \u001b[39mNone\u001b[39;00m:\n\u001b[1;32m--> 525\u001b[0m     state, buffer_paths, buffers \u001b[39m=\u001b[39m _remove_buffers(\u001b[39mself\u001b[39;49m\u001b[39m.\u001b[39;49mget_state())\n\u001b[0;32m    527\u001b[0m     args \u001b[39m=\u001b[39m \u001b[39mdict\u001b[39m(target_name\u001b[39m=\u001b[39m\u001b[39m'\u001b[39m\u001b[39mjupyter.widget\u001b[39m\u001b[39m'\u001b[39m,\n\u001b[0;32m    528\u001b[0m                 data\u001b[39m=\u001b[39m{\u001b[39m'\u001b[39m\u001b[39mstate\u001b[39m\u001b[39m'\u001b[39m: state, \u001b[39m'\u001b[39m\u001b[39mbuffer_paths\u001b[39m\u001b[39m'\u001b[39m: buffer_paths},\n\u001b[0;32m    529\u001b[0m                 buffers\u001b[39m=\u001b[39mbuffers,\n\u001b[0;32m    530\u001b[0m                 metadata\u001b[39m=\u001b[39m{\u001b[39m'\u001b[39m\u001b[39mversion\u001b[39m\u001b[39m'\u001b[39m: __protocol_version__}\n\u001b[0;32m    531\u001b[0m                 )\n\u001b[0;32m    532\u001b[0m     \u001b[39mif\u001b[39;00m \u001b[39mself\u001b[39m\u001b[39m.\u001b[39m_model_id \u001b[39mis\u001b[39;00m \u001b[39mnot\u001b[39;00m \u001b[39mNone\u001b[39;00m:\n",
      "File \u001b[1;32m~\\AppData\\Roaming\\Python\\Python310\\site-packages\\ipywidgets\\widgets\\widget.py:614\u001b[0m, in \u001b[0;36mWidget.get_state\u001b[1;34m(self, key, drop_defaults)\u001b[0m\n\u001b[0;32m    612\u001b[0m traits \u001b[39m=\u001b[39m \u001b[39mself\u001b[39m\u001b[39m.\u001b[39mtraits()\n\u001b[0;32m    613\u001b[0m \u001b[39mfor\u001b[39;00m k \u001b[39min\u001b[39;00m keys:\n\u001b[1;32m--> 614\u001b[0m     to_json \u001b[39m=\u001b[39m \u001b[39mself\u001b[39;49m\u001b[39m.\u001b[39;49mtrait_metadata(k, \u001b[39m'\u001b[39;49m\u001b[39mto_json\u001b[39;49m\u001b[39m'\u001b[39;49m, \u001b[39mself\u001b[39;49m\u001b[39m.\u001b[39;49m_trait_to_json)\n\u001b[0;32m    615\u001b[0m     value \u001b[39m=\u001b[39m to_json(\u001b[39mgetattr\u001b[39m(\u001b[39mself\u001b[39m, k), \u001b[39mself\u001b[39m)\n\u001b[0;32m    616\u001b[0m     \u001b[39mif\u001b[39;00m \u001b[39mnot\u001b[39;00m drop_defaults \u001b[39mor\u001b[39;00m \u001b[39mnot\u001b[39;00m \u001b[39mself\u001b[39m\u001b[39m.\u001b[39m_compare(value, traits[k]\u001b[39m.\u001b[39mdefault_value):\n",
      "File \u001b[1;32m~\\AppData\\Roaming\\Python\\Python310\\site-packages\\traitlets\\traitlets.py:1929\u001b[0m, in \u001b[0;36mHasTraits.trait_metadata\u001b[1;34m(self, traitname, key, default)\u001b[0m\n\u001b[0;32m   1927\u001b[0m     \u001b[39mreturn\u001b[39;00m \u001b[39mgetattr\u001b[39m(\u001b[39mself\u001b[39m, metadata_name)\u001b[39m.\u001b[39mget(key, default)\n\u001b[0;32m   1928\u001b[0m \u001b[39melse\u001b[39;00m:\n\u001b[1;32m-> 1929\u001b[0m     \u001b[39mreturn\u001b[39;00m trait\u001b[39m.\u001b[39;49mmetadata\u001b[39m.\u001b[39mget(key, default)\n",
      "\u001b[1;31mAttributeError\u001b[0m: 'int' object has no attribute 'metadata'"
     ]
    }
   ],
   "source": [
    "x = np.arange(100)\n",
    "y = np.random.random(100) + 5\n",
    "x_sc = bqplot.LinearScale()\n",
    "y_sc = bqplot.LinearScale()\n",
    "lines = bqplot.Lines(x=x, y=y, scales={'x': x_sc, 'y': y_sc})\n",
    "ax_x = bqplot.Axis(scale=x_sc, label='X value')\n",
    "ax_y = bqplot.Axis(scale=y_sc, label='Y value', orientation='vertical')\n",
    "fig = bqplot.Figure(marks=[lines], axes=[ax_x, ax_y])\n",
    "display(fig)"
   ]
  },
  {
   "cell_type": "code",
   "execution_count": 52,
   "metadata": {},
   "outputs": [],
   "source": [
    "c = np.random.random(size=x.size)\n",
    "c_sc = bqplot.ColorScale()\n",
    "c_ax = bqplot.ColorAxis(scale=c_sc)"
   ]
  },
  {
   "cell_type": "code",
   "execution_count": 53,
   "metadata": {},
   "outputs": [
    {
     "ename": "TraitError",
     "evalue": "Values of the 'scales' trait of a Scatter instance must be a Scale, but a value of <class 'bqplot.scales.LinearScale'> <class 'traitlets.traitlets.MetaHasTraits'> was specified.",
     "output_type": "error",
     "traceback": [
      "\u001b[1;31m---------------------------------------------------------------------------\u001b[0m",
      "\u001b[1;31mTraitError\u001b[0m                                Traceback (most recent call last)",
      "File \u001b[1;32m~\\AppData\\Roaming\\Python\\Python310\\site-packages\\traitlets\\traitlets.py:3385\u001b[0m, in \u001b[0;36mDict.validate_elements\u001b[1;34m(self, obj, value)\u001b[0m\n\u001b[0;32m   3384\u001b[0m \u001b[39mtry\u001b[39;00m:\n\u001b[1;32m-> 3385\u001b[0m     v \u001b[39m=\u001b[39m active_value_trait\u001b[39m.\u001b[39;49m_validate(obj, v)\n\u001b[0;32m   3386\u001b[0m \u001b[39mexcept\u001b[39;00m TraitError:\n",
      "File \u001b[1;32m~\\AppData\\Roaming\\Python\\Python310\\site-packages\\traitlets\\traitlets.py:738\u001b[0m, in \u001b[0;36mTraitType._validate\u001b[1;34m(self, obj, value)\u001b[0m\n\u001b[0;32m    737\u001b[0m \u001b[39mif\u001b[39;00m \u001b[39mhasattr\u001b[39m(\u001b[39mself\u001b[39m, \u001b[39m\"\u001b[39m\u001b[39mvalidate\u001b[39m\u001b[39m\"\u001b[39m):\n\u001b[1;32m--> 738\u001b[0m     value \u001b[39m=\u001b[39m \u001b[39mself\u001b[39;49m\u001b[39m.\u001b[39;49mvalidate(obj, value)\n\u001b[0;32m    739\u001b[0m \u001b[39mif\u001b[39;00m obj\u001b[39m.\u001b[39m_cross_validation_lock \u001b[39mis\u001b[39;00m \u001b[39mFalse\u001b[39;00m:\n",
      "File \u001b[1;32m~\\AppData\\Roaming\\Python\\Python310\\site-packages\\traitlets\\traitlets.py:2151\u001b[0m, in \u001b[0;36mInstance.validate\u001b[1;34m(self, obj, value)\u001b[0m\n\u001b[0;32m   2150\u001b[0m \u001b[39melse\u001b[39;00m:\n\u001b[1;32m-> 2151\u001b[0m     \u001b[39mself\u001b[39;49m\u001b[39m.\u001b[39;49merror(obj, value)\n",
      "File \u001b[1;32m~\\AppData\\Roaming\\Python\\Python310\\site-packages\\traitlets\\traitlets.py:828\u001b[0m, in \u001b[0;36mTraitType.error\u001b[1;34m(self, obj, value, error, info)\u001b[0m\n\u001b[0;32m    826\u001b[0m \u001b[39mif\u001b[39;00m \u001b[39mself\u001b[39m\u001b[39m.\u001b[39mname \u001b[39mis\u001b[39;00m \u001b[39mNone\u001b[39;00m:\n\u001b[0;32m    827\u001b[0m     \u001b[39m# this is not the root trait\u001b[39;00m\n\u001b[1;32m--> 828\u001b[0m     \u001b[39mraise\u001b[39;00m TraitError(value, info \u001b[39mor\u001b[39;00m \u001b[39mself\u001b[39m\u001b[39m.\u001b[39minfo(), \u001b[39mself\u001b[39m)\n\u001b[0;32m    829\u001b[0m \u001b[39melse\u001b[39;00m:\n\u001b[0;32m    830\u001b[0m     \u001b[39m# this is the root trait\u001b[39;00m\n",
      "\u001b[1;31mTraitError\u001b[0m: (<class 'bqplot.scales.LinearScale'>, 'a Scale', <traitlets.traitlets.Instance object at 0x000002248C6E4BE0>)",
      "\nDuring handling of the above exception, another exception occurred:\n",
      "\u001b[1;31mTraitError\u001b[0m                                Traceback (most recent call last)",
      "\u001b[1;32mc:\\Users\\mujjabi2\\OneDrive - University of Illinois - Urbana\\DevOps Course\\Remote_Repositories\\AWS_Server_Repo\\DevOps\\Python\\IS445_Class_Materials\\Classbqplot.ipynb Cell 26\u001b[0m line \u001b[0;36m1\n\u001b[1;32m----> <a href='vscode-notebook-cell:/c%3A/Users/mujjabi2/OneDrive%20-%20University%20of%20Illinois%20-%20Urbana/DevOps%20Course/Remote_Repositories/AWS_Server_Repo/DevOps/Python/IS445_Class_Materials/Classbqplot.ipynb#X36sZmlsZQ%3D%3D?line=0'>1</a>\u001b[0m points \u001b[39m=\u001b[39m bqplot\u001b[39m.\u001b[39;49mScatter(x\u001b[39m=\u001b[39;49mx[::\u001b[39m16\u001b[39;49m], y\u001b[39m=\u001b[39;49my[::\u001b[39m16\u001b[39;49m], color \u001b[39m=\u001b[39;49m c,  scales \u001b[39m=\u001b[39;49m {\u001b[39m\"\u001b[39;49m\u001b[39mx\u001b[39;49m\u001b[39m\"\u001b[39;49m:x_sc, \u001b[39m\"\u001b[39;49m\u001b[39my\u001b[39;49m\u001b[39m\"\u001b[39;49m:y_sc, \u001b[39m\"\u001b[39;49m\u001b[39mcolor\u001b[39;49m\u001b[39m\"\u001b[39;49m:c_sc})\n\u001b[0;32m      <a href='vscode-notebook-cell:/c%3A/Users/mujjabi2/OneDrive%20-%20University%20of%20Illinois%20-%20Urbana/DevOps%20Course/Remote_Repositories/AWS_Server_Repo/DevOps/Python/IS445_Class_Materials/Classbqplot.ipynb#X36sZmlsZQ%3D%3D?line=1'>2</a>\u001b[0m fig\u001b[39m.\u001b[39mmarks \u001b[39m=\u001b[39m [line, points]\n\u001b[0;32m      <a href='vscode-notebook-cell:/c%3A/Users/mujjabi2/OneDrive%20-%20University%20of%20Illinois%20-%20Urbana/DevOps%20Course/Remote_Repositories/AWS_Server_Repo/DevOps/Python/IS445_Class_Materials/Classbqplot.ipynb#X36sZmlsZQ%3D%3D?line=2'>3</a>\u001b[0m fig\u001b[39m.\u001b[39maxes\u001b[39m=\u001b[39m [x_ax, y_ax, c_ax]\n",
      "File \u001b[1;32m~\\AppData\\Roaming\\Python\\Python310\\site-packages\\bqplot\\marks.py:549\u001b[0m, in \u001b[0;36m_ScatterBase.__init__\u001b[1;34m(self, **kwargs)\u001b[0m\n\u001b[0;32m    547\u001b[0m \u001b[39mself\u001b[39m\u001b[39m.\u001b[39m_drag_handlers \u001b[39m=\u001b[39m CallbackDispatcher()\n\u001b[0;32m    548\u001b[0m \u001b[39mself\u001b[39m\u001b[39m.\u001b[39m_drag_end_handlers \u001b[39m=\u001b[39m CallbackDispatcher()\n\u001b[1;32m--> 549\u001b[0m \u001b[39msuper\u001b[39m(_ScatterBase, \u001b[39mself\u001b[39m)\u001b[39m.\u001b[39m\u001b[39m__init__\u001b[39m(\u001b[39m*\u001b[39m\u001b[39m*\u001b[39mkwargs)\n\u001b[0;32m    551\u001b[0m \u001b[39mself\u001b[39m\u001b[39m.\u001b[39m_name_to_handler\u001b[39m.\u001b[39mupdate({\n\u001b[0;32m    552\u001b[0m     \u001b[39m'\u001b[39m\u001b[39mdrag_start\u001b[39m\u001b[39m'\u001b[39m: \u001b[39mself\u001b[39m\u001b[39m.\u001b[39m_drag_start_handlers,\n\u001b[0;32m    553\u001b[0m     \u001b[39m'\u001b[39m\u001b[39mdrag_end\u001b[39m\u001b[39m'\u001b[39m: \u001b[39mself\u001b[39m\u001b[39m.\u001b[39m_drag_end_handlers,\n\u001b[0;32m    554\u001b[0m     \u001b[39m'\u001b[39m\u001b[39mdrag\u001b[39m\u001b[39m'\u001b[39m: \u001b[39mself\u001b[39m\u001b[39m.\u001b[39m_drag_handlers\n\u001b[0;32m    555\u001b[0m })\n",
      "File \u001b[1;32m~\\AppData\\Roaming\\Python\\Python310\\site-packages\\bqplot\\marks.py:242\u001b[0m, in \u001b[0;36mMark.__init__\u001b[1;34m(self, **kwargs)\u001b[0m\n\u001b[0;32m    241\u001b[0m \u001b[39mdef\u001b[39;00m \u001b[39m__init__\u001b[39m(\u001b[39mself\u001b[39m, \u001b[39m*\u001b[39m\u001b[39m*\u001b[39mkwargs):\n\u001b[1;32m--> 242\u001b[0m     \u001b[39msuper\u001b[39m(Mark, \u001b[39mself\u001b[39m)\u001b[39m.\u001b[39m\u001b[39m__init__\u001b[39m(\u001b[39m*\u001b[39m\u001b[39m*\u001b[39mkwargs)\n\u001b[0;32m    243\u001b[0m     \u001b[39mself\u001b[39m\u001b[39m.\u001b[39m_hover_handlers \u001b[39m=\u001b[39m CallbackDispatcher()\n\u001b[0;32m    244\u001b[0m     \u001b[39mself\u001b[39m\u001b[39m.\u001b[39m_click_handlers \u001b[39m=\u001b[39m CallbackDispatcher()\n",
      "File \u001b[1;32m~\\AppData\\Roaming\\Python\\Python310\\site-packages\\ipywidgets\\widgets\\widget.py:503\u001b[0m, in \u001b[0;36mWidget.__init__\u001b[1;34m(self, **kwargs)\u001b[0m\n\u001b[0;32m    501\u001b[0m \u001b[39m\u001b[39m\u001b[39m\"\"\"Public constructor\"\"\"\u001b[39;00m\n\u001b[0;32m    502\u001b[0m \u001b[39mself\u001b[39m\u001b[39m.\u001b[39m_model_id \u001b[39m=\u001b[39m kwargs\u001b[39m.\u001b[39mpop(\u001b[39m'\u001b[39m\u001b[39mmodel_id\u001b[39m\u001b[39m'\u001b[39m, \u001b[39mNone\u001b[39;00m)\n\u001b[1;32m--> 503\u001b[0m \u001b[39msuper\u001b[39m()\u001b[39m.\u001b[39m\u001b[39m__init__\u001b[39m(\u001b[39m*\u001b[39m\u001b[39m*\u001b[39mkwargs)\n\u001b[0;32m    505\u001b[0m Widget\u001b[39m.\u001b[39m_call_widget_constructed(\u001b[39mself\u001b[39m)\n\u001b[0;32m    506\u001b[0m \u001b[39mself\u001b[39m\u001b[39m.\u001b[39mopen()\n",
      "File \u001b[1;32m~\\AppData\\Roaming\\Python\\Python310\\site-packages\\traitlets\\traitlets.py:1347\u001b[0m, in \u001b[0;36mHasTraits.__init__\u001b[1;34m(self, *args, **kwargs)\u001b[0m\n\u001b[0;32m   1345\u001b[0m \u001b[39mfor\u001b[39;00m key, value \u001b[39min\u001b[39;00m kwargs\u001b[39m.\u001b[39mitems():\n\u001b[0;32m   1346\u001b[0m     \u001b[39mif\u001b[39;00m \u001b[39mself\u001b[39m\u001b[39m.\u001b[39mhas_trait(key):\n\u001b[1;32m-> 1347\u001b[0m         \u001b[39msetattr\u001b[39;49m(\u001b[39mself\u001b[39;49m, key, value)\n\u001b[0;32m   1348\u001b[0m         changes[key] \u001b[39m=\u001b[39m Bunch(\n\u001b[0;32m   1349\u001b[0m             name\u001b[39m=\u001b[39mkey,\n\u001b[0;32m   1350\u001b[0m             old\u001b[39m=\u001b[39m\u001b[39mNone\u001b[39;00m,\n\u001b[1;32m   (...)\u001b[0m\n\u001b[0;32m   1353\u001b[0m             \u001b[39mtype\u001b[39m\u001b[39m=\u001b[39m\u001b[39m\"\u001b[39m\u001b[39mchange\u001b[39m\u001b[39m\"\u001b[39m,\n\u001b[0;32m   1354\u001b[0m         )\n\u001b[0;32m   1355\u001b[0m     \u001b[39melse\u001b[39;00m:\n\u001b[0;32m   1356\u001b[0m         \u001b[39m# passthrough args that don't set traits to super\u001b[39;00m\n",
      "File \u001b[1;32m~\\AppData\\Roaming\\Python\\Python310\\site-packages\\traitlets\\traitlets.py:732\u001b[0m, in \u001b[0;36mTraitType.__set__\u001b[1;34m(self, obj, value)\u001b[0m\n\u001b[0;32m    730\u001b[0m     \u001b[39mraise\u001b[39;00m TraitError(\u001b[39m'\u001b[39m\u001b[39mThe \u001b[39m\u001b[39m\"\u001b[39m\u001b[39m%s\u001b[39;00m\u001b[39m\"\u001b[39m\u001b[39m trait is read-only.\u001b[39m\u001b[39m'\u001b[39m \u001b[39m%\u001b[39m \u001b[39mself\u001b[39m\u001b[39m.\u001b[39mname)\n\u001b[0;32m    731\u001b[0m \u001b[39melse\u001b[39;00m:\n\u001b[1;32m--> 732\u001b[0m     \u001b[39mself\u001b[39;49m\u001b[39m.\u001b[39;49mset(obj, value)\n",
      "File \u001b[1;32m~\\AppData\\Roaming\\Python\\Python310\\site-packages\\traitlets\\traitlets.py:706\u001b[0m, in \u001b[0;36mTraitType.set\u001b[1;34m(self, obj, value)\u001b[0m\n\u001b[0;32m    705\u001b[0m \u001b[39mdef\u001b[39;00m \u001b[39mset\u001b[39m(\u001b[39mself\u001b[39m, obj, value):\n\u001b[1;32m--> 706\u001b[0m     new_value \u001b[39m=\u001b[39m \u001b[39mself\u001b[39;49m\u001b[39m.\u001b[39;49m_validate(obj, value)\n\u001b[0;32m    707\u001b[0m     \u001b[39mtry\u001b[39;00m:\n\u001b[0;32m    708\u001b[0m         old_value \u001b[39m=\u001b[39m obj\u001b[39m.\u001b[39m_trait_values[\u001b[39mself\u001b[39m\u001b[39m.\u001b[39mname]\n",
      "File \u001b[1;32m~\\AppData\\Roaming\\Python\\Python310\\site-packages\\traitlets\\traitlets.py:738\u001b[0m, in \u001b[0;36mTraitType._validate\u001b[1;34m(self, obj, value)\u001b[0m\n\u001b[0;32m    736\u001b[0m     \u001b[39mreturn\u001b[39;00m value\n\u001b[0;32m    737\u001b[0m \u001b[39mif\u001b[39;00m \u001b[39mhasattr\u001b[39m(\u001b[39mself\u001b[39m, \u001b[39m\"\u001b[39m\u001b[39mvalidate\u001b[39m\u001b[39m\"\u001b[39m):\n\u001b[1;32m--> 738\u001b[0m     value \u001b[39m=\u001b[39m \u001b[39mself\u001b[39;49m\u001b[39m.\u001b[39;49mvalidate(obj, value)\n\u001b[0;32m    739\u001b[0m \u001b[39mif\u001b[39;00m obj\u001b[39m.\u001b[39m_cross_validation_lock \u001b[39mis\u001b[39;00m \u001b[39mFalse\u001b[39;00m:\n\u001b[0;32m    740\u001b[0m     value \u001b[39m=\u001b[39m \u001b[39mself\u001b[39m\u001b[39m.\u001b[39m_cross_validate(obj, value)\n",
      "File \u001b[1;32m~\\AppData\\Roaming\\Python\\Python310\\site-packages\\traitlets\\traitlets.py:3364\u001b[0m, in \u001b[0;36mDict.validate\u001b[1;34m(self, obj, value)\u001b[0m\n\u001b[0;32m   3362\u001b[0m \u001b[39mif\u001b[39;00m value \u001b[39mis\u001b[39;00m \u001b[39mNone\u001b[39;00m:\n\u001b[0;32m   3363\u001b[0m     \u001b[39mreturn\u001b[39;00m value\n\u001b[1;32m-> 3364\u001b[0m value \u001b[39m=\u001b[39m \u001b[39mself\u001b[39;49m\u001b[39m.\u001b[39;49mvalidate_elements(obj, value)\n\u001b[0;32m   3365\u001b[0m \u001b[39mreturn\u001b[39;00m value\n",
      "File \u001b[1;32m~\\AppData\\Roaming\\Python\\Python310\\site-packages\\traitlets\\traitlets.py:3387\u001b[0m, in \u001b[0;36mDict.validate_elements\u001b[1;34m(self, obj, value)\u001b[0m\n\u001b[0;32m   3385\u001b[0m             v \u001b[39m=\u001b[39m active_value_trait\u001b[39m.\u001b[39m_validate(obj, v)\n\u001b[0;32m   3386\u001b[0m         \u001b[39mexcept\u001b[39;00m TraitError:\n\u001b[1;32m-> 3387\u001b[0m             \u001b[39mself\u001b[39;49m\u001b[39m.\u001b[39;49melement_error(obj, v, active_value_trait, \u001b[39m\"\u001b[39;49m\u001b[39mValues\u001b[39;49m\u001b[39m\"\u001b[39;49m)\n\u001b[0;32m   3388\u001b[0m     validated[key] \u001b[39m=\u001b[39m v\n\u001b[0;32m   3390\u001b[0m \u001b[39mreturn\u001b[39;00m \u001b[39mself\u001b[39m\u001b[39m.\u001b[39mklass(validated)\n",
      "File \u001b[1;32m~\\AppData\\Roaming\\Python\\Python310\\site-packages\\traitlets\\traitlets.py:3358\u001b[0m, in \u001b[0;36mDict.element_error\u001b[1;34m(self, obj, element, validator, side)\u001b[0m\n\u001b[0;32m   3352\u001b[0m \u001b[39mdef\u001b[39;00m \u001b[39melement_error\u001b[39m(\u001b[39mself\u001b[39m, obj, element, validator, side\u001b[39m=\u001b[39m\u001b[39m\"\u001b[39m\u001b[39mValues\u001b[39m\u001b[39m\"\u001b[39m):\n\u001b[0;32m   3353\u001b[0m     e \u001b[39m=\u001b[39m (\n\u001b[0;32m   3354\u001b[0m         side\n\u001b[0;32m   3355\u001b[0m         \u001b[39m+\u001b[39m \u001b[39m\"\u001b[39m\u001b[39m of the \u001b[39m\u001b[39m'\u001b[39m\u001b[39m%s\u001b[39;00m\u001b[39m'\u001b[39m\u001b[39m trait of \u001b[39m\u001b[39m%s\u001b[39;00m\u001b[39m instance must be \u001b[39m\u001b[39m%s\u001b[39;00m\u001b[39m, but a value of \u001b[39m\u001b[39m%s\u001b[39;00m\u001b[39m was specified.\u001b[39m\u001b[39m\"\u001b[39m\n\u001b[0;32m   3356\u001b[0m         \u001b[39m%\u001b[39m (\u001b[39mself\u001b[39m\u001b[39m.\u001b[39mname, class_of(obj), validator\u001b[39m.\u001b[39minfo(), repr_type(element))\n\u001b[0;32m   3357\u001b[0m     )\n\u001b[1;32m-> 3358\u001b[0m     \u001b[39mraise\u001b[39;00m TraitError(e)\n",
      "\u001b[1;31mTraitError\u001b[0m: Values of the 'scales' trait of a Scatter instance must be a Scale, but a value of <class 'bqplot.scales.LinearScale'> <class 'traitlets.traitlets.MetaHasTraits'> was specified."
     ]
    }
   ],
   "source": [
    "points = bqplot.Scatter(x=x[::16], y=y[::16], color=c,  scales={\n",
    "                        \"x\": x_sc, \"y\": y_sc, \"color\": c_sc})\n",
    "fig.marks = [line, points]\n",
    "fig.axes = [x_ax, y_ax, c_ax]"
   ]
  },
  {
   "cell_type": "code",
   "execution_count": null,
   "metadata": {},
   "outputs": [],
   "source": []
  },
  {
   "cell_type": "code",
   "execution_count": 58,
   "metadata": {},
   "outputs": [],
   "source": [
    "x = np.mgrid[0.0:12.0:1024j]\n",
    "y = np.sin(x*5) + np.sin(x/2)**2 + np.random.random(1024)*np.cos(x*10)*0.2"
   ]
  },
  {
   "cell_type": "code",
   "execution_count": 59,
   "metadata": {},
   "outputs": [
    {
     "ename": "TraitError",
     "evalue": "Values of the 'scales' trait of a Lines instance must be a Scale, but a value of <class 'bqplot.scales.LinearScale'> <class 'traitlets.traitlets.MetaHasTraits'> was specified.",
     "output_type": "error",
     "traceback": [
      "\u001b[1;31m---------------------------------------------------------------------------\u001b[0m",
      "\u001b[1;31mTraitError\u001b[0m                                Traceback (most recent call last)",
      "File \u001b[1;32m~\\AppData\\Roaming\\Python\\Python310\\site-packages\\traitlets\\traitlets.py:3385\u001b[0m, in \u001b[0;36mDict.validate_elements\u001b[1;34m(self, obj, value)\u001b[0m\n\u001b[0;32m   3384\u001b[0m \u001b[39mtry\u001b[39;00m:\n\u001b[1;32m-> 3385\u001b[0m     v \u001b[39m=\u001b[39m active_value_trait\u001b[39m.\u001b[39;49m_validate(obj, v)\n\u001b[0;32m   3386\u001b[0m \u001b[39mexcept\u001b[39;00m TraitError:\n",
      "File \u001b[1;32m~\\AppData\\Roaming\\Python\\Python310\\site-packages\\traitlets\\traitlets.py:738\u001b[0m, in \u001b[0;36mTraitType._validate\u001b[1;34m(self, obj, value)\u001b[0m\n\u001b[0;32m    737\u001b[0m \u001b[39mif\u001b[39;00m \u001b[39mhasattr\u001b[39m(\u001b[39mself\u001b[39m, \u001b[39m\"\u001b[39m\u001b[39mvalidate\u001b[39m\u001b[39m\"\u001b[39m):\n\u001b[1;32m--> 738\u001b[0m     value \u001b[39m=\u001b[39m \u001b[39mself\u001b[39;49m\u001b[39m.\u001b[39;49mvalidate(obj, value)\n\u001b[0;32m    739\u001b[0m \u001b[39mif\u001b[39;00m obj\u001b[39m.\u001b[39m_cross_validation_lock \u001b[39mis\u001b[39;00m \u001b[39mFalse\u001b[39;00m:\n",
      "File \u001b[1;32m~\\AppData\\Roaming\\Python\\Python310\\site-packages\\traitlets\\traitlets.py:2151\u001b[0m, in \u001b[0;36mInstance.validate\u001b[1;34m(self, obj, value)\u001b[0m\n\u001b[0;32m   2150\u001b[0m \u001b[39melse\u001b[39;00m:\n\u001b[1;32m-> 2151\u001b[0m     \u001b[39mself\u001b[39;49m\u001b[39m.\u001b[39;49merror(obj, value)\n",
      "File \u001b[1;32m~\\AppData\\Roaming\\Python\\Python310\\site-packages\\traitlets\\traitlets.py:828\u001b[0m, in \u001b[0;36mTraitType.error\u001b[1;34m(self, obj, value, error, info)\u001b[0m\n\u001b[0;32m    826\u001b[0m \u001b[39mif\u001b[39;00m \u001b[39mself\u001b[39m\u001b[39m.\u001b[39mname \u001b[39mis\u001b[39;00m \u001b[39mNone\u001b[39;00m:\n\u001b[0;32m    827\u001b[0m     \u001b[39m# this is not the root trait\u001b[39;00m\n\u001b[1;32m--> 828\u001b[0m     \u001b[39mraise\u001b[39;00m TraitError(value, info \u001b[39mor\u001b[39;00m \u001b[39mself\u001b[39m\u001b[39m.\u001b[39minfo(), \u001b[39mself\u001b[39m)\n\u001b[0;32m    829\u001b[0m \u001b[39melse\u001b[39;00m:\n\u001b[0;32m    830\u001b[0m     \u001b[39m# this is the root trait\u001b[39;00m\n",
      "\u001b[1;31mTraitError\u001b[0m: (<class 'bqplot.scales.LinearScale'>, 'a Scale', <traitlets.traitlets.Instance object at 0x000002248C6E4BE0>)",
      "\nDuring handling of the above exception, another exception occurred:\n",
      "\u001b[1;31mTraitError\u001b[0m                                Traceback (most recent call last)",
      "\u001b[1;32mc:\\Users\\mujjabi2\\OneDrive - University of Illinois - Urbana\\DevOps Course\\Remote_Repositories\\AWS_Server_Repo\\DevOps\\Python\\IS445_Class_Materials\\Classbqplot.ipynb Cell 29\u001b[0m line \u001b[0;36m3\n\u001b[0;32m      <a href='vscode-notebook-cell:/c%3A/Users/mujjabi2/OneDrive%20-%20University%20of%20Illinois%20-%20Urbana/DevOps%20Course/Remote_Repositories/AWS_Server_Repo/DevOps/Python/IS445_Class_Materials/Classbqplot.ipynb#X43sZmlsZQ%3D%3D?line=0'>1</a>\u001b[0m x_sc \u001b[39m=\u001b[39m bqplot\u001b[39m.\u001b[39mLinearScale\n\u001b[0;32m      <a href='vscode-notebook-cell:/c%3A/Users/mujjabi2/OneDrive%20-%20University%20of%20Illinois%20-%20Urbana/DevOps%20Course/Remote_Repositories/AWS_Server_Repo/DevOps/Python/IS445_Class_Materials/Classbqplot.ipynb#X43sZmlsZQ%3D%3D?line=1'>2</a>\u001b[0m y_sc \u001b[39m=\u001b[39m bqplot\u001b[39m.\u001b[39mLinearScale\n\u001b[1;32m----> <a href='vscode-notebook-cell:/c%3A/Users/mujjabi2/OneDrive%20-%20University%20of%20Illinois%20-%20Urbana/DevOps%20Course/Remote_Repositories/AWS_Server_Repo/DevOps/Python/IS445_Class_Materials/Classbqplot.ipynb#X43sZmlsZQ%3D%3D?line=2'>3</a>\u001b[0m lines \u001b[39m=\u001b[39m bqplot\u001b[39m.\u001b[39;49mLines(x \u001b[39m=\u001b[39;49mx, y\u001b[39m=\u001b[39;49my, scales \u001b[39m=\u001b[39;49m {\u001b[39m'\u001b[39;49m\u001b[39mx\u001b[39;49m\u001b[39m'\u001b[39;49m:x_sc, \u001b[39m'\u001b[39;49m\u001b[39my\u001b[39;49m\u001b[39m'\u001b[39;49m:y_sc})\n\u001b[0;32m      <a href='vscode-notebook-cell:/c%3A/Users/mujjabi2/OneDrive%20-%20University%20of%20Illinois%20-%20Urbana/DevOps%20Course/Remote_Repositories/AWS_Server_Repo/DevOps/Python/IS445_Class_Materials/Classbqplot.ipynb#X43sZmlsZQ%3D%3D?line=3'>4</a>\u001b[0m ax_x \u001b[39m=\u001b[39m bqplot\u001b[39m.\u001b[39mAxis(scale \u001b[39m=\u001b[39m x_sc)\n\u001b[0;32m      <a href='vscode-notebook-cell:/c%3A/Users/mujjabi2/OneDrive%20-%20University%20of%20Illinois%20-%20Urbana/DevOps%20Course/Remote_Repositories/AWS_Server_Repo/DevOps/Python/IS445_Class_Materials/Classbqplot.ipynb#X43sZmlsZQ%3D%3D?line=4'>5</a>\u001b[0m ax_y \u001b[39m=\u001b[39m bqplot\u001b[39m.\u001b[39mAxis(scale \u001b[39m=\u001b[39m y_sc, orientation \u001b[39m=\u001b[39m \u001b[39m\"\u001b[39m\u001b[39mvertical\u001b[39m\u001b[39m\"\u001b[39m)\n",
      "File \u001b[1;32m~\\AppData\\Roaming\\Python\\Python310\\site-packages\\bqplot\\marks.py:242\u001b[0m, in \u001b[0;36mMark.__init__\u001b[1;34m(self, **kwargs)\u001b[0m\n\u001b[0;32m    241\u001b[0m \u001b[39mdef\u001b[39;00m \u001b[39m__init__\u001b[39m(\u001b[39mself\u001b[39m, \u001b[39m*\u001b[39m\u001b[39m*\u001b[39mkwargs):\n\u001b[1;32m--> 242\u001b[0m     \u001b[39msuper\u001b[39m(Mark, \u001b[39mself\u001b[39m)\u001b[39m.\u001b[39m\u001b[39m__init__\u001b[39m(\u001b[39m*\u001b[39m\u001b[39m*\u001b[39mkwargs)\n\u001b[0;32m    243\u001b[0m     \u001b[39mself\u001b[39m\u001b[39m.\u001b[39m_hover_handlers \u001b[39m=\u001b[39m CallbackDispatcher()\n\u001b[0;32m    244\u001b[0m     \u001b[39mself\u001b[39m\u001b[39m.\u001b[39m_click_handlers \u001b[39m=\u001b[39m CallbackDispatcher()\n",
      "File \u001b[1;32m~\\AppData\\Roaming\\Python\\Python310\\site-packages\\ipywidgets\\widgets\\widget.py:503\u001b[0m, in \u001b[0;36mWidget.__init__\u001b[1;34m(self, **kwargs)\u001b[0m\n\u001b[0;32m    501\u001b[0m \u001b[39m\u001b[39m\u001b[39m\"\"\"Public constructor\"\"\"\u001b[39;00m\n\u001b[0;32m    502\u001b[0m \u001b[39mself\u001b[39m\u001b[39m.\u001b[39m_model_id \u001b[39m=\u001b[39m kwargs\u001b[39m.\u001b[39mpop(\u001b[39m'\u001b[39m\u001b[39mmodel_id\u001b[39m\u001b[39m'\u001b[39m, \u001b[39mNone\u001b[39;00m)\n\u001b[1;32m--> 503\u001b[0m \u001b[39msuper\u001b[39m()\u001b[39m.\u001b[39m\u001b[39m__init__\u001b[39m(\u001b[39m*\u001b[39m\u001b[39m*\u001b[39mkwargs)\n\u001b[0;32m    505\u001b[0m Widget\u001b[39m.\u001b[39m_call_widget_constructed(\u001b[39mself\u001b[39m)\n\u001b[0;32m    506\u001b[0m \u001b[39mself\u001b[39m\u001b[39m.\u001b[39mopen()\n",
      "File \u001b[1;32m~\\AppData\\Roaming\\Python\\Python310\\site-packages\\traitlets\\traitlets.py:1347\u001b[0m, in \u001b[0;36mHasTraits.__init__\u001b[1;34m(self, *args, **kwargs)\u001b[0m\n\u001b[0;32m   1345\u001b[0m \u001b[39mfor\u001b[39;00m key, value \u001b[39min\u001b[39;00m kwargs\u001b[39m.\u001b[39mitems():\n\u001b[0;32m   1346\u001b[0m     \u001b[39mif\u001b[39;00m \u001b[39mself\u001b[39m\u001b[39m.\u001b[39mhas_trait(key):\n\u001b[1;32m-> 1347\u001b[0m         \u001b[39msetattr\u001b[39;49m(\u001b[39mself\u001b[39;49m, key, value)\n\u001b[0;32m   1348\u001b[0m         changes[key] \u001b[39m=\u001b[39m Bunch(\n\u001b[0;32m   1349\u001b[0m             name\u001b[39m=\u001b[39mkey,\n\u001b[0;32m   1350\u001b[0m             old\u001b[39m=\u001b[39m\u001b[39mNone\u001b[39;00m,\n\u001b[1;32m   (...)\u001b[0m\n\u001b[0;32m   1353\u001b[0m             \u001b[39mtype\u001b[39m\u001b[39m=\u001b[39m\u001b[39m\"\u001b[39m\u001b[39mchange\u001b[39m\u001b[39m\"\u001b[39m,\n\u001b[0;32m   1354\u001b[0m         )\n\u001b[0;32m   1355\u001b[0m     \u001b[39melse\u001b[39;00m:\n\u001b[0;32m   1356\u001b[0m         \u001b[39m# passthrough args that don't set traits to super\u001b[39;00m\n",
      "File \u001b[1;32m~\\AppData\\Roaming\\Python\\Python310\\site-packages\\traitlets\\traitlets.py:732\u001b[0m, in \u001b[0;36mTraitType.__set__\u001b[1;34m(self, obj, value)\u001b[0m\n\u001b[0;32m    730\u001b[0m     \u001b[39mraise\u001b[39;00m TraitError(\u001b[39m'\u001b[39m\u001b[39mThe \u001b[39m\u001b[39m\"\u001b[39m\u001b[39m%s\u001b[39;00m\u001b[39m\"\u001b[39m\u001b[39m trait is read-only.\u001b[39m\u001b[39m'\u001b[39m \u001b[39m%\u001b[39m \u001b[39mself\u001b[39m\u001b[39m.\u001b[39mname)\n\u001b[0;32m    731\u001b[0m \u001b[39melse\u001b[39;00m:\n\u001b[1;32m--> 732\u001b[0m     \u001b[39mself\u001b[39;49m\u001b[39m.\u001b[39;49mset(obj, value)\n",
      "File \u001b[1;32m~\\AppData\\Roaming\\Python\\Python310\\site-packages\\traitlets\\traitlets.py:706\u001b[0m, in \u001b[0;36mTraitType.set\u001b[1;34m(self, obj, value)\u001b[0m\n\u001b[0;32m    705\u001b[0m \u001b[39mdef\u001b[39;00m \u001b[39mset\u001b[39m(\u001b[39mself\u001b[39m, obj, value):\n\u001b[1;32m--> 706\u001b[0m     new_value \u001b[39m=\u001b[39m \u001b[39mself\u001b[39;49m\u001b[39m.\u001b[39;49m_validate(obj, value)\n\u001b[0;32m    707\u001b[0m     \u001b[39mtry\u001b[39;00m:\n\u001b[0;32m    708\u001b[0m         old_value \u001b[39m=\u001b[39m obj\u001b[39m.\u001b[39m_trait_values[\u001b[39mself\u001b[39m\u001b[39m.\u001b[39mname]\n",
      "File \u001b[1;32m~\\AppData\\Roaming\\Python\\Python310\\site-packages\\traitlets\\traitlets.py:738\u001b[0m, in \u001b[0;36mTraitType._validate\u001b[1;34m(self, obj, value)\u001b[0m\n\u001b[0;32m    736\u001b[0m     \u001b[39mreturn\u001b[39;00m value\n\u001b[0;32m    737\u001b[0m \u001b[39mif\u001b[39;00m \u001b[39mhasattr\u001b[39m(\u001b[39mself\u001b[39m, \u001b[39m\"\u001b[39m\u001b[39mvalidate\u001b[39m\u001b[39m\"\u001b[39m):\n\u001b[1;32m--> 738\u001b[0m     value \u001b[39m=\u001b[39m \u001b[39mself\u001b[39;49m\u001b[39m.\u001b[39;49mvalidate(obj, value)\n\u001b[0;32m    739\u001b[0m \u001b[39mif\u001b[39;00m obj\u001b[39m.\u001b[39m_cross_validation_lock \u001b[39mis\u001b[39;00m \u001b[39mFalse\u001b[39;00m:\n\u001b[0;32m    740\u001b[0m     value \u001b[39m=\u001b[39m \u001b[39mself\u001b[39m\u001b[39m.\u001b[39m_cross_validate(obj, value)\n",
      "File \u001b[1;32m~\\AppData\\Roaming\\Python\\Python310\\site-packages\\traitlets\\traitlets.py:3364\u001b[0m, in \u001b[0;36mDict.validate\u001b[1;34m(self, obj, value)\u001b[0m\n\u001b[0;32m   3362\u001b[0m \u001b[39mif\u001b[39;00m value \u001b[39mis\u001b[39;00m \u001b[39mNone\u001b[39;00m:\n\u001b[0;32m   3363\u001b[0m     \u001b[39mreturn\u001b[39;00m value\n\u001b[1;32m-> 3364\u001b[0m value \u001b[39m=\u001b[39m \u001b[39mself\u001b[39;49m\u001b[39m.\u001b[39;49mvalidate_elements(obj, value)\n\u001b[0;32m   3365\u001b[0m \u001b[39mreturn\u001b[39;00m value\n",
      "File \u001b[1;32m~\\AppData\\Roaming\\Python\\Python310\\site-packages\\traitlets\\traitlets.py:3387\u001b[0m, in \u001b[0;36mDict.validate_elements\u001b[1;34m(self, obj, value)\u001b[0m\n\u001b[0;32m   3385\u001b[0m             v \u001b[39m=\u001b[39m active_value_trait\u001b[39m.\u001b[39m_validate(obj, v)\n\u001b[0;32m   3386\u001b[0m         \u001b[39mexcept\u001b[39;00m TraitError:\n\u001b[1;32m-> 3387\u001b[0m             \u001b[39mself\u001b[39;49m\u001b[39m.\u001b[39;49melement_error(obj, v, active_value_trait, \u001b[39m\"\u001b[39;49m\u001b[39mValues\u001b[39;49m\u001b[39m\"\u001b[39;49m)\n\u001b[0;32m   3388\u001b[0m     validated[key] \u001b[39m=\u001b[39m v\n\u001b[0;32m   3390\u001b[0m \u001b[39mreturn\u001b[39;00m \u001b[39mself\u001b[39m\u001b[39m.\u001b[39mklass(validated)\n",
      "File \u001b[1;32m~\\AppData\\Roaming\\Python\\Python310\\site-packages\\traitlets\\traitlets.py:3358\u001b[0m, in \u001b[0;36mDict.element_error\u001b[1;34m(self, obj, element, validator, side)\u001b[0m\n\u001b[0;32m   3352\u001b[0m \u001b[39mdef\u001b[39;00m \u001b[39melement_error\u001b[39m(\u001b[39mself\u001b[39m, obj, element, validator, side\u001b[39m=\u001b[39m\u001b[39m\"\u001b[39m\u001b[39mValues\u001b[39m\u001b[39m\"\u001b[39m):\n\u001b[0;32m   3353\u001b[0m     e \u001b[39m=\u001b[39m (\n\u001b[0;32m   3354\u001b[0m         side\n\u001b[0;32m   3355\u001b[0m         \u001b[39m+\u001b[39m \u001b[39m\"\u001b[39m\u001b[39m of the \u001b[39m\u001b[39m'\u001b[39m\u001b[39m%s\u001b[39;00m\u001b[39m'\u001b[39m\u001b[39m trait of \u001b[39m\u001b[39m%s\u001b[39;00m\u001b[39m instance must be \u001b[39m\u001b[39m%s\u001b[39;00m\u001b[39m, but a value of \u001b[39m\u001b[39m%s\u001b[39;00m\u001b[39m was specified.\u001b[39m\u001b[39m\"\u001b[39m\n\u001b[0;32m   3356\u001b[0m         \u001b[39m%\u001b[39m (\u001b[39mself\u001b[39m\u001b[39m.\u001b[39mname, class_of(obj), validator\u001b[39m.\u001b[39minfo(), repr_type(element))\n\u001b[0;32m   3357\u001b[0m     )\n\u001b[1;32m-> 3358\u001b[0m     \u001b[39mraise\u001b[39;00m TraitError(e)\n",
      "\u001b[1;31mTraitError\u001b[0m: Values of the 'scales' trait of a Lines instance must be a Scale, but a value of <class 'bqplot.scales.LinearScale'> <class 'traitlets.traitlets.MetaHasTraits'> was specified."
     ]
    }
   ],
   "source": [
    "x_sc = bqplot.LinearScale\n",
    "y_sc = bqplot.LinearScale\n",
    "lines = bqplot.Lines(x=x, y=y, scales={'x': x_sc, 'y': y_sc})\n",
    "ax_x = bqplot.Axis(scale=x_sc)\n",
    "ax_y = bqplot.Axis(scale=y_sc, orientation=\"vertical\")\n",
    "\n",
    "y2 = y + np.random.random(1024)*0.05\n",
    "scatter = bqplot.Scatter(x=x[::4], y=y2[::4], scales={'x': x_sc, 'y': y_sc})\n",
    "selector = bqplot.interacts.FastIntervalSelector(scale=x_sc)\n",
    "\n",
    "fig = bqplot.Figure(mark=[lines, scatter], axes=[\n",
    "                    ax_x, ax_y], interaction=selector)\n",
    "label = ipywidgets.Label()\n",
    "\n",
    "\n",
    "def on_change_selected(change):\n",
    "    lower = change['new'][0]\n",
    "    upper = change['new'][1]\n",
    "    my_sum = scatter.y[selected].sum()\n",
    "    label.value = \"Selected from %s to %s\" % (lower, upper)\n",
    "    scatter.selected = np.where((scatter.x > lower) & (scatter.x < upper))[0]\n",
    "\n",
    "\n",
    "selector.observe(on_change_selected, [\"selected\"])\n",
    "\n",
    "ipywidgets.VBox([label, fig])"
   ]
  },
  {
   "cell_type": "code",
   "execution_count": null,
   "metadata": {},
   "outputs": [],
   "source": []
  },
  {
   "cell_type": "code",
   "execution_count": null,
   "metadata": {},
   "outputs": [],
   "source": [
    "x_sc = bqplot.LinearScale\n",
    "y_sc = bqplot.LinearScale\n",
    "lines = bqplot.Lines(x=x, y=y, scales={'x': x_sc, 'y': y_sc})\n",
    "ax_x = bqplot.Axis(scale=x_sc)\n",
    "ax_y = bqplot.Axis(scale=y_sc, orientation=\"vertical\")\n",
    "\n",
    "\n",
    "x_sc2 = bqplot.LinearScale()\n",
    "ax_x2 = bqplot.Axis(scale=x_sc2)\n",
    "\n",
    "\n",
    "y2 = y + np.random.random(1024)*0.05\n",
    "scatter = bqplot.Scatter(x=x[::4], y=y2[::4], scales={'x': x_sc, 'y': y_sc})\n",
    "selector = bqplot.interacts.FastIntervalSelector(scale=x_sc)\n",
    "\n",
    "fig = bqplot.Figure(mark=[lines, scatter], axes=[\n",
    "                    ax_x, ax_y], interaction=selector)\n",
    "label = ipywidgets.Label()\n",
    "\n",
    "\n",
    "def on_change_selected(change):\n",
    "    lower = change['new'][0]\n",
    "    upper = change['new'][1]\n",
    "    my_sum = scatter.y[selected].sum()\n",
    "    label.value = \"Selected from %s to %s\" % (lower, upper)\n",
    "    scatter.selected = np.where((scatter.x > lower) & (scatter.x < upper))[0]\n",
    "\n",
    "\n",
    "selector.observe(on_change_selected, [\"selected\"])\n",
    "\n",
    "ipywidgets.VBox([label, fig])"
   ]
  }
 ],
 "metadata": {
  "kernelspec": {
   "display_name": "Python 3",
   "language": "python",
   "name": "python3"
  },
  "language_info": {
   "codemirror_mode": {
    "name": "ipython",
    "version": 3
   },
   "file_extension": ".py",
   "mimetype": "text/x-python",
   "name": "python",
   "nbconvert_exporter": "python",
   "pygments_lexer": "ipython3",
   "version": "3.10.4"
  },
  "orig_nbformat": 4
 },
 "nbformat": 4,
 "nbformat_minor": 2
}
