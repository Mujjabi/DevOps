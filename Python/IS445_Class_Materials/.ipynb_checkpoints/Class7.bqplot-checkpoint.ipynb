{
 "cells": [
  {
   "cell_type": "code",
   "execution_count": 5,
   "metadata": {
    "tags": []
   },
   "outputs": [
    {
     "name": "stdout",
     "output_type": "stream",
     "text": [
      "Collecting bqplot\n",
      "  Obtaining dependency information for bqplot from https://files.pythonhosted.org/packages/e6/24/78ef6414e1b8c4ec2257ece4b5d138cc141213da83f3361087841fc8da30/bqplot-0.12.40-py2.py3-none-any.whl.metadata\n",
      "  Downloading bqplot-0.12.40-py2.py3-none-any.whl.metadata (6.4 kB)\n",
      "Requirement already satisfied: ipywidgets<9,>=7.5.0 in c:\\users\\mujjabi2\\appdata\\local\\anaconda3\\lib\\site-packages (from bqplot) (8.0.4)\n",
      "Requirement already satisfied: traitlets>=4.3.0 in c:\\users\\mujjabi2\\appdata\\local\\anaconda3\\lib\\site-packages (from bqplot) (5.7.1)\n",
      "Collecting traittypes>=0.0.6 (from bqplot)\n",
      "  Using cached traittypes-0.2.1-py2.py3-none-any.whl (8.6 kB)\n",
      "Requirement already satisfied: numpy>=1.10.4 in c:\\users\\mujjabi2\\appdata\\local\\anaconda3\\lib\\site-packages (from bqplot) (1.24.3)\n",
      "Requirement already satisfied: pandas<3.0.0,>=1.0.0 in c:\\users\\mujjabi2\\appdata\\local\\anaconda3\\lib\\site-packages (from bqplot) (1.5.3)\n",
      "Requirement already satisfied: ipykernel>=4.5.1 in c:\\users\\mujjabi2\\appdata\\local\\anaconda3\\lib\\site-packages (from ipywidgets<9,>=7.5.0->bqplot) (6.19.2)\n",
      "Requirement already satisfied: ipython>=6.1.0 in c:\\users\\mujjabi2\\appdata\\local\\anaconda3\\lib\\site-packages (from ipywidgets<9,>=7.5.0->bqplot) (8.12.0)\n",
      "Requirement already satisfied: widgetsnbextension~=4.0 in c:\\users\\mujjabi2\\appdata\\local\\anaconda3\\lib\\site-packages (from ipywidgets<9,>=7.5.0->bqplot) (4.0.5)\n",
      "Requirement already satisfied: jupyterlab-widgets~=3.0 in c:\\users\\mujjabi2\\appdata\\local\\anaconda3\\lib\\site-packages (from ipywidgets<9,>=7.5.0->bqplot) (3.0.5)\n",
      "Requirement already satisfied: python-dateutil>=2.8.1 in c:\\users\\mujjabi2\\appdata\\local\\anaconda3\\lib\\site-packages (from pandas<3.0.0,>=1.0.0->bqplot) (2.8.2)\n",
      "Requirement already satisfied: pytz>=2020.1 in c:\\users\\mujjabi2\\appdata\\local\\anaconda3\\lib\\site-packages (from pandas<3.0.0,>=1.0.0->bqplot) (2022.7)\n",
      "Requirement already satisfied: comm>=0.1.1 in c:\\users\\mujjabi2\\appdata\\local\\anaconda3\\lib\\site-packages (from ipykernel>=4.5.1->ipywidgets<9,>=7.5.0->bqplot) (0.1.2)\n",
      "Requirement already satisfied: debugpy>=1.0 in c:\\users\\mujjabi2\\appdata\\local\\anaconda3\\lib\\site-packages (from ipykernel>=4.5.1->ipywidgets<9,>=7.5.0->bqplot) (1.6.7)\n",
      "Requirement already satisfied: jupyter-client>=6.1.12 in c:\\users\\mujjabi2\\appdata\\local\\anaconda3\\lib\\site-packages (from ipykernel>=4.5.1->ipywidgets<9,>=7.5.0->bqplot) (7.4.9)\n",
      "Requirement already satisfied: matplotlib-inline>=0.1 in c:\\users\\mujjabi2\\appdata\\local\\anaconda3\\lib\\site-packages (from ipykernel>=4.5.1->ipywidgets<9,>=7.5.0->bqplot) (0.1.6)\n",
      "Requirement already satisfied: nest-asyncio in c:\\users\\mujjabi2\\appdata\\local\\anaconda3\\lib\\site-packages (from ipykernel>=4.5.1->ipywidgets<9,>=7.5.0->bqplot) (1.5.6)\n",
      "Requirement already satisfied: packaging in c:\\users\\mujjabi2\\appdata\\local\\anaconda3\\lib\\site-packages (from ipykernel>=4.5.1->ipywidgets<9,>=7.5.0->bqplot) (23.0)\n",
      "Requirement already satisfied: psutil in c:\\users\\mujjabi2\\appdata\\local\\anaconda3\\lib\\site-packages (from ipykernel>=4.5.1->ipywidgets<9,>=7.5.0->bqplot) (5.9.0)\n",
      "Requirement already satisfied: pyzmq>=17 in c:\\users\\mujjabi2\\appdata\\local\\anaconda3\\lib\\site-packages (from ipykernel>=4.5.1->ipywidgets<9,>=7.5.0->bqplot) (23.2.0)\n",
      "Requirement already satisfied: tornado>=6.1 in c:\\users\\mujjabi2\\appdata\\local\\anaconda3\\lib\\site-packages (from ipykernel>=4.5.1->ipywidgets<9,>=7.5.0->bqplot) (6.3.2)\n",
      "Requirement already satisfied: backcall in c:\\users\\mujjabi2\\appdata\\local\\anaconda3\\lib\\site-packages (from ipython>=6.1.0->ipywidgets<9,>=7.5.0->bqplot) (0.2.0)\n",
      "Requirement already satisfied: decorator in c:\\users\\mujjabi2\\appdata\\local\\anaconda3\\lib\\site-packages (from ipython>=6.1.0->ipywidgets<9,>=7.5.0->bqplot) (5.1.1)\n",
      "Requirement already satisfied: jedi>=0.16 in c:\\users\\mujjabi2\\appdata\\local\\anaconda3\\lib\\site-packages (from ipython>=6.1.0->ipywidgets<9,>=7.5.0->bqplot) (0.18.1)\n",
      "Requirement already satisfied: pickleshare in c:\\users\\mujjabi2\\appdata\\local\\anaconda3\\lib\\site-packages (from ipython>=6.1.0->ipywidgets<9,>=7.5.0->bqplot) (0.7.5)\n",
      "Requirement already satisfied: prompt-toolkit!=3.0.37,<3.1.0,>=3.0.30 in c:\\users\\mujjabi2\\appdata\\local\\anaconda3\\lib\\site-packages (from ipython>=6.1.0->ipywidgets<9,>=7.5.0->bqplot) (3.0.36)\n",
      "Requirement already satisfied: pygments>=2.4.0 in c:\\users\\mujjabi2\\appdata\\local\\anaconda3\\lib\\site-packages (from ipython>=6.1.0->ipywidgets<9,>=7.5.0->bqplot) (2.15.1)\n",
      "Requirement already satisfied: stack-data in c:\\users\\mujjabi2\\appdata\\local\\anaconda3\\lib\\site-packages (from ipython>=6.1.0->ipywidgets<9,>=7.5.0->bqplot) (0.2.0)\n",
      "Requirement already satisfied: colorama in c:\\users\\mujjabi2\\appdata\\local\\anaconda3\\lib\\site-packages (from ipython>=6.1.0->ipywidgets<9,>=7.5.0->bqplot) (0.4.6)\n",
      "Requirement already satisfied: six>=1.5 in c:\\users\\mujjabi2\\appdata\\local\\anaconda3\\lib\\site-packages (from python-dateutil>=2.8.1->pandas<3.0.0,>=1.0.0->bqplot) (1.16.0)\n",
      "Requirement already satisfied: parso<0.9.0,>=0.8.0 in c:\\users\\mujjabi2\\appdata\\local\\anaconda3\\lib\\site-packages (from jedi>=0.16->ipython>=6.1.0->ipywidgets<9,>=7.5.0->bqplot) (0.8.3)\n",
      "Requirement already satisfied: entrypoints in c:\\users\\mujjabi2\\appdata\\local\\anaconda3\\lib\\site-packages (from jupyter-client>=6.1.12->ipykernel>=4.5.1->ipywidgets<9,>=7.5.0->bqplot) (0.4)\n",
      "Requirement already satisfied: jupyter-core>=4.9.2 in c:\\users\\mujjabi2\\appdata\\local\\anaconda3\\lib\\site-packages (from jupyter-client>=6.1.12->ipykernel>=4.5.1->ipywidgets<9,>=7.5.0->bqplot) (5.3.0)\n",
      "Requirement already satisfied: wcwidth in c:\\users\\mujjabi2\\appdata\\local\\anaconda3\\lib\\site-packages (from prompt-toolkit!=3.0.37,<3.1.0,>=3.0.30->ipython>=6.1.0->ipywidgets<9,>=7.5.0->bqplot) (0.2.5)\n",
      "Requirement already satisfied: executing in c:\\users\\mujjabi2\\appdata\\local\\anaconda3\\lib\\site-packages (from stack-data->ipython>=6.1.0->ipywidgets<9,>=7.5.0->bqplot) (0.8.3)\n",
      "Requirement already satisfied: asttokens in c:\\users\\mujjabi2\\appdata\\local\\anaconda3\\lib\\site-packages (from stack-data->ipython>=6.1.0->ipywidgets<9,>=7.5.0->bqplot) (2.0.5)\n",
      "Requirement already satisfied: pure-eval in c:\\users\\mujjabi2\\appdata\\local\\anaconda3\\lib\\site-packages (from stack-data->ipython>=6.1.0->ipywidgets<9,>=7.5.0->bqplot) (0.2.2)\n",
      "Requirement already satisfied: platformdirs>=2.5 in c:\\users\\mujjabi2\\appdata\\local\\anaconda3\\lib\\site-packages (from jupyter-core>=4.9.2->jupyter-client>=6.1.12->ipykernel>=4.5.1->ipywidgets<9,>=7.5.0->bqplot) (2.5.2)\n",
      "Requirement already satisfied: pywin32>=300 in c:\\users\\mujjabi2\\appdata\\local\\anaconda3\\lib\\site-packages (from jupyter-core>=4.9.2->jupyter-client>=6.1.12->ipykernel>=4.5.1->ipywidgets<9,>=7.5.0->bqplot) (305.1)\n",
      "Using cached bqplot-0.12.40-py2.py3-none-any.whl (1.2 MB)\n",
      "Installing collected packages: traittypes, bqplot\n",
      "Successfully installed bqplot-0.12.40 traittypes-0.2.1\n",
      "Note: you may need to restart the kernel to use updated packages.\n"
     ]
    }
   ],
   "source": [
    "pip install bqplot"
   ]
  },
  {
   "cell_type": "code",
   "execution_count": 6,
   "metadata": {
    "tags": []
   },
   "outputs": [],
   "source": [
    "import bqplot\n",
    "import numpy as np\n",
    "import ipywidgets\n",
    "import pandas as pd"
   ]
  },
  {
   "cell_type": "code",
   "execution_count": 7,
   "metadata": {
    "tags": []
   },
   "outputs": [],
   "source": [
    "counties = pd.read_csv(\n",
    "    \"https://raw.githubusercontent.com/nytimes/covid-19-data/master/us-counties.csv\", parse_dates=[\"date\"])"
   ]
  },
  {
   "cell_type": "code",
   "execution_count": 8,
   "metadata": {
    "tags": []
   },
   "outputs": [],
   "source": [
    "States = pd.read_csv(\n",
    "    \"https://raw.githubusercontent.com/nytimes/covid-19-data/master/us-states.csv\", parse_dates=[\"date\"])"
   ]
  },
  {
   "cell_type": "code",
   "execution_count": 9,
   "metadata": {
    "tags": []
   },
   "outputs": [
    {
     "data": {
      "text/plain": [
       "date      datetime64[ns]\n",
       "county            object\n",
       "state             object\n",
       "fips             float64\n",
       "cases              int64\n",
       "deaths           float64\n",
       "dtype: object"
      ]
     },
     "execution_count": 9,
     "metadata": {},
     "output_type": "execute_result"
    }
   ],
   "source": [
    "counties.dtypes"
   ]
  },
  {
   "cell_type": "code",
   "execution_count": 10,
   "metadata": {
    "tags": []
   },
   "outputs": [
    {
     "data": {
      "text/html": [
       "<div>\n",
       "<style scoped>\n",
       "    .dataframe tbody tr th:only-of-type {\n",
       "        vertical-align: middle;\n",
       "    }\n",
       "\n",
       "    .dataframe tbody tr th {\n",
       "        vertical-align: top;\n",
       "    }\n",
       "\n",
       "    .dataframe thead th {\n",
       "        text-align: right;\n",
       "    }\n",
       "</style>\n",
       "<table border=\"1\" class=\"dataframe\">\n",
       "  <thead>\n",
       "    <tr style=\"text-align: right;\">\n",
       "      <th></th>\n",
       "      <th>date</th>\n",
       "      <th>state</th>\n",
       "      <th>fips</th>\n",
       "      <th>cases</th>\n",
       "      <th>deaths</th>\n",
       "    </tr>\n",
       "  </thead>\n",
       "  <tbody>\n",
       "    <tr>\n",
       "      <th>3</th>\n",
       "      <td>2020-01-24</td>\n",
       "      <td>Illinois</td>\n",
       "      <td>17</td>\n",
       "      <td>1</td>\n",
       "      <td>0</td>\n",
       "    </tr>\n",
       "    <tr>\n",
       "      <th>6</th>\n",
       "      <td>2020-01-25</td>\n",
       "      <td>Illinois</td>\n",
       "      <td>17</td>\n",
       "      <td>1</td>\n",
       "      <td>0</td>\n",
       "    </tr>\n",
       "    <tr>\n",
       "      <th>10</th>\n",
       "      <td>2020-01-26</td>\n",
       "      <td>Illinois</td>\n",
       "      <td>17</td>\n",
       "      <td>1</td>\n",
       "      <td>0</td>\n",
       "    </tr>\n",
       "    <tr>\n",
       "      <th>14</th>\n",
       "      <td>2020-01-27</td>\n",
       "      <td>Illinois</td>\n",
       "      <td>17</td>\n",
       "      <td>1</td>\n",
       "      <td>0</td>\n",
       "    </tr>\n",
       "    <tr>\n",
       "      <th>18</th>\n",
       "      <td>2020-01-28</td>\n",
       "      <td>Illinois</td>\n",
       "      <td>17</td>\n",
       "      <td>1</td>\n",
       "      <td>0</td>\n",
       "    </tr>\n",
       "    <tr>\n",
       "      <th>...</th>\n",
       "      <td>...</td>\n",
       "      <td>...</td>\n",
       "      <td>...</td>\n",
       "      <td>...</td>\n",
       "      <td>...</td>\n",
       "    </tr>\n",
       "    <tr>\n",
       "      <th>61677</th>\n",
       "      <td>2023-03-19</td>\n",
       "      <td>Illinois</td>\n",
       "      <td>17</td>\n",
       "      <td>4099400</td>\n",
       "      <td>41573</td>\n",
       "    </tr>\n",
       "    <tr>\n",
       "      <th>61733</th>\n",
       "      <td>2023-03-20</td>\n",
       "      <td>Illinois</td>\n",
       "      <td>17</td>\n",
       "      <td>4099448</td>\n",
       "      <td>41573</td>\n",
       "    </tr>\n",
       "    <tr>\n",
       "      <th>61789</th>\n",
       "      <td>2023-03-21</td>\n",
       "      <td>Illinois</td>\n",
       "      <td>17</td>\n",
       "      <td>4099448</td>\n",
       "      <td>41573</td>\n",
       "    </tr>\n",
       "    <tr>\n",
       "      <th>61845</th>\n",
       "      <td>2023-03-22</td>\n",
       "      <td>Illinois</td>\n",
       "      <td>17</td>\n",
       "      <td>4099448</td>\n",
       "      <td>41573</td>\n",
       "    </tr>\n",
       "    <tr>\n",
       "      <th>61901</th>\n",
       "      <td>2023-03-23</td>\n",
       "      <td>Illinois</td>\n",
       "      <td>17</td>\n",
       "      <td>4107931</td>\n",
       "      <td>41618</td>\n",
       "    </tr>\n",
       "  </tbody>\n",
       "</table>\n",
       "<p>1155 rows × 5 columns</p>\n",
       "</div>"
      ],
      "text/plain": [
       "            date     state  fips    cases  deaths\n",
       "3     2020-01-24  Illinois    17        1       0\n",
       "6     2020-01-25  Illinois    17        1       0\n",
       "10    2020-01-26  Illinois    17        1       0\n",
       "14    2020-01-27  Illinois    17        1       0\n",
       "18    2020-01-28  Illinois    17        1       0\n",
       "...          ...       ...   ...      ...     ...\n",
       "61677 2023-03-19  Illinois    17  4099400   41573\n",
       "61733 2023-03-20  Illinois    17  4099448   41573\n",
       "61789 2023-03-21  Illinois    17  4099448   41573\n",
       "61845 2023-03-22  Illinois    17  4099448   41573\n",
       "61901 2023-03-23  Illinois    17  4107931   41618\n",
       "\n",
       "[1155 rows x 5 columns]"
      ]
     },
     "execution_count": 10,
     "metadata": {},
     "output_type": "execute_result"
    }
   ],
   "source": [
    "Illinois = States[States[\"state\"] == \"Illinois\"]\n",
    "Illinois"
   ]
  },
  {
   "cell_type": "code",
   "execution_count": 11,
   "metadata": {
    "tags": []
   },
   "outputs": [
    {
     "data": {
      "text/plain": [
       "3        False\n",
       "6        False\n",
       "10       False\n",
       "14       False\n",
       "18        True\n",
       "         ...  \n",
       "61677    False\n",
       "61733    False\n",
       "61789    False\n",
       "61845    False\n",
       "61901    False\n",
       "Name: date, Length: 1155, dtype: bool"
      ]
     },
     "execution_count": 11,
     "metadata": {},
     "output_type": "execute_result"
    }
   ],
   "source": [
    "Illinois[\"date\"] == \"January 28, 2020\""
   ]
  },
  {
   "cell_type": "code",
   "execution_count": 12,
   "metadata": {
    "tags": []
   },
   "outputs": [
    {
     "data": {
      "application/vnd.jupyter.widget-view+json": {
       "model_id": "95d6306c105347b78911f97215790b05",
       "version_major": 2,
       "version_minor": 0
      },
      "text/plain": [
       "Figure(axes=[Axis(label='Date', scale=DateScale()), Axis(label='Cases (cumulative)', orientation='vertical', s…"
      ]
     },
     "metadata": {},
     "output_type": "display_data"
    }
   ],
   "source": [
    "x_sc = bqplot.DateScale()\n",
    "y_sc = bqplot.LinearScale()\n",
    "\n",
    "x_ax = bqplot.Axis(scale=x_sc, label=\"Date\")\n",
    "y_ax = bqplot.Axis(scale=y_sc, label=\"Cases (cumulative)\",\n",
    "                   orientation=\"vertical\")\n",
    "\n",
    "lines = bqplot.Lines(x=Illinois[\"date\"], y=Illinois[\"cases\"],\n",
    "                     scales={'x': x_sc, 'y': y_sc})\n",
    "fig = bqplot.Figure(marks=[lines], axes=[x_ax, y_ax])\n",
    "display(fig)"
   ]
  },
  {
   "cell_type": "code",
   "execution_count": 13,
   "metadata": {
    "tags": []
   },
   "outputs": [
    {
     "data": {
      "application/vnd.jupyter.widget-view+json": {
       "model_id": "6a2475a222ce484c8b6b0c174ef19d43",
       "version_major": 2,
       "version_minor": 0
      },
      "text/plain": [
       "Figure(axes=[Axis(label='Date', scale=DateScale()), Axis(label='Cases (cumulative)', orientation='vertical', s…"
      ]
     },
     "metadata": {},
     "output_type": "display_data"
    }
   ],
   "source": [
    "x_sc = bqplot.DateScale()\n",
    "y_sc = bqplot.LinearScale()\n",
    "\n",
    "x_ax = bqplot.Axis(scale=x_sc, label=\"Date\")\n",
    "y_ax = bqplot.Axis(scale=y_sc, label=\"Cases (cumulative)\",\n",
    "                   orientation=\"vertical\")\n",
    "\n",
    "lines = bqplot.Lines(x=Illinois[\"date\"], y=Illinois[\"cases\"],\n",
    "                     scales={'x': x_sc, 'y': y_sc})\n",
    "\n",
    "date_selection = bqplot.interacts.FastIntervalSelector(scale=x_sc)\n",
    "\n",
    "fig = bqplot.Figure(marks=[lines], axes=[x_ax, y_ax],\n",
    "                    interaction=date_selection)\n",
    "display(fig)"
   ]
  },
  {
   "cell_type": "code",
   "execution_count": 14,
   "metadata": {
    "tags": []
   },
   "outputs": [
    {
     "data": {
      "text/plain": [
       "array(['2021-04-25T02:34:59.967', '2021-07-02T08:49:11.372'],\n",
       "      dtype='datetime64[ms]')"
      ]
     },
     "execution_count": 14,
     "metadata": {},
     "output_type": "execute_result"
    }
   ],
   "source": [
    "date_selection.selected"
   ]
  },
  {
   "cell_type": "code",
   "execution_count": 15,
   "metadata": {
    "tags": []
   },
   "outputs": [],
   "source": [
    "import ipywidgets"
   ]
  },
  {
   "cell_type": "code",
   "execution_count": 17,
   "metadata": {
    "tags": []
   },
   "outputs": [
    {
     "data": {
      "application/vnd.jupyter.widget-view+json": {
       "model_id": "a881ed11923546a9bcb4a0e48465c579",
       "version_major": 2,
       "version_minor": 0
      },
      "text/plain": [
       "Label(value='')"
      ]
     },
     "metadata": {},
     "output_type": "display_data"
    }
   ],
   "source": [
    "label = ipywidgets.Label()\n",
    "display(label)"
   ]
  },
  {
   "cell_type": "code",
   "execution_count": 18,
   "metadata": {
    "tags": []
   },
   "outputs": [],
   "source": [
    "def watch_selection(change):\n",
    "    label.value = \"Going from %s to %s\" % (change[\"new\"][0], change[\"new\"][1])\n",
    "    date_selection.unobserve_all()\n",
    "    date_selection.observe(watch_selection, [\"selected\"])"
   ]
  },
  {
   "cell_type": "code",
   "execution_count": 19,
   "metadata": {
    "tags": []
   },
   "outputs": [],
   "source": [
    "Illinois.set_index(\"date\", inplace=True)"
   ]
  },
  {
   "cell_type": "code",
   "execution_count": 20,
   "metadata": {
    "tags": []
   },
   "outputs": [
    {
     "data": {
      "text/html": [
       "<div>\n",
       "<style scoped>\n",
       "    .dataframe tbody tr th:only-of-type {\n",
       "        vertical-align: middle;\n",
       "    }\n",
       "\n",
       "    .dataframe tbody tr th {\n",
       "        vertical-align: top;\n",
       "    }\n",
       "\n",
       "    .dataframe thead th {\n",
       "        text-align: right;\n",
       "    }\n",
       "</style>\n",
       "<table border=\"1\" class=\"dataframe\">\n",
       "  <thead>\n",
       "    <tr style=\"text-align: right;\">\n",
       "      <th></th>\n",
       "      <th>state</th>\n",
       "      <th>fips</th>\n",
       "      <th>cases</th>\n",
       "      <th>deaths</th>\n",
       "    </tr>\n",
       "    <tr>\n",
       "      <th>date</th>\n",
       "      <th></th>\n",
       "      <th></th>\n",
       "      <th></th>\n",
       "      <th></th>\n",
       "    </tr>\n",
       "  </thead>\n",
       "  <tbody>\n",
       "    <tr>\n",
       "      <th>2020-01-24</th>\n",
       "      <td>Illinois</td>\n",
       "      <td>17</td>\n",
       "      <td>1</td>\n",
       "      <td>0</td>\n",
       "    </tr>\n",
       "    <tr>\n",
       "      <th>2020-01-25</th>\n",
       "      <td>Illinois</td>\n",
       "      <td>17</td>\n",
       "      <td>1</td>\n",
       "      <td>0</td>\n",
       "    </tr>\n",
       "    <tr>\n",
       "      <th>2020-01-26</th>\n",
       "      <td>Illinois</td>\n",
       "      <td>17</td>\n",
       "      <td>1</td>\n",
       "      <td>0</td>\n",
       "    </tr>\n",
       "    <tr>\n",
       "      <th>2020-01-27</th>\n",
       "      <td>Illinois</td>\n",
       "      <td>17</td>\n",
       "      <td>1</td>\n",
       "      <td>0</td>\n",
       "    </tr>\n",
       "    <tr>\n",
       "      <th>2020-01-28</th>\n",
       "      <td>Illinois</td>\n",
       "      <td>17</td>\n",
       "      <td>1</td>\n",
       "      <td>0</td>\n",
       "    </tr>\n",
       "    <tr>\n",
       "      <th>...</th>\n",
       "      <td>...</td>\n",
       "      <td>...</td>\n",
       "      <td>...</td>\n",
       "      <td>...</td>\n",
       "    </tr>\n",
       "    <tr>\n",
       "      <th>2023-03-19</th>\n",
       "      <td>Illinois</td>\n",
       "      <td>17</td>\n",
       "      <td>4099400</td>\n",
       "      <td>41573</td>\n",
       "    </tr>\n",
       "    <tr>\n",
       "      <th>2023-03-20</th>\n",
       "      <td>Illinois</td>\n",
       "      <td>17</td>\n",
       "      <td>4099448</td>\n",
       "      <td>41573</td>\n",
       "    </tr>\n",
       "    <tr>\n",
       "      <th>2023-03-21</th>\n",
       "      <td>Illinois</td>\n",
       "      <td>17</td>\n",
       "      <td>4099448</td>\n",
       "      <td>41573</td>\n",
       "    </tr>\n",
       "    <tr>\n",
       "      <th>2023-03-22</th>\n",
       "      <td>Illinois</td>\n",
       "      <td>17</td>\n",
       "      <td>4099448</td>\n",
       "      <td>41573</td>\n",
       "    </tr>\n",
       "    <tr>\n",
       "      <th>2023-03-23</th>\n",
       "      <td>Illinois</td>\n",
       "      <td>17</td>\n",
       "      <td>4107931</td>\n",
       "      <td>41618</td>\n",
       "    </tr>\n",
       "  </tbody>\n",
       "</table>\n",
       "<p>1155 rows × 4 columns</p>\n",
       "</div>"
      ],
      "text/plain": [
       "               state  fips    cases  deaths\n",
       "date                                       \n",
       "2020-01-24  Illinois    17        1       0\n",
       "2020-01-25  Illinois    17        1       0\n",
       "2020-01-26  Illinois    17        1       0\n",
       "2020-01-27  Illinois    17        1       0\n",
       "2020-01-28  Illinois    17        1       0\n",
       "...              ...   ...      ...     ...\n",
       "2023-03-19  Illinois    17  4099400   41573\n",
       "2023-03-20  Illinois    17  4099448   41573\n",
       "2023-03-21  Illinois    17  4099448   41573\n",
       "2023-03-22  Illinois    17  4099448   41573\n",
       "2023-03-23  Illinois    17  4107931   41618\n",
       "\n",
       "[1155 rows x 4 columns]"
      ]
     },
     "execution_count": 20,
     "metadata": {},
     "output_type": "execute_result"
    }
   ],
   "source": [
    "Illinois"
   ]
  },
  {
   "cell_type": "code",
   "execution_count": 21,
   "metadata": {
    "tags": []
   },
   "outputs": [
    {
     "ename": "KeyError",
     "evalue": "'date'",
     "output_type": "error",
     "traceback": [
      "\u001b[1;31m---------------------------------------------------------------------------\u001b[0m",
      "\u001b[1;31mKeyError\u001b[0m                                  Traceback (most recent call last)",
      "File \u001b[1;32m~\\AppData\\Local\\anaconda3\\Lib\\site-packages\\pandas\\core\\indexes\\base.py:3802\u001b[0m, in \u001b[0;36mIndex.get_loc\u001b[1;34m(self, key, method, tolerance)\u001b[0m\n\u001b[0;32m   3801\u001b[0m \u001b[38;5;28;01mtry\u001b[39;00m:\n\u001b[1;32m-> 3802\u001b[0m     \u001b[38;5;28;01mreturn\u001b[39;00m \u001b[38;5;28mself\u001b[39m\u001b[38;5;241m.\u001b[39m_engine\u001b[38;5;241m.\u001b[39mget_loc(casted_key)\n\u001b[0;32m   3803\u001b[0m \u001b[38;5;28;01mexcept\u001b[39;00m \u001b[38;5;167;01mKeyError\u001b[39;00m \u001b[38;5;28;01mas\u001b[39;00m err:\n",
      "File \u001b[1;32m~\\AppData\\Local\\anaconda3\\Lib\\site-packages\\pandas\\_libs\\index.pyx:138\u001b[0m, in \u001b[0;36mpandas._libs.index.IndexEngine.get_loc\u001b[1;34m()\u001b[0m\n",
      "File \u001b[1;32m~\\AppData\\Local\\anaconda3\\Lib\\site-packages\\pandas\\_libs\\index.pyx:165\u001b[0m, in \u001b[0;36mpandas._libs.index.IndexEngine.get_loc\u001b[1;34m()\u001b[0m\n",
      "File \u001b[1;32mpandas\\_libs\\hashtable_class_helper.pxi:5745\u001b[0m, in \u001b[0;36mpandas._libs.hashtable.PyObjectHashTable.get_item\u001b[1;34m()\u001b[0m\n",
      "File \u001b[1;32mpandas\\_libs\\hashtable_class_helper.pxi:5753\u001b[0m, in \u001b[0;36mpandas._libs.hashtable.PyObjectHashTable.get_item\u001b[1;34m()\u001b[0m\n",
      "\u001b[1;31mKeyError\u001b[0m: 'date'",
      "\nThe above exception was the direct cause of the following exception:\n",
      "\u001b[1;31mKeyError\u001b[0m                                  Traceback (most recent call last)",
      "Cell \u001b[1;32mIn[21], line 1\u001b[0m\n\u001b[1;32m----> 1\u001b[0m in_range \u001b[38;5;241m=\u001b[39m ((Illinois[\u001b[38;5;124m\"\u001b[39m\u001b[38;5;124mdate\u001b[39m\u001b[38;5;124m\"\u001b[39m] \u001b[38;5;241m<\u001b[39m date_selection\u001b[38;5;241m.\u001b[39mselected[\u001b[38;5;241m1\u001b[39m])\n\u001b[0;32m      2\u001b[0m             \u001b[38;5;241m&\u001b[39m (Illinois[\u001b[38;5;124m\"\u001b[39m\u001b[38;5;124mdate\u001b[39m\u001b[38;5;124m\"\u001b[39m] \u001b[38;5;241m>\u001b[39m date_selection\u001b[38;5;241m.\u001b[39mselected[\u001b[38;5;241m0\u001b[39m]))\n",
      "File \u001b[1;32m~\\AppData\\Local\\anaconda3\\Lib\\site-packages\\pandas\\core\\frame.py:3807\u001b[0m, in \u001b[0;36mDataFrame.__getitem__\u001b[1;34m(self, key)\u001b[0m\n\u001b[0;32m   3805\u001b[0m \u001b[38;5;28;01mif\u001b[39;00m \u001b[38;5;28mself\u001b[39m\u001b[38;5;241m.\u001b[39mcolumns\u001b[38;5;241m.\u001b[39mnlevels \u001b[38;5;241m>\u001b[39m \u001b[38;5;241m1\u001b[39m:\n\u001b[0;32m   3806\u001b[0m     \u001b[38;5;28;01mreturn\u001b[39;00m \u001b[38;5;28mself\u001b[39m\u001b[38;5;241m.\u001b[39m_getitem_multilevel(key)\n\u001b[1;32m-> 3807\u001b[0m indexer \u001b[38;5;241m=\u001b[39m \u001b[38;5;28mself\u001b[39m\u001b[38;5;241m.\u001b[39mcolumns\u001b[38;5;241m.\u001b[39mget_loc(key)\n\u001b[0;32m   3808\u001b[0m \u001b[38;5;28;01mif\u001b[39;00m is_integer(indexer):\n\u001b[0;32m   3809\u001b[0m     indexer \u001b[38;5;241m=\u001b[39m [indexer]\n",
      "File \u001b[1;32m~\\AppData\\Local\\anaconda3\\Lib\\site-packages\\pandas\\core\\indexes\\base.py:3804\u001b[0m, in \u001b[0;36mIndex.get_loc\u001b[1;34m(self, key, method, tolerance)\u001b[0m\n\u001b[0;32m   3802\u001b[0m     \u001b[38;5;28;01mreturn\u001b[39;00m \u001b[38;5;28mself\u001b[39m\u001b[38;5;241m.\u001b[39m_engine\u001b[38;5;241m.\u001b[39mget_loc(casted_key)\n\u001b[0;32m   3803\u001b[0m \u001b[38;5;28;01mexcept\u001b[39;00m \u001b[38;5;167;01mKeyError\u001b[39;00m \u001b[38;5;28;01mas\u001b[39;00m err:\n\u001b[1;32m-> 3804\u001b[0m     \u001b[38;5;28;01mraise\u001b[39;00m \u001b[38;5;167;01mKeyError\u001b[39;00m(key) \u001b[38;5;28;01mfrom\u001b[39;00m \u001b[38;5;21;01merr\u001b[39;00m\n\u001b[0;32m   3805\u001b[0m \u001b[38;5;28;01mexcept\u001b[39;00m \u001b[38;5;167;01mTypeError\u001b[39;00m:\n\u001b[0;32m   3806\u001b[0m     \u001b[38;5;66;03m# If we have a listlike key, _check_indexing_error will raise\u001b[39;00m\n\u001b[0;32m   3807\u001b[0m     \u001b[38;5;66;03m#  InvalidIndexError. Otherwise we fall through and re-raise\u001b[39;00m\n\u001b[0;32m   3808\u001b[0m     \u001b[38;5;66;03m#  the TypeError.\u001b[39;00m\n\u001b[0;32m   3809\u001b[0m     \u001b[38;5;28mself\u001b[39m\u001b[38;5;241m.\u001b[39m_check_indexing_error(key)\n",
      "\u001b[1;31mKeyError\u001b[0m: 'date'"
     ]
    }
   ],
   "source": [
    "in_range = ((Illinois[\"date\"] < date_selection.selected[1])\n",
    "            & (Illinois[\"date\"] > date_selection.selected[0]))"
   ]
  },
  {
   "cell_type": "code",
   "execution_count": 23,
   "metadata": {
    "tags": []
   },
   "outputs": [],
   "source": [
    "from bqplot import topo_load"
   ]
  },
  {
   "cell_type": "code",
   "execution_count": 33,
   "metadata": {
    "tags": []
   },
   "outputs": [],
   "source": [
    "state_map = bqplot.topo_load(\"map_data/USStatesMap.json\")"
   ]
  },
  {
   "cell_type": "code",
   "execution_count": 36,
   "metadata": {
    "tags": []
   },
   "outputs": [],
   "source": [
    "cases_by_fips = States.groupby(\"fips\")[\"cases\"].max().to_dict()"
   ]
  },
  {
   "cell_type": "code",
   "execution_count": 40,
   "metadata": {
    "tags": []
   },
   "outputs": [
    {
     "data": {
      "application/vnd.jupyter.widget-view+json": {
       "model_id": "6bcd81d66f7b49b491653535257de486",
       "version_major": 2,
       "version_minor": 0
      },
      "text/plain": [
       "Figure(axes=[ColorAxis(scale=ColorScale(scheme='BuPu'))], fig_margin={'top': 60, 'bottom': 60, 'left': 60, 'ri…"
      ]
     },
     "metadata": {},
     "output_type": "display_data"
    }
   ],
   "source": [
    "proj = bqplot.AlbersUSA()\n",
    "color_sc = bqplot.ColorScale(scheme=\"BuPu\")\n",
    "color_ax = bqplot.ColorAxis(scale=color_sc)\n",
    "map_mark = bqplot.Map(map_data = state_map, color=cases_by_fips,\n",
    "                      scales={'projection': proj,\n",
    "                              'color': color_sc})\n",
    "fig = bqplot.Figure(marks=[map_mark], axes=[color_ax])\n",
    "display(fig)"
   ]
  },
  {
   "cell_type": "code",
   "execution_count": 30,
   "metadata": {
    "tags": []
   },
   "outputs": [
    {
     "data": {
      "application/vnd.jupyter.widget-view+json": {
       "model_id": "f98d713456624645994f8cfcf8bdd67a",
       "version_major": 2,
       "version_minor": 0
      },
      "text/plain": [
       "Label(value='')"
      ]
     },
     "metadata": {},
     "output_type": "display_data"
    }
   ],
   "source": [
    "label2 = ipywidgets.Label()\n",
    "display(label2)"
   ]
  },
  {
   "cell_type": "code",
   "execution_count": 31,
   "metadata": {
    "tags": []
   },
   "outputs": [],
   "source": [
    "def hover_over_state(name, hover_info):\n",
    "    label2.value = \"%s had %s cases\" % (\n",
    "        hover_info['data']['name'], hover_info['data']['color'])\n",
    "\n",
    "\n",
    "map_mark.on_hover(hover_over_state)"
   ]
  },
  {
   "cell_type": "code",
   "execution_count": 29,
   "metadata": {
    "tags": []
   },
   "outputs": [
    {
     "ename": "KeyError",
     "evalue": "'date'",
     "output_type": "error",
     "traceback": [
      "\u001b[1;31m---------------------------------------------------------------------------\u001b[0m",
      "\u001b[1;31mKeyError\u001b[0m                                  Traceback (most recent call last)",
      "File \u001b[1;32m~\\AppData\\Local\\anaconda3\\Lib\\site-packages\\pandas\\core\\indexes\\base.py:3802\u001b[0m, in \u001b[0;36mIndex.get_loc\u001b[1;34m(self, key, method, tolerance)\u001b[0m\n\u001b[0;32m   3801\u001b[0m \u001b[38;5;28;01mtry\u001b[39;00m:\n\u001b[1;32m-> 3802\u001b[0m     \u001b[38;5;28;01mreturn\u001b[39;00m \u001b[38;5;28mself\u001b[39m\u001b[38;5;241m.\u001b[39m_engine\u001b[38;5;241m.\u001b[39mget_loc(casted_key)\n\u001b[0;32m   3803\u001b[0m \u001b[38;5;28;01mexcept\u001b[39;00m \u001b[38;5;167;01mKeyError\u001b[39;00m \u001b[38;5;28;01mas\u001b[39;00m err:\n",
      "File \u001b[1;32m~\\AppData\\Local\\anaconda3\\Lib\\site-packages\\pandas\\_libs\\index.pyx:138\u001b[0m, in \u001b[0;36mpandas._libs.index.IndexEngine.get_loc\u001b[1;34m()\u001b[0m\n",
      "File \u001b[1;32m~\\AppData\\Local\\anaconda3\\Lib\\site-packages\\pandas\\_libs\\index.pyx:165\u001b[0m, in \u001b[0;36mpandas._libs.index.IndexEngine.get_loc\u001b[1;34m()\u001b[0m\n",
      "File \u001b[1;32mpandas\\_libs\\hashtable_class_helper.pxi:5745\u001b[0m, in \u001b[0;36mpandas._libs.hashtable.PyObjectHashTable.get_item\u001b[1;34m()\u001b[0m\n",
      "File \u001b[1;32mpandas\\_libs\\hashtable_class_helper.pxi:5753\u001b[0m, in \u001b[0;36mpandas._libs.hashtable.PyObjectHashTable.get_item\u001b[1;34m()\u001b[0m\n",
      "\u001b[1;31mKeyError\u001b[0m: 'date'",
      "\nThe above exception was the direct cause of the following exception:\n",
      "\u001b[1;31mKeyError\u001b[0m                                  Traceback (most recent call last)",
      "Cell \u001b[1;32mIn[29], line 8\u001b[0m\n\u001b[0;32m      4\u001b[0m x_ax \u001b[38;5;241m=\u001b[39m bqplot\u001b[38;5;241m.\u001b[39mAxis(scale\u001b[38;5;241m=\u001b[39mx_sc, label\u001b[38;5;241m=\u001b[39m\u001b[38;5;124m\"\u001b[39m\u001b[38;5;124mDate\u001b[39m\u001b[38;5;124m\"\u001b[39m)\n\u001b[0;32m      5\u001b[0m y_ax \u001b[38;5;241m=\u001b[39m bqplot\u001b[38;5;241m.\u001b[39mAxis(scale\u001b[38;5;241m=\u001b[39my_sc, label\u001b[38;5;241m=\u001b[39m\u001b[38;5;124m\"\u001b[39m\u001b[38;5;124mCases (cumulative)\u001b[39m\u001b[38;5;124m\"\u001b[39m,\n\u001b[0;32m      6\u001b[0m                    orientation\u001b[38;5;241m=\u001b[39m\u001b[38;5;124m\"\u001b[39m\u001b[38;5;124mvertical\u001b[39m\u001b[38;5;124m\"\u001b[39m)\n\u001b[1;32m----> 8\u001b[0m lines \u001b[38;5;241m=\u001b[39m bqplot\u001b[38;5;241m.\u001b[39mLines(x\u001b[38;5;241m=\u001b[39mIllinois[\u001b[38;5;124m\"\u001b[39m\u001b[38;5;124mdate\u001b[39m\u001b[38;5;124m\"\u001b[39m], y\u001b[38;5;241m=\u001b[39mIllinois[\u001b[38;5;124m\"\u001b[39m\u001b[38;5;124mcases\u001b[39m\u001b[38;5;124m\"\u001b[39m],\n\u001b[0;32m      9\u001b[0m                      scales\u001b[38;5;241m=\u001b[39m{\u001b[38;5;124m'\u001b[39m\u001b[38;5;124mx\u001b[39m\u001b[38;5;124m'\u001b[39m: x_sc, \u001b[38;5;124m'\u001b[39m\u001b[38;5;124my\u001b[39m\u001b[38;5;124m'\u001b[39m: y_sc})\n\u001b[0;32m     10\u001b[0m date_selection \u001b[38;5;241m=\u001b[39m bqplot\u001b[38;5;241m.\u001b[39minteracts\u001b[38;5;241m.\u001b[39mFastIntervalSelector(scale\u001b[38;5;241m=\u001b[39mx_sc)\n\u001b[0;32m     12\u001b[0m line_fig \u001b[38;5;241m=\u001b[39m bqplot\u001b[38;5;241m.\u001b[39mFigure(marks\u001b[38;5;241m=\u001b[39m[lines], axes\u001b[38;5;241m=\u001b[39m[x_ax, y_ax],\n\u001b[0;32m     13\u001b[0m                          interaction\u001b[38;5;241m=\u001b[39mdate_selection)\n",
      "File \u001b[1;32m~\\AppData\\Local\\anaconda3\\Lib\\site-packages\\pandas\\core\\frame.py:3807\u001b[0m, in \u001b[0;36mDataFrame.__getitem__\u001b[1;34m(self, key)\u001b[0m\n\u001b[0;32m   3805\u001b[0m \u001b[38;5;28;01mif\u001b[39;00m \u001b[38;5;28mself\u001b[39m\u001b[38;5;241m.\u001b[39mcolumns\u001b[38;5;241m.\u001b[39mnlevels \u001b[38;5;241m>\u001b[39m \u001b[38;5;241m1\u001b[39m:\n\u001b[0;32m   3806\u001b[0m     \u001b[38;5;28;01mreturn\u001b[39;00m \u001b[38;5;28mself\u001b[39m\u001b[38;5;241m.\u001b[39m_getitem_multilevel(key)\n\u001b[1;32m-> 3807\u001b[0m indexer \u001b[38;5;241m=\u001b[39m \u001b[38;5;28mself\u001b[39m\u001b[38;5;241m.\u001b[39mcolumns\u001b[38;5;241m.\u001b[39mget_loc(key)\n\u001b[0;32m   3808\u001b[0m \u001b[38;5;28;01mif\u001b[39;00m is_integer(indexer):\n\u001b[0;32m   3809\u001b[0m     indexer \u001b[38;5;241m=\u001b[39m [indexer]\n",
      "File \u001b[1;32m~\\AppData\\Local\\anaconda3\\Lib\\site-packages\\pandas\\core\\indexes\\base.py:3804\u001b[0m, in \u001b[0;36mIndex.get_loc\u001b[1;34m(self, key, method, tolerance)\u001b[0m\n\u001b[0;32m   3802\u001b[0m     \u001b[38;5;28;01mreturn\u001b[39;00m \u001b[38;5;28mself\u001b[39m\u001b[38;5;241m.\u001b[39m_engine\u001b[38;5;241m.\u001b[39mget_loc(casted_key)\n\u001b[0;32m   3803\u001b[0m \u001b[38;5;28;01mexcept\u001b[39;00m \u001b[38;5;167;01mKeyError\u001b[39;00m \u001b[38;5;28;01mas\u001b[39;00m err:\n\u001b[1;32m-> 3804\u001b[0m     \u001b[38;5;28;01mraise\u001b[39;00m \u001b[38;5;167;01mKeyError\u001b[39;00m(key) \u001b[38;5;28;01mfrom\u001b[39;00m \u001b[38;5;21;01merr\u001b[39;00m\n\u001b[0;32m   3805\u001b[0m \u001b[38;5;28;01mexcept\u001b[39;00m \u001b[38;5;167;01mTypeError\u001b[39;00m:\n\u001b[0;32m   3806\u001b[0m     \u001b[38;5;66;03m# If we have a listlike key, _check_indexing_error will raise\u001b[39;00m\n\u001b[0;32m   3807\u001b[0m     \u001b[38;5;66;03m#  InvalidIndexError. Otherwise we fall through and re-raise\u001b[39;00m\n\u001b[0;32m   3808\u001b[0m     \u001b[38;5;66;03m#  the TypeError.\u001b[39;00m\n\u001b[0;32m   3809\u001b[0m     \u001b[38;5;28mself\u001b[39m\u001b[38;5;241m.\u001b[39m_check_indexing_error(key)\n",
      "\u001b[1;31mKeyError\u001b[0m: 'date'"
     ]
    }
   ],
   "source": [
    "x_sc = bqplot.DateScale()\n",
    "y_sc = bqplot.LinearScale()\n",
    "\n",
    "x_ax = bqplot.Axis(scale=x_sc, label=\"Date\")\n",
    "y_ax = bqplot.Axis(scale=y_sc, label=\"Cases (cumulative)\",\n",
    "                   orientation=\"vertical\")\n",
    "\n",
    "lines = bqplot.Lines(x=Illinois[\"date\"], y=Illinois[\"cases\"],\n",
    "                     scales={'x': x_sc, 'y': y_sc})\n",
    "date_selection = bqplot.interacts.FastIntervalSelector(scale=x_sc)\n",
    "\n",
    "line_fig = bqplot.Figure(marks=[lines], axes=[x_ax, y_ax],\n",
    "                         interaction=date_selection)\n",
    "\n",
    "\n",
    "proj = bqplot.AlbersUSA()\n",
    "color_sc = bqplot.ColorScale(scheme=\"BuPu\")\n",
    "color_ax = bqplot.ColorAxis(scale=color_sc)\n",
    "map_mark = bqplot.Map(map_data=state_map, color=cases_by_fips,\n",
    "                      scales={'proection': proj,\n",
    "                              'color': color_sc}\n",
    "                      )\n",
    "map_fig = bqplot.Figure(marks=[map_mark], axes=[color_ax])\n",
    "ipywidgets.VBox([\n",
    "    line_fig,\n",
    "    map_fig\n",
    "])"
   ]
  },
  {
   "cell_type": "code",
   "execution_count": null,
   "metadata": {},
   "outputs": [],
   "source": [
    "line_fig.layour.height = \"250px\"\n",
    "map_fig.layout.height = '400px'"
   ]
  }
 ],
 "metadata": {
  "kernelspec": {
   "display_name": "Python 3 (ipykernel)",
   "language": "python",
   "name": "python3"
  },
  "language_info": {
   "codemirror_mode": {
    "name": "ipython",
    "version": 3
   },
   "file_extension": ".py",
   "mimetype": "text/x-python",
   "name": "python",
   "nbconvert_exporter": "python",
   "pygments_lexer": "ipython3",
   "version": "3.11.4"
  }
 },
 "nbformat": 4,
 "nbformat_minor": 4
}
