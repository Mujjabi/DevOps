{
 "cells": [
  {
   "cell_type": "code",
   "execution_count": null,
   "metadata": {},
   "outputs": [],
   "source": []
  },
  {
   "cell_type": "code",
   "execution_count": 1,
   "metadata": {},
   "outputs": [],
   "source": [
    "import traitlets"
   ]
  },
  {
   "cell_type": "code",
   "execution_count": 3,
   "metadata": {},
   "outputs": [],
   "source": [
    "class MusicAlbum(traitlets.HasTraits):\n",
    "    name = traitlets.Unicode()\n",
    "    artist = traitlets.Unicode()\n",
    "    year_released = traitlets.Int()"
   ]
  },
  {
   "cell_type": "code",
   "execution_count": null,
   "metadata": {},
   "outputs": [],
   "source": [
    "speak_now = MusicAlbum(\n",
    "    name=\"Speak Now\", artist=\"Taylor Swift\", year_released=2010)"
   ]
  },
  {
   "cell_type": "code",
   "execution_count": 4,
   "metadata": {},
   "outputs": [
    {
     "ename": "TraitError",
     "evalue": "The 'year_released' trait of a MusicAlbum instance expected an int, not the str '2023'.",
     "output_type": "error",
     "traceback": [
      "\u001b[1;31m---------------------------------------------------------------------------\u001b[0m",
      "\u001b[1;31mTraitError\u001b[0m                                Traceback (most recent call last)",
      "\u001b[1;32mc:\\Users\\mujjabi2\\OneDrive - University of Illinois - Urbana\\DevOps Course\\Remote_Repositories\\AWS_Server_Repo\\DevOps\\Python\\IS445_Class_Materials\\Class4.ipynb Cell 5\u001b[0m line \u001b[0;36m1\n\u001b[1;32m----> <a href='vscode-notebook-cell:/c%3A/Users/mujjabi2/OneDrive%20-%20University%20of%20Illinois%20-%20Urbana/DevOps%20Course/Remote_Repositories/AWS_Server_Repo/DevOps/Python/IS445_Class_Materials/Class4.ipynb#W4sZmlsZQ%3D%3D?line=0'>1</a>\u001b[0m speak_now_tv \u001b[39m=\u001b[39m MusicAlbum(name \u001b[39m=\u001b[39;49m \u001b[39m\"\u001b[39;49m\u001b[39mSpeak Now (Taylor\u001b[39;49m\u001b[39m'\u001b[39;49m\u001b[39ms Version)\u001b[39;49m\u001b[39m\"\u001b[39;49m, artist \u001b[39m=\u001b[39;49m \u001b[39m\"\u001b[39;49m\u001b[39mTaylor Swift\u001b[39;49m\u001b[39m\"\u001b[39;49m, year_released \u001b[39m=\u001b[39;49m \u001b[39m\"\u001b[39;49m\u001b[39m2023\u001b[39;49m\u001b[39m\"\u001b[39;49m)\n",
      "File \u001b[1;32m~\\AppData\\Roaming\\Python\\Python310\\site-packages\\traitlets\\traitlets.py:1347\u001b[0m, in \u001b[0;36mHasTraits.__init__\u001b[1;34m(self, *args, **kwargs)\u001b[0m\n\u001b[0;32m   1345\u001b[0m \u001b[39mfor\u001b[39;00m key, value \u001b[39min\u001b[39;00m kwargs\u001b[39m.\u001b[39mitems():\n\u001b[0;32m   1346\u001b[0m     \u001b[39mif\u001b[39;00m \u001b[39mself\u001b[39m\u001b[39m.\u001b[39mhas_trait(key):\n\u001b[1;32m-> 1347\u001b[0m         \u001b[39msetattr\u001b[39;49m(\u001b[39mself\u001b[39;49m, key, value)\n\u001b[0;32m   1348\u001b[0m         changes[key] \u001b[39m=\u001b[39m Bunch(\n\u001b[0;32m   1349\u001b[0m             name\u001b[39m=\u001b[39mkey,\n\u001b[0;32m   1350\u001b[0m             old\u001b[39m=\u001b[39m\u001b[39mNone\u001b[39;00m,\n\u001b[1;32m   (...)\u001b[0m\n\u001b[0;32m   1353\u001b[0m             \u001b[39mtype\u001b[39m\u001b[39m=\u001b[39m\u001b[39m\"\u001b[39m\u001b[39mchange\u001b[39m\u001b[39m\"\u001b[39m,\n\u001b[0;32m   1354\u001b[0m         )\n\u001b[0;32m   1355\u001b[0m     \u001b[39melse\u001b[39;00m:\n\u001b[0;32m   1356\u001b[0m         \u001b[39m# passthrough args that don't set traits to super\u001b[39;00m\n",
      "File \u001b[1;32m~\\AppData\\Roaming\\Python\\Python310\\site-packages\\traitlets\\traitlets.py:732\u001b[0m, in \u001b[0;36mTraitType.__set__\u001b[1;34m(self, obj, value)\u001b[0m\n\u001b[0;32m    730\u001b[0m     \u001b[39mraise\u001b[39;00m TraitError(\u001b[39m'\u001b[39m\u001b[39mThe \u001b[39m\u001b[39m\"\u001b[39m\u001b[39m%s\u001b[39;00m\u001b[39m\"\u001b[39m\u001b[39m trait is read-only.\u001b[39m\u001b[39m'\u001b[39m \u001b[39m%\u001b[39m \u001b[39mself\u001b[39m\u001b[39m.\u001b[39mname)\n\u001b[0;32m    731\u001b[0m \u001b[39melse\u001b[39;00m:\n\u001b[1;32m--> 732\u001b[0m     \u001b[39mself\u001b[39;49m\u001b[39m.\u001b[39;49mset(obj, value)\n",
      "File \u001b[1;32m~\\AppData\\Roaming\\Python\\Python310\\site-packages\\traitlets\\traitlets.py:706\u001b[0m, in \u001b[0;36mTraitType.set\u001b[1;34m(self, obj, value)\u001b[0m\n\u001b[0;32m    705\u001b[0m \u001b[39mdef\u001b[39;00m \u001b[39mset\u001b[39m(\u001b[39mself\u001b[39m, obj, value):\n\u001b[1;32m--> 706\u001b[0m     new_value \u001b[39m=\u001b[39m \u001b[39mself\u001b[39;49m\u001b[39m.\u001b[39;49m_validate(obj, value)\n\u001b[0;32m    707\u001b[0m     \u001b[39mtry\u001b[39;00m:\n\u001b[0;32m    708\u001b[0m         old_value \u001b[39m=\u001b[39m obj\u001b[39m.\u001b[39m_trait_values[\u001b[39mself\u001b[39m\u001b[39m.\u001b[39mname]\n",
      "File \u001b[1;32m~\\AppData\\Roaming\\Python\\Python310\\site-packages\\traitlets\\traitlets.py:738\u001b[0m, in \u001b[0;36mTraitType._validate\u001b[1;34m(self, obj, value)\u001b[0m\n\u001b[0;32m    736\u001b[0m     \u001b[39mreturn\u001b[39;00m value\n\u001b[0;32m    737\u001b[0m \u001b[39mif\u001b[39;00m \u001b[39mhasattr\u001b[39m(\u001b[39mself\u001b[39m, \u001b[39m\"\u001b[39m\u001b[39mvalidate\u001b[39m\u001b[39m\"\u001b[39m):\n\u001b[1;32m--> 738\u001b[0m     value \u001b[39m=\u001b[39m \u001b[39mself\u001b[39;49m\u001b[39m.\u001b[39;49mvalidate(obj, value)\n\u001b[0;32m    739\u001b[0m \u001b[39mif\u001b[39;00m obj\u001b[39m.\u001b[39m_cross_validation_lock \u001b[39mis\u001b[39;00m \u001b[39mFalse\u001b[39;00m:\n\u001b[0;32m    740\u001b[0m     value \u001b[39m=\u001b[39m \u001b[39mself\u001b[39m\u001b[39m.\u001b[39m_cross_validate(obj, value)\n",
      "File \u001b[1;32m~\\AppData\\Roaming\\Python\\Python310\\site-packages\\traitlets\\traitlets.py:2379\u001b[0m, in \u001b[0;36mInt.validate\u001b[1;34m(self, obj, value)\u001b[0m\n\u001b[0;32m   2377\u001b[0m \u001b[39mdef\u001b[39;00m \u001b[39mvalidate\u001b[39m(\u001b[39mself\u001b[39m, obj, value):\n\u001b[0;32m   2378\u001b[0m     \u001b[39mif\u001b[39;00m \u001b[39mnot\u001b[39;00m \u001b[39misinstance\u001b[39m(value, \u001b[39mint\u001b[39m):\n\u001b[1;32m-> 2379\u001b[0m         \u001b[39mself\u001b[39;49m\u001b[39m.\u001b[39;49merror(obj, value)\n\u001b[0;32m   2380\u001b[0m     \u001b[39mreturn\u001b[39;00m _validate_bounds(\u001b[39mself\u001b[39m, obj, value)\n",
      "File \u001b[1;32m~\\AppData\\Roaming\\Python\\Python310\\site-packages\\traitlets\\traitlets.py:844\u001b[0m, in \u001b[0;36mTraitType.error\u001b[1;34m(self, obj, value, error, info)\u001b[0m\n\u001b[0;32m    838\u001b[0m \u001b[39melse\u001b[39;00m:\n\u001b[0;32m    839\u001b[0m     e \u001b[39m=\u001b[39m \u001b[39m\"\u001b[39m\u001b[39mThe \u001b[39m\u001b[39m'\u001b[39m\u001b[39m{}\u001b[39;00m\u001b[39m'\u001b[39m\u001b[39m trait expected \u001b[39m\u001b[39m{}\u001b[39;00m\u001b[39m, not \u001b[39m\u001b[39m{}\u001b[39;00m\u001b[39m.\u001b[39m\u001b[39m\"\u001b[39m\u001b[39m.\u001b[39mformat(\n\u001b[0;32m    840\u001b[0m         \u001b[39mself\u001b[39m\u001b[39m.\u001b[39mname,\n\u001b[0;32m    841\u001b[0m         \u001b[39mself\u001b[39m\u001b[39m.\u001b[39minfo(),\n\u001b[0;32m    842\u001b[0m         describe(\u001b[39m\"\u001b[39m\u001b[39mthe\u001b[39m\u001b[39m\"\u001b[39m, value),\n\u001b[0;32m    843\u001b[0m     )\n\u001b[1;32m--> 844\u001b[0m \u001b[39mraise\u001b[39;00m TraitError(e)\n",
      "\u001b[1;31mTraitError\u001b[0m: The 'year_released' trait of a MusicAlbum instance expected an int, not the str '2023'."
     ]
    }
   ],
   "source": [
    "speak_now_tv = MusicAlbum(name=\"Speak Now (Taylor's Version)\",\n",
    "                          artist=\"Taylor Swift\", year_released=\"2023\")"
   ]
  },
  {
   "cell_type": "code",
   "execution_count": 8,
   "metadata": {},
   "outputs": [],
   "source": [
    "speak_now_tv = MusicAlbum(\n",
    "    name=\"Speak Now (Taylor's Version)\", artist=\"Taylor Swift\", year_released=2023)"
   ]
  },
  {
   "cell_type": "code",
   "execution_count": 16,
   "metadata": {},
   "outputs": [
    {
     "name": "stdout",
     "output_type": "stream",
     "text": [
      "You Changed from Speak Now (Taylor's Version) to Speak Now (TV)\n",
      "You Changed from Speak Now (Taylor's Version) to Speak Now (TV)\n"
     ]
    }
   ],
   "source": [
    "speak_now_tv.name = \"Speak Now (TV)\""
   ]
  },
  {
   "cell_type": "code",
   "execution_count": 17,
   "metadata": {},
   "outputs": [],
   "source": [
    "def print_changed(change):\n",
    "    print(\"You Changed from\", change['old'], \"to\", change[\"new\"])"
   ]
  },
  {
   "cell_type": "code",
   "execution_count": 18,
   "metadata": {},
   "outputs": [],
   "source": [
    "speak_now_tv.observe(print_changed, [\"name\"])"
   ]
  },
  {
   "cell_type": "code",
   "execution_count": 19,
   "metadata": {},
   "outputs": [
    {
     "name": "stdout",
     "output_type": "stream",
     "text": [
      "You Changed from Speak Now (TV) to Speak Now (Taylor's Version)\n",
      "You Changed from Speak Now (TV) to Speak Now (Taylor's Version)\n",
      "You Changed from Speak Now (TV) to Speak Now (Taylor's Version)\n"
     ]
    }
   ],
   "source": [
    "speak_now_tv.name = \"Speak Now (Taylor's Version)\""
   ]
  },
  {
   "cell_type": "code",
   "execution_count": 21,
   "metadata": {},
   "outputs": [],
   "source": [
    "import random"
   ]
  },
  {
   "cell_type": "code",
   "execution_count": 22,
   "metadata": {},
   "outputs": [],
   "source": [
    "class Student(traitlets.HasTraits):\n",
    "    name = traitlets.Unicode()\n",
    "    row_and_seat = traitlets.Tuple(\n",
    "        traitlets.Unicode(),\n",
    "        traitlets.Int()\n",
    "    )\n",
    "\n",
    "    @traitlets.default(\"row_and_seat\")\n",
    "    def random(self):\n",
    "        return (random.choice(\"ABCDEFG\"),\n",
    "                random.randint(1, 15))"
   ]
  },
  {
   "cell_type": "code",
   "execution_count": 23,
   "metadata": {},
   "outputs": [],
   "source": [
    "s1 = Student(name=\"Matt\")"
   ]
  },
  {
   "cell_type": "code",
   "execution_count": 25,
   "metadata": {},
   "outputs": [
    {
     "data": {
      "text/plain": [
       "('D', 6)"
      ]
     },
     "execution_count": 25,
     "metadata": {},
     "output_type": "execute_result"
    }
   ],
   "source": [
    "s1.row_and_seat"
   ]
  },
  {
   "cell_type": "code",
   "execution_count": 26,
   "metadata": {},
   "outputs": [
    {
     "data": {
      "text/plain": [
       "('D', 6)"
      ]
     },
     "execution_count": 26,
     "metadata": {},
     "output_type": "execute_result"
    }
   ],
   "source": [
    "s1.row_and_seat"
   ]
  },
  {
   "cell_type": "markdown",
   "metadata": {},
   "source": [
    "This didnt change since it is set as the default. "
   ]
  },
  {
   "cell_type": "code",
   "execution_count": 29,
   "metadata": {},
   "outputs": [],
   "source": [
    "class MusicAlbum(traitlets.HasTraits):\n",
    "    name = traitlets.Unicode()\n",
    "    mood = traitlets.Unicode()"
   ]
  },
  {
   "cell_type": "code",
   "execution_count": null,
   "metadata": {},
   "outputs": [
    {
     "name": "stderr",
     "output_type": "stream",
     "text": [
      "C:\\Users\\mujjabi2\\AppData\\Local\\Temp\\ipykernel_22472\\474972113.py:1: DeprecationWarning: Passing unrecognized arguments to super(Student).__init__(mood='Grumpy').\n",
      "object.__init__() takes exactly one argument (the instance to initialize)\n",
      "This is deprecated in traitlets 4.2.This error will be raised in a future release of traitlets.\n",
      "  s1 = Student(name = \"Matt\", mood = \"Grumpy\")\n"
     ]
    }
   ],
   "source": [
    "s1 = Student(name=\"Matt\", mood=\"Grumpy\")"
   ]
  },
  {
   "cell_type": "code",
   "execution_count": 33,
   "metadata": {},
   "outputs": [
    {
     "name": "stderr",
     "output_type": "stream",
     "text": [
      "C:\\Users\\mujjabi2\\AppData\\Local\\Temp\\ipykernel_22472\\1998060754.py:1: DeprecationWarning: Passing unrecognized arguments to super(Student).__init__(mood='').\n",
      "object.__init__() takes exactly one argument (the instance to initialize)\n",
      "This is deprecated in traitlets 4.2.This error will be raised in a future release of traitlets.\n",
      "  s2 = Student(name = \"Matt's clone\", mood = \"\")\n"
     ]
    }
   ],
   "source": [
    "s2 = Student(name=\"Matt's clone\", mood=\"\")"
   ]
  },
  {
   "cell_type": "code",
   "execution_count": null,
   "metadata": {},
   "outputs": [
    {
     "ename": "NameError",
     "evalue": "name 'mood' is not defined",
     "output_type": "error",
     "traceback": [
      "\u001b[1;31m---------------------------------------------------------------------------\u001b[0m",
      "\u001b[1;31mNameError\u001b[0m                                 Traceback (most recent call last)",
      "\u001b[1;32mc:\\Users\\mujjabi2\\OneDrive - University of Illinois - Urbana\\DevOps Course\\Remote_Repositories\\AWS_Server_Repo\\DevOps\\Python\\IS445_Class_Materials\\Class4.ipynb Cell 20\u001b[0m line \u001b[0;36m2\n\u001b[0;32m      <a href='vscode-notebook-cell:/c%3A/Users/mujjabi2/OneDrive%20-%20University%20of%20Illinois%20-%20Urbana/DevOps%20Course/Remote_Repositories/AWS_Server_Repo/DevOps/Python/IS445_Class_Materials/Class4.ipynb#X25sZmlsZQ%3D%3D?line=0'>1</a>\u001b[0m traitlets\u001b[39m.\u001b[39mlink(\n\u001b[1;32m----> <a href='vscode-notebook-cell:/c%3A/Users/mujjabi2/OneDrive%20-%20University%20of%20Illinois%20-%20Urbana/DevOps%20Course/Remote_Repositories/AWS_Server_Repo/DevOps/Python/IS445_Class_Materials/Class4.ipynb#X25sZmlsZQ%3D%3D?line=1'>2</a>\u001b[0m (s1, mood),\n\u001b[0;32m      <a href='vscode-notebook-cell:/c%3A/Users/mujjabi2/OneDrive%20-%20University%20of%20Illinois%20-%20Urbana/DevOps%20Course/Remote_Repositories/AWS_Server_Repo/DevOps/Python/IS445_Class_Materials/Class4.ipynb#X25sZmlsZQ%3D%3D?line=2'>3</a>\u001b[0m (s2, mood)\n\u001b[0;32m      <a href='vscode-notebook-cell:/c%3A/Users/mujjabi2/OneDrive%20-%20University%20of%20Illinois%20-%20Urbana/DevOps%20Course/Remote_Repositories/AWS_Server_Repo/DevOps/Python/IS445_Class_Materials/Class4.ipynb#X25sZmlsZQ%3D%3D?line=3'>4</a>\u001b[0m )\n",
      "\u001b[1;31mNameError\u001b[0m: name 'mood' is not defined"
     ]
    }
   ],
   "source": [
    "traitlets.link(\n",
    "    (s1, mood),\n",
    "    (s2, mood)\n",
    ")"
   ]
  },
  {
   "cell_type": "code",
   "execution_count": 36,
   "metadata": {},
   "outputs": [
    {
     "name": "stdout",
     "output_type": "stream",
     "text": [
      "Defaulting to user installation because normal site-packages is not writeable\n",
      "Collecting ipywidgets\n",
      "  Downloading ipywidgets-8.1.1-py3-none-any.whl (139 kB)\n",
      "     -------------------------------------- 139.4/139.4 KB 8.6 MB/s eta 0:00:00\n",
      "Collecting widgetsnbextension~=4.0.9\n",
      "  Downloading widgetsnbextension-4.0.9-py3-none-any.whl (2.3 MB)\n",
      "     ---------------------------------------- 2.3/2.3 MB 24.3 MB/s eta 0:00:00\n",
      "Requirement already satisfied: ipython>=6.1.0 in c:\\users\\mujjabi2\\appdata\\roaming\\python\\python310\\site-packages (from ipywidgets) (8.14.0)\n",
      "Requirement already satisfied: comm>=0.1.3 in c:\\users\\mujjabi2\\appdata\\roaming\\python\\python310\\site-packages (from ipywidgets) (0.1.4)\n",
      "Requirement already satisfied: traitlets>=4.3.1 in c:\\users\\mujjabi2\\appdata\\roaming\\python\\python310\\site-packages (from ipywidgets) (5.9.0)\n",
      "Collecting jupyterlab-widgets~=3.0.9\n",
      "  Downloading jupyterlab_widgets-3.0.9-py3-none-any.whl (214 kB)\n",
      "     ------------------------------------- 214.9/214.9 KB 13.6 MB/s eta 0:00:00\n",
      "Requirement already satisfied: pickleshare in c:\\users\\mujjabi2\\appdata\\roaming\\python\\python310\\site-packages (from ipython>=6.1.0->ipywidgets) (0.7.5)\n",
      "Requirement already satisfied: prompt-toolkit!=3.0.37,<3.1.0,>=3.0.30 in c:\\users\\mujjabi2\\appdata\\roaming\\python\\python310\\site-packages (from ipython>=6.1.0->ipywidgets) (3.0.39)\n",
      "Requirement already satisfied: stack-data in c:\\users\\mujjabi2\\appdata\\roaming\\python\\python310\\site-packages (from ipython>=6.1.0->ipywidgets) (0.6.2)\n",
      "Requirement already satisfied: decorator in c:\\users\\mujjabi2\\appdata\\roaming\\python\\python310\\site-packages (from ipython>=6.1.0->ipywidgets) (5.1.1)\n",
      "Requirement already satisfied: jedi>=0.16 in c:\\users\\mujjabi2\\appdata\\roaming\\python\\python310\\site-packages (from ipython>=6.1.0->ipywidgets) (0.19.0)\n",
      "Requirement already satisfied: matplotlib-inline in c:\\users\\mujjabi2\\appdata\\roaming\\python\\python310\\site-packages (from ipython>=6.1.0->ipywidgets) (0.1.6)\n",
      "Requirement already satisfied: backcall in c:\\users\\mujjabi2\\appdata\\roaming\\python\\python310\\site-packages (from ipython>=6.1.0->ipywidgets) (0.2.0)\n",
      "Requirement already satisfied: colorama in c:\\users\\mujjabi2\\appdata\\roaming\\python\\python310\\site-packages (from ipython>=6.1.0->ipywidgets) (0.4.6)\n",
      "Requirement already satisfied: pygments>=2.4.0 in c:\\users\\mujjabi2\\appdata\\roaming\\python\\python310\\site-packages (from ipython>=6.1.0->ipywidgets) (2.16.1)\n",
      "Requirement already satisfied: parso<0.9.0,>=0.8.3 in c:\\users\\mujjabi2\\appdata\\roaming\\python\\python310\\site-packages (from jedi>=0.16->ipython>=6.1.0->ipywidgets) (0.8.3)\n",
      "Requirement already satisfied: wcwidth in c:\\users\\mujjabi2\\appdata\\roaming\\python\\python310\\site-packages (from prompt-toolkit!=3.0.37,<3.1.0,>=3.0.30->ipython>=6.1.0->ipywidgets) (0.2.6)\n",
      "Requirement already satisfied: pure-eval in c:\\users\\mujjabi2\\appdata\\roaming\\python\\python310\\site-packages (from stack-data->ipython>=6.1.0->ipywidgets) (0.2.2)\n",
      "Requirement already satisfied: asttokens>=2.1.0 in c:\\users\\mujjabi2\\appdata\\roaming\\python\\python310\\site-packages (from stack-data->ipython>=6.1.0->ipywidgets) (2.2.1)\n",
      "Requirement already satisfied: executing>=1.2.0 in c:\\users\\mujjabi2\\appdata\\roaming\\python\\python310\\site-packages (from stack-data->ipython>=6.1.0->ipywidgets) (1.2.0)\n",
      "Requirement already satisfied: six in c:\\users\\mujjabi2\\appdata\\roaming\\python\\python310\\site-packages (from asttokens>=2.1.0->stack-data->ipython>=6.1.0->ipywidgets) (1.16.0)\n",
      "Installing collected packages: widgetsnbextension, jupyterlab-widgets, ipywidgets\n",
      "Successfully installed ipywidgets-8.1.1 jupyterlab-widgets-3.0.9 widgetsnbextension-4.0.9\n"
     ]
    },
    {
     "name": "stderr",
     "output_type": "stream",
     "text": [
      "WARNING: You are using pip version 22.0.4; however, version 23.2.1 is available.\n",
      "You should consider upgrading via the 'C:\\Program Files\\Python310\\python.exe -m pip install --upgrade pip' command.\n"
     ]
    }
   ],
   "source": [
    "!pip install ipywidgets"
   ]
  },
  {
   "cell_type": "code",
   "execution_count": 37,
   "metadata": {},
   "outputs": [
    {
     "name": "stdout",
     "output_type": "stream",
     "text": [
      "Defaulting to user installation because normal site-packages is not writeable\n",
      "Collecting bqplot\n",
      "  Downloading bqplot-0.12.40-py2.py3-none-any.whl (1.2 MB)\n",
      "     ---------------------------------------- 1.2/1.2 MB 19.5 MB/s eta 0:00:00\n",
      "Requirement already satisfied: pandas<3.0.0,>=1.0.0 in c:\\users\\mujjabi2\\appdata\\roaming\\python\\python310\\site-packages (from bqplot) (2.0.3)\n",
      "Requirement already satisfied: numpy>=1.10.4 in c:\\users\\mujjabi2\\appdata\\roaming\\python\\python310\\site-packages (from bqplot) (1.25.2)\n",
      "Requirement already satisfied: ipywidgets<9,>=7.5.0 in c:\\users\\mujjabi2\\appdata\\roaming\\python\\python310\\site-packages (from bqplot) (8.1.1)\n",
      "Requirement already satisfied: traitlets>=4.3.0 in c:\\users\\mujjabi2\\appdata\\roaming\\python\\python310\\site-packages (from bqplot) (5.9.0)\n",
      "Collecting traittypes>=0.0.6\n",
      "  Downloading traittypes-0.2.1-py2.py3-none-any.whl (8.6 kB)\n",
      "Requirement already satisfied: comm>=0.1.3 in c:\\users\\mujjabi2\\appdata\\roaming\\python\\python310\\site-packages (from ipywidgets<9,>=7.5.0->bqplot) (0.1.4)\n",
      "Requirement already satisfied: jupyterlab-widgets~=3.0.9 in c:\\users\\mujjabi2\\appdata\\roaming\\python\\python310\\site-packages (from ipywidgets<9,>=7.5.0->bqplot) (3.0.9)\n",
      "Requirement already satisfied: widgetsnbextension~=4.0.9 in c:\\users\\mujjabi2\\appdata\\roaming\\python\\python310\\site-packages (from ipywidgets<9,>=7.5.0->bqplot) (4.0.9)\n",
      "Requirement already satisfied: ipython>=6.1.0 in c:\\users\\mujjabi2\\appdata\\roaming\\python\\python310\\site-packages (from ipywidgets<9,>=7.5.0->bqplot) (8.14.0)\n",
      "Requirement already satisfied: pytz>=2020.1 in c:\\users\\mujjabi2\\appdata\\roaming\\python\\python310\\site-packages (from pandas<3.0.0,>=1.0.0->bqplot) (2023.3)\n",
      "Requirement already satisfied: python-dateutil>=2.8.2 in c:\\users\\mujjabi2\\appdata\\roaming\\python\\python310\\site-packages (from pandas<3.0.0,>=1.0.0->bqplot) (2.8.2)\n",
      "Requirement already satisfied: tzdata>=2022.1 in c:\\users\\mujjabi2\\appdata\\roaming\\python\\python310\\site-packages (from pandas<3.0.0,>=1.0.0->bqplot) (2023.3)\n",
      "Requirement already satisfied: backcall in c:\\users\\mujjabi2\\appdata\\roaming\\python\\python310\\site-packages (from ipython>=6.1.0->ipywidgets<9,>=7.5.0->bqplot) (0.2.0)\n",
      "Requirement already satisfied: pickleshare in c:\\users\\mujjabi2\\appdata\\roaming\\python\\python310\\site-packages (from ipython>=6.1.0->ipywidgets<9,>=7.5.0->bqplot) (0.7.5)\n",
      "Requirement already satisfied: pygments>=2.4.0 in c:\\users\\mujjabi2\\appdata\\roaming\\python\\python310\\site-packages (from ipython>=6.1.0->ipywidgets<9,>=7.5.0->bqplot) (2.16.1)\n",
      "Requirement already satisfied: jedi>=0.16 in c:\\users\\mujjabi2\\appdata\\roaming\\python\\python310\\site-packages (from ipython>=6.1.0->ipywidgets<9,>=7.5.0->bqplot) (0.19.0)\n",
      "Requirement already satisfied: decorator in c:\\users\\mujjabi2\\appdata\\roaming\\python\\python310\\site-packages (from ipython>=6.1.0->ipywidgets<9,>=7.5.0->bqplot) (5.1.1)\n",
      "Requirement already satisfied: colorama in c:\\users\\mujjabi2\\appdata\\roaming\\python\\python310\\site-packages (from ipython>=6.1.0->ipywidgets<9,>=7.5.0->bqplot) (0.4.6)\n",
      "Requirement already satisfied: prompt-toolkit!=3.0.37,<3.1.0,>=3.0.30 in c:\\users\\mujjabi2\\appdata\\roaming\\python\\python310\\site-packages (from ipython>=6.1.0->ipywidgets<9,>=7.5.0->bqplot) (3.0.39)\n",
      "Requirement already satisfied: stack-data in c:\\users\\mujjabi2\\appdata\\roaming\\python\\python310\\site-packages (from ipython>=6.1.0->ipywidgets<9,>=7.5.0->bqplot) (0.6.2)\n",
      "Requirement already satisfied: matplotlib-inline in c:\\users\\mujjabi2\\appdata\\roaming\\python\\python310\\site-packages (from ipython>=6.1.0->ipywidgets<9,>=7.5.0->bqplot) (0.1.6)\n",
      "Requirement already satisfied: six>=1.5 in c:\\users\\mujjabi2\\appdata\\roaming\\python\\python310\\site-packages (from python-dateutil>=2.8.2->pandas<3.0.0,>=1.0.0->bqplot) (1.16.0)\n",
      "Requirement already satisfied: parso<0.9.0,>=0.8.3 in c:\\users\\mujjabi2\\appdata\\roaming\\python\\python310\\site-packages (from jedi>=0.16->ipython>=6.1.0->ipywidgets<9,>=7.5.0->bqplot) (0.8.3)\n",
      "Requirement already satisfied: wcwidth in c:\\users\\mujjabi2\\appdata\\roaming\\python\\python310\\site-packages (from prompt-toolkit!=3.0.37,<3.1.0,>=3.0.30->ipython>=6.1.0->ipywidgets<9,>=7.5.0->bqplot) (0.2.6)\n",
      "Requirement already satisfied: executing>=1.2.0 in c:\\users\\mujjabi2\\appdata\\roaming\\python\\python310\\site-packages (from stack-data->ipython>=6.1.0->ipywidgets<9,>=7.5.0->bqplot) (1.2.0)\n",
      "Requirement already satisfied: asttokens>=2.1.0 in c:\\users\\mujjabi2\\appdata\\roaming\\python\\python310\\site-packages (from stack-data->ipython>=6.1.0->ipywidgets<9,>=7.5.0->bqplot) (2.2.1)\n",
      "Requirement already satisfied: pure-eval in c:\\users\\mujjabi2\\appdata\\roaming\\python\\python310\\site-packages (from stack-data->ipython>=6.1.0->ipywidgets<9,>=7.5.0->bqplot) (0.2.2)\n",
      "Installing collected packages: traittypes, bqplot\n",
      "Successfully installed bqplot-0.12.40 traittypes-0.2.1\n"
     ]
    },
    {
     "name": "stderr",
     "output_type": "stream",
     "text": [
      "WARNING: You are using pip version 22.0.4; however, version 23.2.1 is available.\n",
      "You should consider upgrading via the 'C:\\Program Files\\Python310\\python.exe -m pip install --upgrade pip' command.\n"
     ]
    }
   ],
   "source": [
    "!pip install bqplot"
   ]
  },
  {
   "cell_type": "code",
   "execution_count": 1,
   "metadata": {},
   "outputs": [
    {
     "data": {
      "application/vnd.jupyter.widget-view+json": {
       "model_id": "a9fff1c63cbe433d9fa467486d5e2c37",
       "version_major": 2,
       "version_minor": 0
      },
      "text/plain": [
       "IntSlider(value=0)"
      ]
     },
     "execution_count": 1,
     "metadata": {},
     "output_type": "execute_result"
    }
   ],
   "source": [
    "import ipywidgets\n",
    "ipywidgets.IntSlider()"
   ]
  },
  {
   "cell_type": "code",
   "execution_count": 2,
   "metadata": {},
   "outputs": [
    {
     "data": {
      "application/vnd.jupyter.widget-view+json": {
       "model_id": "333577e5f13c49cbae44268e36498830",
       "version_major": 2,
       "version_minor": 0
      },
      "text/plain": [
       "interactive(children=(Dropdown(description='name', options=('Weezer', 'Nerf Herder', 'Mustard Plug'), value='W…"
      ]
     },
     "metadata": {},
     "output_type": "display_data"
    }
   ],
   "source": [
    "@ipywidgets.interact(name=['Weezer', 'Nerf Herder', 'Mustard Plug'])\n",
    "def print_bandname(name):\n",
    "    print(\"You selected\", name)"
   ]
  },
  {
   "cell_type": "code",
   "execution_count": 8,
   "metadata": {},
   "outputs": [
    {
     "data": {
      "application/vnd.jupyter.widget-view+json": {
       "model_id": "449d3ec61d3a4f7dafb9436c47fd4246",
       "version_major": 2,
       "version_minor": 0
      },
      "text/plain": [
       "interactive(children=(Dropdown(description='name', options=('Weezer', 'Nerf Herder', 'Mustard Plug'), value='W…"
      ]
     },
     "metadata": {},
     "output_type": "display_data"
    }
   ],
   "source": [
    "@ipywidgets.interact(name=['Weezer', 'Nerf Herder', 'Mustard Plug'],\n",
    "                     repeat_count=(1, 10, 2))\n",
    "def print_band(name, repeat_count):\n",
    "    for i in range(repeat_count):\n",
    "        print(\"You selected\", name)"
   ]
  },
  {
   "cell_type": "code",
   "execution_count": null,
   "metadata": {},
   "outputs": [],
   "source": []
  },
  {
   "cell_type": "code",
   "execution_count": 16,
   "metadata": {},
   "outputs": [],
   "source": [
    "import numpy as np\n",
    "import matplotlib as plt"
   ]
  },
  {
   "cell_type": "code",
   "execution_count": 11,
   "metadata": {},
   "outputs": [],
   "source": [
    "x = np.mgrid[0.0:12:128j]\n",
    "y = np.sin(x)"
   ]
  },
  {
   "cell_type": "code",
   "execution_count": 17,
   "metadata": {},
   "outputs": [
    {
     "ename": "AttributeError",
     "evalue": "module 'matplotlib' has no attribute 'style'",
     "output_type": "error",
     "traceback": [
      "\u001b[1;31m---------------------------------------------------------------------------\u001b[0m",
      "\u001b[1;31mAttributeError\u001b[0m                            Traceback (most recent call last)",
      "\u001b[1;32mc:\\Users\\mujjabi2\\OneDrive - University of Illinois - Urbana\\DevOps Course\\Remote_Repositories\\AWS_Server_Repo\\DevOps\\Python\\IS445_Class_Materials\\Class4.ipynb Cell 29\u001b[0m line \u001b[0;36m1\n\u001b[1;32m----> <a href='vscode-notebook-cell:/c%3A/Users/mujjabi2/OneDrive%20-%20University%20of%20Illinois%20-%20Urbana/DevOps%20Course/Remote_Repositories/AWS_Server_Repo/DevOps/Python/IS445_Class_Materials/Class4.ipynb#X41sZmlsZQ%3D%3D?line=0'>1</a>\u001b[0m \u001b[39m@ipywidgets\u001b[39m\u001b[39m.\u001b[39minteract(style \u001b[39m=\u001b[39m plt\u001b[39m.\u001b[39;49mstyle\u001b[39m.\u001b[39mavailable, stretch \u001b[39m=\u001b[39m (\u001b[39m0.01\u001b[39m, \u001b[39m10.0\u001b[39m, \u001b[39m0.01\u001b[39m))\n\u001b[0;32m      <a href='vscode-notebook-cell:/c%3A/Users/mujjabi2/OneDrive%20-%20University%20of%20Illinois%20-%20Urbana/DevOps%20Course/Remote_Repositories/AWS_Server_Repo/DevOps/Python/IS445_Class_Materials/Class4.ipynb#X41sZmlsZQ%3D%3D?line=1'>2</a>\u001b[0m \u001b[39mdef\u001b[39;00m \u001b[39mmake_plot\u001b[39m(style, stretch):\n\u001b[0;32m      <a href='vscode-notebook-cell:/c%3A/Users/mujjabi2/OneDrive%20-%20University%20of%20Illinois%20-%20Urbana/DevOps%20Course/Remote_Repositories/AWS_Server_Repo/DevOps/Python/IS445_Class_Materials/Class4.ipynb#X41sZmlsZQ%3D%3D?line=2'>3</a>\u001b[0m     \u001b[39mwith\u001b[39;00m plt\u001b[39m.\u001b[39mstyle\u001b[39m.\u001b[39mcontext(style,stretch):\n\u001b[0;32m      <a href='vscode-notebook-cell:/c%3A/Users/mujjabi2/OneDrive%20-%20University%20of%20Illinois%20-%20Urbana/DevOps%20Course/Remote_Repositories/AWS_Server_Repo/DevOps/Python/IS445_Class_Materials/Class4.ipynb#X41sZmlsZQ%3D%3D?line=3'>4</a>\u001b[0m          plt\u001b[39m.\u001b[39mplot(x, np\u001b[39m.\u001b[39msin(stretch\u001b[39m*\u001b[39mx))\n",
      "File \u001b[1;32m~\\AppData\\Roaming\\Python\\Python310\\site-packages\\matplotlib\\_api\\__init__.py:226\u001b[0m, in \u001b[0;36mcaching_module_getattr.<locals>.__getattr__\u001b[1;34m(name)\u001b[0m\n\u001b[0;32m    224\u001b[0m \u001b[39mif\u001b[39;00m name \u001b[39min\u001b[39;00m props:\n\u001b[0;32m    225\u001b[0m     \u001b[39mreturn\u001b[39;00m props[name]\u001b[39m.\u001b[39m\u001b[39m__get__\u001b[39m(instance)\n\u001b[1;32m--> 226\u001b[0m \u001b[39mraise\u001b[39;00m \u001b[39mAttributeError\u001b[39;00m(\n\u001b[0;32m    227\u001b[0m     \u001b[39mf\u001b[39m\u001b[39m\"\u001b[39m\u001b[39mmodule \u001b[39m\u001b[39m{\u001b[39;00m\u001b[39mcls\u001b[39m\u001b[39m.\u001b[39m\u001b[39m__module__\u001b[39m\u001b[39m!r}\u001b[39;00m\u001b[39m has no attribute \u001b[39m\u001b[39m{\u001b[39;00mname\u001b[39m!r}\u001b[39;00m\u001b[39m\"\u001b[39m)\n",
      "\u001b[1;31mAttributeError\u001b[0m: module 'matplotlib' has no attribute 'style'"
     ]
    }
   ],
   "source": [
    "@ipywidgets.interact(style=plt.style.available, stretch=(0.01, 10.0, 0.01))\n",
    "def make_plot(style, stretch):\n",
    "    with plt.style.context(style, stretch):\n",
    "        plt.plot(x, np.sin(stretch*x))\n",
    "        plt.show"
   ]
  },
  {
   "cell_type": "code",
   "execution_count": null,
   "metadata": {},
   "outputs": [],
   "source": []
  },
  {
   "cell_type": "code",
   "execution_count": 21,
   "metadata": {},
   "outputs": [
    {
     "data": {
      "application/vnd.jupyter.widget-view+json": {
       "model_id": "b33d630b6870449596fbb65e1136faea",
       "version_major": 2,
       "version_minor": 0
      },
      "text/plain": [
       "Button(description='Hi , Push me', style=ButtonStyle())"
      ]
     },
     "execution_count": 21,
     "metadata": {},
     "output_type": "execute_result"
    }
   ],
   "source": [
    "button = ipywidgets.Button(description=\"Hi , Push me\")\n",
    "button"
   ]
  },
  {
   "cell_type": "code",
   "execution_count": 22,
   "metadata": {},
   "outputs": [],
   "source": [
    "label = ipywidgets.Label(\"Not clicked\")"
   ]
  },
  {
   "cell_type": "code",
   "execution_count": 23,
   "metadata": {},
   "outputs": [
    {
     "data": {
      "application/vnd.jupyter.widget-view+json": {
       "model_id": "34cfa5bb114245f48d7ececaff5766a0",
       "version_major": 2,
       "version_minor": 0
      },
      "text/plain": [
       "Label(value='Not clicked')"
      ]
     },
     "execution_count": 23,
     "metadata": {},
     "output_type": "execute_result"
    }
   ],
   "source": [
    "label"
   ]
  },
  {
   "cell_type": "code",
   "execution_count": 30,
   "metadata": {},
   "outputs": [],
   "source": [
    "button = ipywidgets.Button(description=\"Hi, Push me\")\n",
    "\n",
    "\n",
    "def click_button(event):\n",
    "    label.value(\"Clicked\")\n",
    "    button.on_click(Click_button)"
   ]
  },
  {
   "cell_type": "code",
   "execution_count": 31,
   "metadata": {},
   "outputs": [
    {
     "data": {
      "application/vnd.jupyter.widget-view+json": {
       "model_id": "809201eff44542a8a1ead2078822998b",
       "version_major": 2,
       "version_minor": 0
      },
      "text/plain": [
       "Button(description='Hi, Push me', style=ButtonStyle())"
      ]
     },
     "execution_count": 31,
     "metadata": {},
     "output_type": "execute_result"
    }
   ],
   "source": [
    "button"
   ]
  },
  {
   "cell_type": "code",
   "execution_count": null,
   "metadata": {},
   "outputs": [],
   "source": []
  },
  {
   "cell_type": "code",
   "execution_count": null,
   "metadata": {},
   "outputs": [],
   "source": []
  }
 ],
 "metadata": {
  "kernelspec": {
   "display_name": "Python 3",
   "language": "python",
   "name": "python3"
  },
  "language_info": {
   "codemirror_mode": {
    "name": "ipython",
    "version": 3
   },
   "file_extension": ".py",
   "mimetype": "text/x-python",
   "name": "python",
   "nbconvert_exporter": "python",
   "pygments_lexer": "ipython3",
   "version": "3.10.4"
  },
  "orig_nbformat": 4
 },
 "nbformat": 4,
 "nbformat_minor": 2
}
