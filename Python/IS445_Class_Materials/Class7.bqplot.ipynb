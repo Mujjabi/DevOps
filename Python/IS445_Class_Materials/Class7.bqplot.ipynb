{
 "cells": [
  {
   "cell_type": "code",
   "execution_count": null,
   "metadata": {
    "tags": []
   },
   "outputs": [
    {
     "name": "stdout",
     "output_type": "stream",
     "text": [
      "Defaulting to user installation because normal site-packages is not writeable\n",
      "Requirement already satisfied: bqplot in c:\\users\\mujjabi2\\appdata\\roaming\\python\\python310\\site-packages (0.12.40)\n",
      "Requirement already satisfied: traitlets>=4.3.0 in c:\\users\\mujjabi2\\appdata\\roaming\\python\\python310\\site-packages (from bqplot) (5.9.0)\n",
      "Requirement already satisfied: traittypes>=0.0.6 in c:\\users\\mujjabi2\\appdata\\roaming\\python\\python310\\site-packages (from bqplot) (0.2.1)\n",
      "Requirement already satisfied: numpy>=1.10.4 in c:\\users\\mujjabi2\\appdata\\roaming\\python\\python310\\site-packages (from bqplot) (1.25.2)\n",
      "Requirement already satisfied: pandas<3.0.0,>=1.0.0 in c:\\users\\mujjabi2\\appdata\\roaming\\python\\python310\\site-packages (from bqplot) (2.0.3)\n",
      "Requirement already satisfied: ipywidgets<9,>=7.5.0 in c:\\users\\mujjabi2\\appdata\\roaming\\python\\python310\\site-packages (from bqplot) (8.1.1)\n",
      "Requirement already satisfied: widgetsnbextension~=4.0.9 in c:\\users\\mujjabi2\\appdata\\roaming\\python\\python310\\site-packages (from ipywidgets<9,>=7.5.0->bqplot) (4.0.9)\n",
      "Requirement already satisfied: comm>=0.1.3 in c:\\users\\mujjabi2\\appdata\\roaming\\python\\python310\\site-packages (from ipywidgets<9,>=7.5.0->bqplot) (0.1.4)\n",
      "Requirement already satisfied: jupyterlab-widgets~=3.0.9 in c:\\users\\mujjabi2\\appdata\\roaming\\python\\python310\\site-packages (from ipywidgets<9,>=7.5.0->bqplot) (3.0.9)\n",
      "Requirement already satisfied: ipython>=6.1.0 in c:\\users\\mujjabi2\\appdata\\roaming\\python\\python310\\site-packages (from ipywidgets<9,>=7.5.0->bqplot) (8.14.0)\n",
      "Requirement already satisfied: pytz>=2020.1 in c:\\users\\mujjabi2\\appdata\\roaming\\python\\python310\\site-packages (from pandas<3.0.0,>=1.0.0->bqplot) (2023.3)\n",
      "Requirement already satisfied: python-dateutil>=2.8.2 in c:\\users\\mujjabi2\\appdata\\roaming\\python\\python310\\site-packages (from pandas<3.0.0,>=1.0.0->bqplot) (2.8.2)\n",
      "Requirement already satisfied: tzdata>=2022.1 in c:\\users\\mujjabi2\\appdata\\roaming\\python\\python310\\site-packages (from pandas<3.0.0,>=1.0.0->bqplot) (2023.3)\n",
      "Requirement already satisfied: prompt-toolkit!=3.0.37,<3.1.0,>=3.0.30 in c:\\users\\mujjabi2\\appdata\\roaming\\python\\python310\\site-packages (from ipython>=6.1.0->ipywidgets<9,>=7.5.0->bqplot) (3.0.39)\n",
      "Requirement already satisfied: backcall in c:\\users\\mujjabi2\\appdata\\roaming\\python\\python310\\site-packages (from ipython>=6.1.0->ipywidgets<9,>=7.5.0->bqplot) (0.2.0)\n",
      "Requirement already satisfied: matplotlib-inline in c:\\users\\mujjabi2\\appdata\\roaming\\python\\python310\\site-packages (from ipython>=6.1.0->ipywidgets<9,>=7.5.0->bqplot) (0.1.6)\n",
      "Requirement already satisfied: jedi>=0.16 in c:\\users\\mujjabi2\\appdata\\roaming\\python\\python310\\site-packages (from ipython>=6.1.0->ipywidgets<9,>=7.5.0->bqplot) (0.19.0)\n",
      "Requirement already satisfied: stack-data in c:\\users\\mujjabi2\\appdata\\roaming\\python\\python310\\site-packages (from ipython>=6.1.0->ipywidgets<9,>=7.5.0->bqplot) (0.6.2)\n",
      "Requirement already satisfied: pygments>=2.4.0 in c:\\users\\mujjabi2\\appdata\\roaming\\python\\python310\\site-packages (from ipython>=6.1.0->ipywidgets<9,>=7.5.0->bqplot) (2.16.1)\n",
      "Requirement already satisfied: colorama in c:\\users\\mujjabi2\\appdata\\roaming\\python\\python310\\site-packages (from ipython>=6.1.0->ipywidgets<9,>=7.5.0->bqplot) (0.4.6)\n",
      "Requirement already satisfied: decorator in c:\\users\\mujjabi2\\appdata\\roaming\\python\\python310\\site-packages (from ipython>=6.1.0->ipywidgets<9,>=7.5.0->bqplot) (5.1.1)\n",
      "Requirement already satisfied: pickleshare in c:\\users\\mujjabi2\\appdata\\roaming\\python\\python310\\site-packages (from ipython>=6.1.0->ipywidgets<9,>=7.5.0->bqplot) (0.7.5)\n",
      "Requirement already satisfied: six>=1.5 in c:\\users\\mujjabi2\\appdata\\roaming\\python\\python310\\site-packages (from python-dateutil>=2.8.2->pandas<3.0.0,>=1.0.0->bqplot) (1.16.0)\n",
      "Requirement already satisfied: parso<0.9.0,>=0.8.3 in c:\\users\\mujjabi2\\appdata\\roaming\\python\\python310\\site-packages (from jedi>=0.16->ipython>=6.1.0->ipywidgets<9,>=7.5.0->bqplot) (0.8.3)\n",
      "Requirement already satisfied: wcwidth in c:\\users\\mujjabi2\\appdata\\roaming\\python\\python310\\site-packages (from prompt-toolkit!=3.0.37,<3.1.0,>=3.0.30->ipython>=6.1.0->ipywidgets<9,>=7.5.0->bqplot) (0.2.6)\n",
      "Requirement already satisfied: executing>=1.2.0 in c:\\users\\mujjabi2\\appdata\\roaming\\python\\python310\\site-packages (from stack-data->ipython>=6.1.0->ipywidgets<9,>=7.5.0->bqplot) (1.2.0)\n",
      "Requirement already satisfied: pure-eval in c:\\users\\mujjabi2\\appdata\\roaming\\python\\python310\\site-packages (from stack-data->ipython>=6.1.0->ipywidgets<9,>=7.5.0->bqplot) (0.2.2)\n",
      "Requirement already satisfied: asttokens>=2.1.0 in c:\\users\\mujjabi2\\appdata\\roaming\\python\\python310\\site-packages (from stack-data->ipython>=6.1.0->ipywidgets<9,>=7.5.0->bqplot) (2.2.1)\n",
      "Note: you may need to restart the kernel to use updated packages.\n"
     ]
    },
    {
     "name": "stderr",
     "output_type": "stream",
     "text": [
      "WARNING: You are using pip version 22.0.4; however, version 23.2.1 is available.\n",
      "You should consider upgrading via the 'c:\\Program Files\\Python310\\python.exe -m pip install --upgrade pip' command.\n"
     ]
    }
   ],
   "source": [
    "# pip install bqplot"
   ]
  },
  {
   "cell_type": "code",
   "execution_count": 2,
   "metadata": {
    "tags": []
   },
   "outputs": [],
   "source": [
    "import bqplot\n",
    "import numpy as np\n",
    "import ipywidgets\n",
    "import pandas as pd"
   ]
  },
  {
   "cell_type": "code",
   "execution_count": 3,
   "metadata": {
    "tags": []
   },
   "outputs": [],
   "source": [
    "counties = pd.read_csv(\n",
    "    \"https://raw.githubusercontent.com/nytimes/covid-19-data/master/us-counties.csv\", parse_dates=[\"date\"])"
   ]
  },
  {
   "cell_type": "code",
   "execution_count": 4,
   "metadata": {
    "tags": []
   },
   "outputs": [],
   "source": [
    "States = pd.read_csv(\n",
    "    \"https://raw.githubusercontent.com/nytimes/covid-19-data/master/us-states.csv\", parse_dates=[\"date\"])"
   ]
  },
  {
   "cell_type": "code",
   "execution_count": 5,
   "metadata": {
    "tags": []
   },
   "outputs": [
    {
     "data": {
      "text/plain": [
       "date      datetime64[ns]\n",
       "county            object\n",
       "state             object\n",
       "fips             float64\n",
       "cases              int64\n",
       "deaths           float64\n",
       "dtype: object"
      ]
     },
     "execution_count": 5,
     "metadata": {},
     "output_type": "execute_result"
    }
   ],
   "source": [
    "counties.dtypes"
   ]
  },
  {
   "cell_type": "code",
   "execution_count": 7,
   "metadata": {
    "tags": []
   },
   "outputs": [
    {
     "data": {
      "text/html": [
       "<div>\n",
       "<style scoped>\n",
       "    .dataframe tbody tr th:only-of-type {\n",
       "        vertical-align: middle;\n",
       "    }\n",
       "\n",
       "    .dataframe tbody tr th {\n",
       "        vertical-align: top;\n",
       "    }\n",
       "\n",
       "    .dataframe thead th {\n",
       "        text-align: right;\n",
       "    }\n",
       "</style>\n",
       "<table border=\"1\" class=\"dataframe\">\n",
       "  <thead>\n",
       "    <tr style=\"text-align: right;\">\n",
       "      <th></th>\n",
       "      <th>date</th>\n",
       "      <th>state</th>\n",
       "      <th>fips</th>\n",
       "      <th>cases</th>\n",
       "      <th>deaths</th>\n",
       "    </tr>\n",
       "  </thead>\n",
       "  <tbody>\n",
       "    <tr>\n",
       "      <th>3</th>\n",
       "      <td>2020-01-24</td>\n",
       "      <td>Illinois</td>\n",
       "      <td>17</td>\n",
       "      <td>1</td>\n",
       "      <td>0</td>\n",
       "    </tr>\n",
       "    <tr>\n",
       "      <th>6</th>\n",
       "      <td>2020-01-25</td>\n",
       "      <td>Illinois</td>\n",
       "      <td>17</td>\n",
       "      <td>1</td>\n",
       "      <td>0</td>\n",
       "    </tr>\n",
       "    <tr>\n",
       "      <th>10</th>\n",
       "      <td>2020-01-26</td>\n",
       "      <td>Illinois</td>\n",
       "      <td>17</td>\n",
       "      <td>1</td>\n",
       "      <td>0</td>\n",
       "    </tr>\n",
       "    <tr>\n",
       "      <th>14</th>\n",
       "      <td>2020-01-27</td>\n",
       "      <td>Illinois</td>\n",
       "      <td>17</td>\n",
       "      <td>1</td>\n",
       "      <td>0</td>\n",
       "    </tr>\n",
       "    <tr>\n",
       "      <th>18</th>\n",
       "      <td>2020-01-28</td>\n",
       "      <td>Illinois</td>\n",
       "      <td>17</td>\n",
       "      <td>1</td>\n",
       "      <td>0</td>\n",
       "    </tr>\n",
       "    <tr>\n",
       "      <th>...</th>\n",
       "      <td>...</td>\n",
       "      <td>...</td>\n",
       "      <td>...</td>\n",
       "      <td>...</td>\n",
       "      <td>...</td>\n",
       "    </tr>\n",
       "    <tr>\n",
       "      <th>61677</th>\n",
       "      <td>2023-03-19</td>\n",
       "      <td>Illinois</td>\n",
       "      <td>17</td>\n",
       "      <td>4099400</td>\n",
       "      <td>41573</td>\n",
       "    </tr>\n",
       "    <tr>\n",
       "      <th>61733</th>\n",
       "      <td>2023-03-20</td>\n",
       "      <td>Illinois</td>\n",
       "      <td>17</td>\n",
       "      <td>4099448</td>\n",
       "      <td>41573</td>\n",
       "    </tr>\n",
       "    <tr>\n",
       "      <th>61789</th>\n",
       "      <td>2023-03-21</td>\n",
       "      <td>Illinois</td>\n",
       "      <td>17</td>\n",
       "      <td>4099448</td>\n",
       "      <td>41573</td>\n",
       "    </tr>\n",
       "    <tr>\n",
       "      <th>61845</th>\n",
       "      <td>2023-03-22</td>\n",
       "      <td>Illinois</td>\n",
       "      <td>17</td>\n",
       "      <td>4099448</td>\n",
       "      <td>41573</td>\n",
       "    </tr>\n",
       "    <tr>\n",
       "      <th>61901</th>\n",
       "      <td>2023-03-23</td>\n",
       "      <td>Illinois</td>\n",
       "      <td>17</td>\n",
       "      <td>4107931</td>\n",
       "      <td>41618</td>\n",
       "    </tr>\n",
       "  </tbody>\n",
       "</table>\n",
       "<p>1155 rows × 5 columns</p>\n",
       "</div>"
      ],
      "text/plain": [
       "            date     state  fips    cases  deaths\n",
       "3     2020-01-24  Illinois    17        1       0\n",
       "6     2020-01-25  Illinois    17        1       0\n",
       "10    2020-01-26  Illinois    17        1       0\n",
       "14    2020-01-27  Illinois    17        1       0\n",
       "18    2020-01-28  Illinois    17        1       0\n",
       "...          ...       ...   ...      ...     ...\n",
       "61677 2023-03-19  Illinois    17  4099400   41573\n",
       "61733 2023-03-20  Illinois    17  4099448   41573\n",
       "61789 2023-03-21  Illinois    17  4099448   41573\n",
       "61845 2023-03-22  Illinois    17  4099448   41573\n",
       "61901 2023-03-23  Illinois    17  4107931   41618\n",
       "\n",
       "[1155 rows x 5 columns]"
      ]
     },
     "execution_count": 7,
     "metadata": {},
     "output_type": "execute_result"
    }
   ],
   "source": [
    "Illinois = States[States[\"state\"] == \"Illinois\"]\n",
    "Illinois"
   ]
  },
  {
   "cell_type": "code",
   "execution_count": 8,
   "metadata": {
    "tags": []
   },
   "outputs": [
    {
     "data": {
      "text/plain": [
       "3        False\n",
       "6        False\n",
       "10       False\n",
       "14       False\n",
       "18        True\n",
       "         ...  \n",
       "61677    False\n",
       "61733    False\n",
       "61789    False\n",
       "61845    False\n",
       "61901    False\n",
       "Name: date, Length: 1155, dtype: bool"
      ]
     },
     "execution_count": 8,
     "metadata": {},
     "output_type": "execute_result"
    }
   ],
   "source": [
    "Illinois[\"date\"] == \"January 28, 2020\""
   ]
  },
  {
   "cell_type": "code",
   "execution_count": 9,
   "metadata": {
    "tags": []
   },
   "outputs": [
    {
     "data": {
      "application/vnd.jupyter.widget-view+json": {
       "model_id": "1c92029f122f470997abf81f590dc52e",
       "version_major": 2,
       "version_minor": 0
      },
      "text/plain": [
       "Figure(axes=[Axis(label='Date', scale=DateScale()), Axis(label='Cases (cumulative)', orientation='vertical', s…"
      ]
     },
     "metadata": {},
     "output_type": "display_data"
    }
   ],
   "source": [
    "x_sc = bqplot.DateScale()\n",
    "y_sc = bqplot.LinearScale()\n",
    "\n",
    "x_ax = bqplot.Axis(scale=x_sc, label=\"Date\")\n",
    "y_ax = bqplot.Axis(scale=y_sc, label=\"Cases (cumulative)\",\n",
    "                   orientation=\"vertical\")\n",
    "\n",
    "lines = bqplot.Lines(x=Illinois[\"date\"], y=Illinois[\"cases\"],\n",
    "                     scales={'x': x_sc, 'y': y_sc})\n",
    "fig = bqplot.Figure(marks=[lines], axes=[x_ax, y_ax])\n",
    "display(fig)"
   ]
  },
  {
   "cell_type": "code",
   "execution_count": 10,
   "metadata": {
    "tags": []
   },
   "outputs": [
    {
     "data": {
      "application/vnd.jupyter.widget-view+json": {
       "model_id": "640f7e2f8be747c397525cff1444dc2f",
       "version_major": 2,
       "version_minor": 0
      },
      "text/plain": [
       "Figure(axes=[Axis(label='Date', scale=DateScale()), Axis(label='Cases (cumulative)', orientation='vertical', s…"
      ]
     },
     "metadata": {},
     "output_type": "display_data"
    }
   ],
   "source": [
    "x_sc = bqplot.DateScale()\n",
    "y_sc = bqplot.LinearScale()\n",
    "\n",
    "x_ax = bqplot.Axis(scale=x_sc, label=\"Date\")\n",
    "y_ax = bqplot.Axis(scale=y_sc, label=\"Cases (cumulative)\",\n",
    "                   orientation=\"vertical\")\n",
    "\n",
    "lines = bqplot.Lines(x=Illinois[\"date\"], y=Illinois[\"cases\"],\n",
    "                     scales={'x': x_sc, 'y': y_sc})\n",
    "\n",
    "date_selection = bqplot.interacts.FastIntervalSelector(scale=x_sc)\n",
    "\n",
    "fig = bqplot.Figure(marks=[lines], axes=[x_ax, y_ax],\n",
    "                    interaction=date_selection)\n",
    "display(fig)"
   ]
  },
  {
   "cell_type": "code",
   "execution_count": null,
   "metadata": {
    "tags": []
   },
   "outputs": [],
   "source": [
    "date_selection.selected"
   ]
  },
  {
   "cell_type": "code",
   "execution_count": null,
   "metadata": {
    "tags": []
   },
   "outputs": [],
   "source": [
    "import ipywidgets"
   ]
  },
  {
   "cell_type": "code",
   "execution_count": 58,
   "metadata": {
    "tags": []
   },
   "outputs": [
    {
     "data": {
      "application/vnd.jupyter.widget-view+json": {
       "model_id": "36e59037481e46fcb6cc6571a8fc5f01",
       "version_major": 2,
       "version_minor": 0
      },
      "text/plain": [
       "Label(value='')"
      ]
     },
     "metadata": {},
     "output_type": "display_data"
    }
   ],
   "source": [
    "label = ipywidgets.Label()\n",
    "display(label)"
   ]
  },
  {
   "cell_type": "code",
   "execution_count": 59,
   "metadata": {
    "tags": []
   },
   "outputs": [],
   "source": [
    "def watch_selection(change):\n",
    "    label.value = \"Going from %s to %s\" % (change[\"new\"][0], change[\"new\"][1])\n",
    "    date_selection.unobserve_all()\n",
    "    date_selection.observe(watch_selection, [\"selected\"])"
   ]
  },
  {
   "cell_type": "code",
   "execution_count": 51,
   "metadata": {
    "tags": []
   },
   "outputs": [],
   "source": []
  },
  {
   "cell_type": "code",
   "execution_count": 20,
   "metadata": {
    "tags": []
   },
   "outputs": [
    {
     "data": {
      "text/html": [
       "<div>\n",
       "<style scoped>\n",
       "    .dataframe tbody tr th:only-of-type {\n",
       "        vertical-align: middle;\n",
       "    }\n",
       "\n",
       "    .dataframe tbody tr th {\n",
       "        vertical-align: top;\n",
       "    }\n",
       "\n",
       "    .dataframe thead th {\n",
       "        text-align: right;\n",
       "    }\n",
       "</style>\n",
       "<table border=\"1\" class=\"dataframe\">\n",
       "  <thead>\n",
       "    <tr style=\"text-align: right;\">\n",
       "      <th></th>\n",
       "      <th>state</th>\n",
       "      <th>fips</th>\n",
       "      <th>cases</th>\n",
       "      <th>deaths</th>\n",
       "    </tr>\n",
       "    <tr>\n",
       "      <th>date</th>\n",
       "      <th></th>\n",
       "      <th></th>\n",
       "      <th></th>\n",
       "      <th></th>\n",
       "    </tr>\n",
       "  </thead>\n",
       "  <tbody>\n",
       "    <tr>\n",
       "      <th>2020-01-24</th>\n",
       "      <td>Illinois</td>\n",
       "      <td>17</td>\n",
       "      <td>1</td>\n",
       "      <td>0</td>\n",
       "    </tr>\n",
       "    <tr>\n",
       "      <th>2020-01-25</th>\n",
       "      <td>Illinois</td>\n",
       "      <td>17</td>\n",
       "      <td>1</td>\n",
       "      <td>0</td>\n",
       "    </tr>\n",
       "    <tr>\n",
       "      <th>2020-01-26</th>\n",
       "      <td>Illinois</td>\n",
       "      <td>17</td>\n",
       "      <td>1</td>\n",
       "      <td>0</td>\n",
       "    </tr>\n",
       "    <tr>\n",
       "      <th>2020-01-27</th>\n",
       "      <td>Illinois</td>\n",
       "      <td>17</td>\n",
       "      <td>1</td>\n",
       "      <td>0</td>\n",
       "    </tr>\n",
       "    <tr>\n",
       "      <th>2020-01-28</th>\n",
       "      <td>Illinois</td>\n",
       "      <td>17</td>\n",
       "      <td>1</td>\n",
       "      <td>0</td>\n",
       "    </tr>\n",
       "    <tr>\n",
       "      <th>...</th>\n",
       "      <td>...</td>\n",
       "      <td>...</td>\n",
       "      <td>...</td>\n",
       "      <td>...</td>\n",
       "    </tr>\n",
       "    <tr>\n",
       "      <th>2023-03-19</th>\n",
       "      <td>Illinois</td>\n",
       "      <td>17</td>\n",
       "      <td>4099400</td>\n",
       "      <td>41573</td>\n",
       "    </tr>\n",
       "    <tr>\n",
       "      <th>2023-03-20</th>\n",
       "      <td>Illinois</td>\n",
       "      <td>17</td>\n",
       "      <td>4099448</td>\n",
       "      <td>41573</td>\n",
       "    </tr>\n",
       "    <tr>\n",
       "      <th>2023-03-21</th>\n",
       "      <td>Illinois</td>\n",
       "      <td>17</td>\n",
       "      <td>4099448</td>\n",
       "      <td>41573</td>\n",
       "    </tr>\n",
       "    <tr>\n",
       "      <th>2023-03-22</th>\n",
       "      <td>Illinois</td>\n",
       "      <td>17</td>\n",
       "      <td>4099448</td>\n",
       "      <td>41573</td>\n",
       "    </tr>\n",
       "    <tr>\n",
       "      <th>2023-03-23</th>\n",
       "      <td>Illinois</td>\n",
       "      <td>17</td>\n",
       "      <td>4107931</td>\n",
       "      <td>41618</td>\n",
       "    </tr>\n",
       "  </tbody>\n",
       "</table>\n",
       "<p>1155 rows × 4 columns</p>\n",
       "</div>"
      ],
      "text/plain": [
       "               state  fips    cases  deaths\n",
       "date                                       \n",
       "2020-01-24  Illinois    17        1       0\n",
       "2020-01-25  Illinois    17        1       0\n",
       "2020-01-26  Illinois    17        1       0\n",
       "2020-01-27  Illinois    17        1       0\n",
       "2020-01-28  Illinois    17        1       0\n",
       "...              ...   ...      ...     ...\n",
       "2023-03-19  Illinois    17  4099400   41573\n",
       "2023-03-20  Illinois    17  4099448   41573\n",
       "2023-03-21  Illinois    17  4099448   41573\n",
       "2023-03-22  Illinois    17  4099448   41573\n",
       "2023-03-23  Illinois    17  4107931   41618\n",
       "\n",
       "[1155 rows x 4 columns]"
      ]
     },
     "execution_count": 20,
     "metadata": {},
     "output_type": "execute_result"
    }
   ],
   "source": [
    "Illinois"
   ]
  },
  {
   "cell_type": "code",
   "execution_count": null,
   "metadata": {
    "tags": []
   },
   "outputs": [
    {
     "ename": "TypeError",
     "evalue": "'NoneType' object is not subscriptable",
     "output_type": "error",
     "traceback": [
      "\u001b[1;31m---------------------------------------------------------------------------\u001b[0m",
      "\u001b[1;31mTypeError\u001b[0m                                 Traceback (most recent call last)",
      "\u001b[1;32mc:\\Users\\mujjabi2\\OneDrive - University of Illinois - Urbana\\DevOps_Course\\Remote_Repositories\\AWS_Server_Repo\\DevOps\\Python\\IS445_Class_Materials\\Class7.bqplot.ipynb Cell 16\u001b[0m line \u001b[0;36m1\n\u001b[1;32m----> <a href='vscode-notebook-cell:/c%3A/Users/mujjabi2/OneDrive%20-%20University%20of%20Illinois%20-%20Urbana/DevOps_Course/Remote_Repositories/AWS_Server_Repo/DevOps/Python/IS445_Class_Materials/Class7.bqplot.ipynb#Y135sZmlsZQ%3D%3D?line=0'>1</a>\u001b[0m in_range \u001b[39m=\u001b[39m ((Illinois[\u001b[39m\"\u001b[39m\u001b[39mdate\u001b[39m\u001b[39m\"\u001b[39m] \u001b[39m<\u001b[39m date_selection\u001b[39m.\u001b[39;49mselected[\u001b[39m1\u001b[39;49m])\n\u001b[0;32m      <a href='vscode-notebook-cell:/c%3A/Users/mujjabi2/OneDrive%20-%20University%20of%20Illinois%20-%20Urbana/DevOps_Course/Remote_Repositories/AWS_Server_Repo/DevOps/Python/IS445_Class_Materials/Class7.bqplot.ipynb#Y135sZmlsZQ%3D%3D?line=1'>2</a>\u001b[0m             \u001b[39m&\u001b[39m (Illinois[\u001b[39m\"\u001b[39m\u001b[39mdate\u001b[39m\u001b[39m\"\u001b[39m] \u001b[39m>\u001b[39m date_selection\u001b[39m.\u001b[39mselected[\u001b[39m0\u001b[39m]))\n",
      "\u001b[1;31mTypeError\u001b[0m: 'NoneType' object is not subscriptable"
     ]
    }
   ],
   "source": [
    "in_range = ((Illinois[\"date\"] < date_selection.selected[1])\n",
    "            & (Illinois[\"date\"] > date_selection.selected[0]))"
   ]
  },
  {
   "cell_type": "code",
   "execution_count": 23,
   "metadata": {
    "tags": []
   },
   "outputs": [],
   "source": [
    "from bqplot import topo_load"
   ]
  },
  {
   "cell_type": "code",
   "execution_count": 62,
   "metadata": {
    "tags": []
   },
   "outputs": [],
   "source": [
    "state_map = bqplot.topo_load(\"map_data/USStatesMap.json\")"
   ]
  },
  {
   "cell_type": "code",
   "execution_count": 63,
   "metadata": {
    "tags": []
   },
   "outputs": [],
   "source": [
    "cases_by_fips = States.groupby(\"fips\")[\"cases\"].max().to_dict()"
   ]
  },
  {
   "cell_type": "code",
   "execution_count": 64,
   "metadata": {
    "tags": []
   },
   "outputs": [
    {
     "data": {
      "application/vnd.jupyter.widget-view+json": {
       "model_id": "e4fa622e15244c5eaac725818c6abb8b",
       "version_major": 2,
       "version_minor": 0
      },
      "text/plain": [
       "Figure(axes=[ColorAxis(scale=ColorScale(scheme='BuPu'))], fig_margin={'top': 60, 'bottom': 60, 'left': 60, 'ri…"
      ]
     },
     "metadata": {},
     "output_type": "display_data"
    }
   ],
   "source": [
    "proj = bqplot.AlbersUSA()\n",
    "color_sc = bqplot.ColorScale(scheme=\"BuPu\")\n",
    "color_ax = bqplot.ColorAxis(scale=color_sc)\n",
    "map_mark = bqplot.Map(map_data=state_map, color=cases_by_fips,\n",
    "                      scales={'projection': proj,\n",
    "                              'color': color_sc})\n",
    "fig = bqplot.Figure(marks=[map_mark], axes=[color_ax])\n",
    "display(fig)"
   ]
  },
  {
   "cell_type": "code",
   "execution_count": null,
   "metadata": {
    "tags": []
   },
   "outputs": [
    {
     "data": {
      "application/vnd.jupyter.widget-view+json": {
       "model_id": "77261a3568b5459891682dffb11776f8",
       "version_major": 2,
       "version_minor": 0
      },
      "text/plain": [
       "Label(value='')"
      ]
     },
     "metadata": {},
     "output_type": "display_data"
    }
   ],
   "source": [
    "label2 = ipywidgets.Label()\n",
    "display(label2)"
   ]
  },
  {
   "cell_type": "code",
   "execution_count": 66,
   "metadata": {
    "tags": []
   },
   "outputs": [],
   "source": [
    "def hover_over_state(name, hover_info):\n",
    "    label2.value = \"%s had %s cases\" % (\n",
    "        hover_info['data']['name'], hover_info['data']['color'])\n",
    "\n",
    "\n",
    "map_mark.on_hover(hover_over_state)"
   ]
  },
  {
   "cell_type": "code",
   "execution_count": 67,
   "metadata": {
    "tags": []
   },
   "outputs": [
    {
     "data": {
      "application/vnd.jupyter.widget-view+json": {
       "model_id": "47e088c2d8764e6596f581c96d21172d",
       "version_major": 2,
       "version_minor": 0
      },
      "text/plain": [
       "VBox(children=(Figure(axes=[Axis(label='Date', scale=DateScale()), Axis(label='Cases (cumulative)', orientatio…"
      ]
     },
     "execution_count": 67,
     "metadata": {},
     "output_type": "execute_result"
    }
   ],
   "source": [
    "x_sc = bqplot.DateScale()\n",
    "y_sc = bqplot.LinearScale()\n",
    "\n",
    "x_ax = bqplot.Axis(scale=x_sc, label=\"Date\")\n",
    "y_ax = bqplot.Axis(scale=y_sc, label=\"Cases (cumulative)\",\n",
    "                   orientation=\"vertical\")\n",
    "\n",
    "lines = bqplot.Lines(x=Illinois[\"date\"], y=Illinois[\"cases\"],\n",
    "                     scales={'x': x_sc, 'y': y_sc})\n",
    "date_selection = bqplot.interacts.FastIntervalSelector(scale=x_sc)\n",
    "\n",
    "line_fig = bqplot.Figure(marks=[lines], axes=[x_ax, y_ax],\n",
    "                         interaction=date_selection)\n",
    "\n",
    "\n",
    "proj = bqplot.AlbersUSA()\n",
    "color_sc = bqplot.ColorScale(scheme=\"BuPu\")\n",
    "color_ax = bqplot.ColorAxis(scale=color_sc)\n",
    "map_mark = bqplot.Map(map_data=state_map, color=cases_by_fips,\n",
    "                      scales={'projection': proj,\n",
    "                              'color': color_sc}\n",
    "                      )\n",
    "map_fig = bqplot.Figure(marks=[map_mark], axes=[color_ax])\n",
    "ipywidgets.VBox([\n",
    "    line_fig,\n",
    "    map_fig\n",
    "])"
   ]
  },
  {
   "cell_type": "code",
   "execution_count": 70,
   "metadata": {},
   "outputs": [],
   "source": [
    "line_fig.layout.height = \"250px\"\n",
    "map_fig.layout.height = '400px'"
   ]
  }
 ],
 "metadata": {
  "kernelspec": {
   "display_name": "Python 3 (ipykernel)",
   "language": "python",
   "name": "python3"
  },
  "language_info": {
   "codemirror_mode": {
    "name": "ipython",
    "version": 3
   },
   "file_extension": ".py",
   "mimetype": "text/x-python",
   "name": "python",
   "nbconvert_exporter": "python",
   "pygments_lexer": "ipython3",
   "version": "3.10.4"
  }
 },
 "nbformat": 4,
 "nbformat_minor": 4
}
