{
 "cells": [
  {
   "cell_type": "markdown",
   "id": "7b79d42f",
   "metadata": {},
   "source": [
    "# Introduction to Jupyter Notebook and Python\n",
    "I will be practicing all my python and jupyter notebook here. \n",
    "\n",
    "We will look at variables, conditional statements as we learn python sytax"
   ]
  },
  {
   "cell_type": "markdown",
   "id": "21f4df36",
   "metadata": {},
   "source": [
    "## Print command\n",
    "You can tell python to print a specific sentence or statment using the print command as shown below.\n",
    "You can do this using the single quote or the double quote. \n",
    "\n",
    "If there is any error in the syntax, an error message will be shown describing the error and what exactly you need to do to solve the error."
   ]
  },
  {
   "cell_type": "code",
   "execution_count": 1,
   "id": "9a752ddb",
   "metadata": {},
   "outputs": [
    {
     "name": "stdout",
     "output_type": "stream",
     "text": [
      "im here to learn python\n"
     ]
    }
   ],
   "source": [
    "print('im here to learn python')"
   ]
  },
  {
   "cell_type": "code",
   "execution_count": 6,
   "id": "f61d755c",
   "metadata": {},
   "outputs": [
    {
     "name": "stdout",
     "output_type": "stream",
     "text": [
      "Hello Miles Musajja wa Kabaka\n"
     ]
    }
   ],
   "source": [
    "print(\"Hello Miles Musajja wa Kabaka\")"
   ]
  },
  {
   "cell_type": "code",
   "execution_count": null,
   "id": "84c8e3cb",
   "metadata": {},
   "outputs": [
    {
     "name": "stdout",
     "output_type": "stream",
     "text": [
      "Hello Miles Musajja wa Kabaka\n"
     ]
    }
   ],
   "source": [
    "print(\"Hello Miles Musajja wa Kabaka\")"
   ]
  },
  {
   "cell_type": "markdown",
   "id": "5c5212e3",
   "metadata": {},
   "source": [
    "## Variables\n",
    "\n",
    "This is when you assign a certain value, a number to a charater. forexample a = 2, f =5. "
   ]
  },
  {
   "cell_type": "code",
   "execution_count": 4,
   "id": "386584ab",
   "metadata": {},
   "outputs": [],
   "source": [
    "a = 2\n",
    "b = 4\n",
    "c = 5\n",
    "d = a + b\n",
    "f = b  # F refers to the value of b, and not the variable a"
   ]
  },
  {
   "cell_type": "code",
   "execution_count": 7,
   "id": "43f0d041",
   "metadata": {},
   "outputs": [
    {
     "name": "stdout",
     "output_type": "stream",
     "text": [
      "10\n",
      "6\n"
     ]
    }
   ],
   "source": [
    "print(a * c)\n",
    "\n",
    "print(a + b)"
   ]
  },
  {
   "cell_type": "markdown",
   "id": "4dfb7ef2",
   "metadata": {},
   "source": [
    "## A string\n",
    "This is similar to a variable, however, you assign a command or a statement/sentence to a certain character. The statement is the string. \n"
   ]
  },
  {
   "cell_type": "code",
   "execution_count": 9,
   "id": "b89b888d",
   "metadata": {},
   "outputs": [
    {
     "name": "stdout",
     "output_type": "stream",
     "text": [
      "Hello World I love python\n"
     ]
    }
   ],
   "source": [
    "G = \"Hello World\"\n",
    "F = \"I love python\"\n",
    "print(G, F)"
   ]
  },
  {
   "cell_type": "markdown",
   "id": "be18a894",
   "metadata": {},
   "source": [
    "## If Else Statement\n",
    "This can be used to make conditional statements as shown below"
   ]
  },
  {
   "cell_type": "code",
   "execution_count": 16,
   "id": "b326b554",
   "metadata": {},
   "outputs": [
    {
     "name": "stdout",
     "output_type": "stream",
     "text": [
      "Nashea\n",
      "Needs to eat more food\n"
     ]
    }
   ],
   "source": [
    "names = [\"Izzy\", \"Miles\", \"Chris\", \"Nashea\"]\n",
    "scores = {\"Izzy\": 10, \"Miles\": 9.5, \"Nashea\": 8.6, \"Chris\": 11.2}\n",
    "for name in names:\n",
    "    score = scores[name]\n",
    "\n",
    "if score < 11:\n",
    "    print(name)\n",
    "    print(\"Needs to eat more food\")\n",
    "else:\n",
    "    print(name)\n",
    "    print(\"Need to pass on some meals\")"
   ]
  },
  {
   "cell_type": "code",
   "execution_count": 18,
   "id": "37d64dbf",
   "metadata": {},
   "outputs": [
    {
     "name": "stdout",
     "output_type": "stream",
     "text": [
      "Names that need to eat more food:\n",
      "Izzy\n",
      "Miles\n",
      "Nashea\n"
     ]
    }
   ],
   "source": [
    "names = [\"Izzy\", \"Miles\", \"Chris\", \"Nashea\"]\n",
    "scores = {\"Izzy\": 10, \"Miles\": 9.5, \"Nashea\": 8.6, \"Chris\": 11.2}\n",
    "\n",
    "names_needs_food = []\n",
    "\n",
    "for name in names:\n",
    "    score = scores[name]\n",
    "    if score < 11:\n",
    "        names_needs_food.append(name)\n",
    "\n",
    "print(\"Names that need to eat more food:\")\n",
    "for name in names_needs_food:\n",
    "    print(name)"
   ]
  },
  {
   "cell_type": "markdown",
   "id": "b83ea5db",
   "metadata": {},
   "source": [
    " \n"
   ]
  },
  {
   "cell_type": "code",
   "execution_count": null,
   "id": "e18f790d",
   "metadata": {},
   "outputs": [],
   "source": []
  }
 ],
 "metadata": {
  "kernelspec": {
   "display_name": "Python 3 (ipykernel)",
   "language": "python",
   "name": "python3"
  },
  "language_info": {
   "codemirror_mode": {
    "name": "ipython",
    "version": 3
   },
   "file_extension": ".py",
   "mimetype": "text/x-python",
   "name": "python",
   "nbconvert_exporter": "python",
   "pygments_lexer": "ipython3",
   "version": "3.10.4"
  }
 },
 "nbformat": 4,
 "nbformat_minor": 5
}
